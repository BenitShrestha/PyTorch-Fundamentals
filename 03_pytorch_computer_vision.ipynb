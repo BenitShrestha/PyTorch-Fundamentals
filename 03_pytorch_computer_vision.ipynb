{
 "cells": [
  {
   "cell_type": "markdown",
   "id": "2c094dd0",
   "metadata": {},
   "source": [
    "### **PyTorch Computer Vision**\n",
    "\n",
    "Libraries\n",
    "- `torchvision` : Base domain for PyTorch Computer Vision\n",
    "\n",
    "- `torchvision.datasets` : Get datasets and data loading function for computer vision\n",
    "\n",
    "- `torchvision.models` : Get pretrained computer vision models\n",
    "\n",
    "- `torchvision.transforms` : Function for manipulating your data to be suitable for computer vision models\n",
    "\n",
    "- `torch.utils.data.Dataset` : Base dataset class for PyTorch\n",
    "\n",
    "- `torch.utils.data.DataLoader` : Creates a Python iterable over a dataset"
   ]
  },
  {
   "cell_type": "code",
   "execution_count": 2,
   "id": "c16ead46",
   "metadata": {},
   "outputs": [
    {
     "name": "stdout",
     "output_type": "stream",
     "text": [
      "Torch Version: 2.4.1\n",
      "TorchVision Version: 0.19.1\n"
     ]
    }
   ],
   "source": [
    "# Import Dependencies\n",
    "import torch\n",
    "from torch import nn\n",
    "\n",
    "import torchvision\n",
    "from torchvision import datasets \n",
    "from torchvision import transforms\n",
    "from torchvision.transforms import ToTensor \n",
    "\n",
    "import matplotlib.pyplot as plt\n",
    "\n",
    "print(f'Torch Version: {torch.__version__}\\nTorchVision Version: {torchvision.__version__}')"
   ]
  },
  {
   "cell_type": "markdown",
   "id": "f399272a",
   "metadata": {},
   "source": [
    "### **1. Getting a Dataset**\n",
    "\n",
    "The dataset is Fashion MNIST - Grayscale images of clothing\n",
    "\n",
    "Imagenet dataset"
   ]
  },
  {
   "cell_type": "code",
   "execution_count": 3,
   "id": "18d01017",
   "metadata": {},
   "outputs": [],
   "source": [
    "# Setup training data\n",
    "\n",
    "train_data = datasets.FashionMNIST(\n",
    "    root='Datasets', # Where to download\n",
    "    train=True, # Train or Test data\n",
    "    download=True,\n",
    "    transform=torchvision.transforms.ToTensor(), # Converts to `data` tensor\n",
    "    target_transform=None # To transform the `target` or `label`\n",
    ")\n",
    "\n",
    "test_data = datasets.FashionMNIST(root='Datasets',\n",
    "                                  train=False,\n",
    "                                  download=True,\n",
    "                                  transform=ToTensor(),\n",
    "                                  target_transform=None)\n",
    "\n",
    "# ToTensor() converts Python Image Library (PIL) or numpy.ndarray to tensor\n",
    "# H*W*C -> C*H*W, Range of [0.0, 1.0]"
   ]
  },
  {
   "cell_type": "code",
   "execution_count": 4,
   "id": "91517bae",
   "metadata": {},
   "outputs": [
    {
     "data": {
      "text/plain": [
       "(60000, 10000)"
      ]
     },
     "execution_count": 4,
     "metadata": {},
     "output_type": "execute_result"
    }
   ],
   "source": [
    "len(train_data), len(test_data)"
   ]
  },
  {
   "cell_type": "code",
   "execution_count": 5,
   "id": "d123c7b8",
   "metadata": {},
   "outputs": [
    {
     "data": {
      "text/plain": [
       "['T-shirt/top',\n",
       " 'Trouser',\n",
       " 'Pullover',\n",
       " 'Dress',\n",
       " 'Coat',\n",
       " 'Sandal',\n",
       " 'Shirt',\n",
       " 'Sneaker',\n",
       " 'Bag',\n",
       " 'Ankle boot']"
      ]
     },
     "execution_count": 5,
     "metadata": {},
     "output_type": "execute_result"
    }
   ],
   "source": [
    "class_names = train_data.classes\n",
    "class_names # 9 Labels"
   ]
  },
  {
   "cell_type": "code",
   "execution_count": 6,
   "id": "0148189c",
   "metadata": {},
   "outputs": [
    {
     "data": {
      "text/plain": [
       "(tensor([[[0.0000, 0.0000, 0.0000, 0.0000, 0.0000, 0.0000, 0.0000, 0.0000,\n",
       "           0.0000, 0.0000, 0.0000, 0.0000, 0.0000, 0.0000, 0.0000, 0.0000,\n",
       "           0.0000, 0.0000, 0.0000, 0.0000, 0.0000, 0.0000, 0.0000, 0.0000,\n",
       "           0.0000, 0.0000, 0.0000, 0.0000],\n",
       "          [0.0000, 0.0000, 0.0000, 0.0000, 0.0000, 0.0000, 0.0000, 0.0000,\n",
       "           0.0000, 0.0000, 0.0000, 0.0000, 0.0000, 0.0000, 0.0000, 0.0000,\n",
       "           0.0000, 0.0000, 0.0000, 0.0000, 0.0000, 0.0000, 0.0000, 0.0000,\n",
       "           0.0000, 0.0000, 0.0000, 0.0000],\n",
       "          [0.0000, 0.0000, 0.0000, 0.0000, 0.0000, 0.0000, 0.0000, 0.0000,\n",
       "           0.0000, 0.0000, 0.0000, 0.0000, 0.0000, 0.0000, 0.0000, 0.0000,\n",
       "           0.0000, 0.0000, 0.0000, 0.0000, 0.0000, 0.0000, 0.0000, 0.0000,\n",
       "           0.0000, 0.0000, 0.0000, 0.0000],\n",
       "          [0.0000, 0.0000, 0.0000, 0.0000, 0.0000, 0.0000, 0.0000, 0.0000,\n",
       "           0.0000, 0.0000, 0.0000, 0.0000, 0.0039, 0.0000, 0.0000, 0.0510,\n",
       "           0.2863, 0.0000, 0.0000, 0.0039, 0.0157, 0.0000, 0.0000, 0.0000,\n",
       "           0.0000, 0.0039, 0.0039, 0.0000],\n",
       "          [0.0000, 0.0000, 0.0000, 0.0000, 0.0000, 0.0000, 0.0000, 0.0000,\n",
       "           0.0000, 0.0000, 0.0000, 0.0000, 0.0118, 0.0000, 0.1412, 0.5333,\n",
       "           0.4980, 0.2431, 0.2118, 0.0000, 0.0000, 0.0000, 0.0039, 0.0118,\n",
       "           0.0157, 0.0000, 0.0000, 0.0118],\n",
       "          [0.0000, 0.0000, 0.0000, 0.0000, 0.0000, 0.0000, 0.0000, 0.0000,\n",
       "           0.0000, 0.0000, 0.0000, 0.0000, 0.0235, 0.0000, 0.4000, 0.8000,\n",
       "           0.6902, 0.5255, 0.5647, 0.4824, 0.0902, 0.0000, 0.0000, 0.0000,\n",
       "           0.0000, 0.0471, 0.0392, 0.0000],\n",
       "          [0.0000, 0.0000, 0.0000, 0.0000, 0.0000, 0.0000, 0.0000, 0.0000,\n",
       "           0.0000, 0.0000, 0.0000, 0.0000, 0.0000, 0.0000, 0.6078, 0.9255,\n",
       "           0.8118, 0.6980, 0.4196, 0.6118, 0.6314, 0.4275, 0.2510, 0.0902,\n",
       "           0.3020, 0.5098, 0.2824, 0.0588],\n",
       "          [0.0000, 0.0000, 0.0000, 0.0000, 0.0000, 0.0000, 0.0000, 0.0000,\n",
       "           0.0000, 0.0000, 0.0000, 0.0039, 0.0000, 0.2706, 0.8118, 0.8745,\n",
       "           0.8549, 0.8471, 0.8471, 0.6392, 0.4980, 0.4745, 0.4784, 0.5725,\n",
       "           0.5529, 0.3451, 0.6745, 0.2588],\n",
       "          [0.0000, 0.0000, 0.0000, 0.0000, 0.0000, 0.0000, 0.0000, 0.0000,\n",
       "           0.0000, 0.0039, 0.0039, 0.0039, 0.0000, 0.7843, 0.9098, 0.9098,\n",
       "           0.9137, 0.8980, 0.8745, 0.8745, 0.8431, 0.8353, 0.6431, 0.4980,\n",
       "           0.4824, 0.7686, 0.8980, 0.0000],\n",
       "          [0.0000, 0.0000, 0.0000, 0.0000, 0.0000, 0.0000, 0.0000, 0.0000,\n",
       "           0.0000, 0.0000, 0.0000, 0.0000, 0.0000, 0.7176, 0.8824, 0.8471,\n",
       "           0.8745, 0.8941, 0.9216, 0.8902, 0.8784, 0.8706, 0.8784, 0.8667,\n",
       "           0.8745, 0.9608, 0.6784, 0.0000],\n",
       "          [0.0000, 0.0000, 0.0000, 0.0000, 0.0000, 0.0000, 0.0000, 0.0000,\n",
       "           0.0000, 0.0000, 0.0000, 0.0000, 0.0000, 0.7569, 0.8941, 0.8549,\n",
       "           0.8353, 0.7765, 0.7059, 0.8314, 0.8235, 0.8275, 0.8353, 0.8745,\n",
       "           0.8627, 0.9529, 0.7922, 0.0000],\n",
       "          [0.0000, 0.0000, 0.0000, 0.0000, 0.0000, 0.0000, 0.0000, 0.0000,\n",
       "           0.0000, 0.0039, 0.0118, 0.0000, 0.0471, 0.8588, 0.8627, 0.8314,\n",
       "           0.8549, 0.7529, 0.6627, 0.8902, 0.8157, 0.8549, 0.8784, 0.8314,\n",
       "           0.8863, 0.7725, 0.8196, 0.2039],\n",
       "          [0.0000, 0.0000, 0.0000, 0.0000, 0.0000, 0.0000, 0.0000, 0.0000,\n",
       "           0.0000, 0.0000, 0.0235, 0.0000, 0.3882, 0.9569, 0.8706, 0.8627,\n",
       "           0.8549, 0.7961, 0.7765, 0.8667, 0.8431, 0.8353, 0.8706, 0.8627,\n",
       "           0.9608, 0.4667, 0.6549, 0.2196],\n",
       "          [0.0000, 0.0000, 0.0000, 0.0000, 0.0000, 0.0000, 0.0000, 0.0000,\n",
       "           0.0000, 0.0157, 0.0000, 0.0000, 0.2157, 0.9255, 0.8941, 0.9020,\n",
       "           0.8941, 0.9412, 0.9098, 0.8353, 0.8549, 0.8745, 0.9176, 0.8510,\n",
       "           0.8510, 0.8196, 0.3608, 0.0000],\n",
       "          [0.0000, 0.0000, 0.0039, 0.0157, 0.0235, 0.0275, 0.0078, 0.0000,\n",
       "           0.0000, 0.0000, 0.0000, 0.0000, 0.9294, 0.8863, 0.8510, 0.8745,\n",
       "           0.8706, 0.8588, 0.8706, 0.8667, 0.8471, 0.8745, 0.8980, 0.8431,\n",
       "           0.8549, 1.0000, 0.3020, 0.0000],\n",
       "          [0.0000, 0.0118, 0.0000, 0.0000, 0.0000, 0.0000, 0.0000, 0.0000,\n",
       "           0.0000, 0.2431, 0.5686, 0.8000, 0.8941, 0.8118, 0.8353, 0.8667,\n",
       "           0.8549, 0.8157, 0.8275, 0.8549, 0.8784, 0.8745, 0.8588, 0.8431,\n",
       "           0.8784, 0.9569, 0.6235, 0.0000],\n",
       "          [0.0000, 0.0000, 0.0000, 0.0000, 0.0706, 0.1725, 0.3216, 0.4196,\n",
       "           0.7412, 0.8941, 0.8627, 0.8706, 0.8510, 0.8863, 0.7843, 0.8039,\n",
       "           0.8275, 0.9020, 0.8784, 0.9176, 0.6902, 0.7373, 0.9804, 0.9725,\n",
       "           0.9137, 0.9333, 0.8431, 0.0000],\n",
       "          [0.0000, 0.2235, 0.7333, 0.8157, 0.8784, 0.8667, 0.8784, 0.8157,\n",
       "           0.8000, 0.8392, 0.8157, 0.8196, 0.7843, 0.6235, 0.9608, 0.7569,\n",
       "           0.8078, 0.8745, 1.0000, 1.0000, 0.8667, 0.9176, 0.8667, 0.8275,\n",
       "           0.8627, 0.9098, 0.9647, 0.0000],\n",
       "          [0.0118, 0.7922, 0.8941, 0.8784, 0.8667, 0.8275, 0.8275, 0.8392,\n",
       "           0.8039, 0.8039, 0.8039, 0.8627, 0.9412, 0.3137, 0.5882, 1.0000,\n",
       "           0.8980, 0.8667, 0.7373, 0.6039, 0.7490, 0.8235, 0.8000, 0.8196,\n",
       "           0.8706, 0.8941, 0.8824, 0.0000],\n",
       "          [0.3843, 0.9137, 0.7765, 0.8235, 0.8706, 0.8980, 0.8980, 0.9176,\n",
       "           0.9765, 0.8627, 0.7608, 0.8431, 0.8510, 0.9451, 0.2549, 0.2863,\n",
       "           0.4157, 0.4588, 0.6588, 0.8588, 0.8667, 0.8431, 0.8510, 0.8745,\n",
       "           0.8745, 0.8784, 0.8980, 0.1137],\n",
       "          [0.2941, 0.8000, 0.8314, 0.8000, 0.7569, 0.8039, 0.8275, 0.8824,\n",
       "           0.8471, 0.7255, 0.7725, 0.8078, 0.7765, 0.8353, 0.9412, 0.7647,\n",
       "           0.8902, 0.9608, 0.9373, 0.8745, 0.8549, 0.8314, 0.8196, 0.8706,\n",
       "           0.8627, 0.8667, 0.9020, 0.2627],\n",
       "          [0.1882, 0.7961, 0.7176, 0.7608, 0.8353, 0.7725, 0.7255, 0.7451,\n",
       "           0.7608, 0.7529, 0.7922, 0.8392, 0.8588, 0.8667, 0.8627, 0.9255,\n",
       "           0.8824, 0.8471, 0.7804, 0.8078, 0.7294, 0.7098, 0.6941, 0.6745,\n",
       "           0.7098, 0.8039, 0.8078, 0.4510],\n",
       "          [0.0000, 0.4784, 0.8588, 0.7569, 0.7020, 0.6706, 0.7176, 0.7686,\n",
       "           0.8000, 0.8235, 0.8353, 0.8118, 0.8275, 0.8235, 0.7843, 0.7686,\n",
       "           0.7608, 0.7490, 0.7647, 0.7490, 0.7765, 0.7529, 0.6902, 0.6118,\n",
       "           0.6549, 0.6941, 0.8235, 0.3608],\n",
       "          [0.0000, 0.0000, 0.2902, 0.7412, 0.8314, 0.7490, 0.6863, 0.6745,\n",
       "           0.6863, 0.7098, 0.7255, 0.7373, 0.7412, 0.7373, 0.7569, 0.7765,\n",
       "           0.8000, 0.8196, 0.8235, 0.8235, 0.8275, 0.7373, 0.7373, 0.7608,\n",
       "           0.7529, 0.8471, 0.6667, 0.0000],\n",
       "          [0.0078, 0.0000, 0.0000, 0.0000, 0.2588, 0.7843, 0.8706, 0.9294,\n",
       "           0.9373, 0.9490, 0.9647, 0.9529, 0.9569, 0.8667, 0.8627, 0.7569,\n",
       "           0.7490, 0.7020, 0.7137, 0.7137, 0.7098, 0.6902, 0.6510, 0.6588,\n",
       "           0.3882, 0.2275, 0.0000, 0.0000],\n",
       "          [0.0000, 0.0000, 0.0000, 0.0000, 0.0000, 0.0000, 0.0000, 0.1569,\n",
       "           0.2392, 0.1725, 0.2824, 0.1608, 0.1373, 0.0000, 0.0000, 0.0000,\n",
       "           0.0000, 0.0000, 0.0000, 0.0000, 0.0000, 0.0000, 0.0000, 0.0000,\n",
       "           0.0000, 0.0000, 0.0000, 0.0000],\n",
       "          [0.0000, 0.0000, 0.0000, 0.0000, 0.0000, 0.0000, 0.0000, 0.0000,\n",
       "           0.0000, 0.0000, 0.0000, 0.0000, 0.0000, 0.0000, 0.0000, 0.0000,\n",
       "           0.0000, 0.0000, 0.0000, 0.0000, 0.0000, 0.0000, 0.0000, 0.0000,\n",
       "           0.0000, 0.0000, 0.0000, 0.0000],\n",
       "          [0.0000, 0.0000, 0.0000, 0.0000, 0.0000, 0.0000, 0.0000, 0.0000,\n",
       "           0.0000, 0.0000, 0.0000, 0.0000, 0.0000, 0.0000, 0.0000, 0.0000,\n",
       "           0.0000, 0.0000, 0.0000, 0.0000, 0.0000, 0.0000, 0.0000, 0.0000,\n",
       "           0.0000, 0.0000, 0.0000, 0.0000]]]),\n",
       " 9)"
      ]
     },
     "execution_count": 6,
     "metadata": {},
     "output_type": "execute_result"
    }
   ],
   "source": [
    "# See first training example\n",
    "image, label = train_data[0] # 9th Label\n",
    "image, label"
   ]
  },
  {
   "cell_type": "code",
   "execution_count": 7,
   "id": "b8d06f50",
   "metadata": {},
   "outputs": [
    {
     "data": {
      "text/plain": [
       "{'T-shirt/top': 0,\n",
       " 'Trouser': 1,\n",
       " 'Pullover': 2,\n",
       " 'Dress': 3,\n",
       " 'Coat': 4,\n",
       " 'Sandal': 5,\n",
       " 'Shirt': 6,\n",
       " 'Sneaker': 7,\n",
       " 'Bag': 8,\n",
       " 'Ankle boot': 9}"
      ]
     },
     "execution_count": 7,
     "metadata": {},
     "output_type": "execute_result"
    }
   ],
   "source": [
    "class_to_idx = train_data.class_to_idx\n",
    "class_to_idx # Class to IDX mapping"
   ]
  },
  {
   "cell_type": "code",
   "execution_count": 8,
   "id": "f984748a",
   "metadata": {},
   "outputs": [
    {
     "data": {
      "text/plain": [
       "(tensor([9, 0, 0,  ..., 3, 0, 5]), torch.Size([60000]))"
      ]
     },
     "execution_count": 8,
     "metadata": {},
     "output_type": "execute_result"
    }
   ],
   "source": [
    "train_data.targets, train_data.targets.shape # All Labels"
   ]
  },
  {
   "cell_type": "code",
   "execution_count": 9,
   "id": "5e720141",
   "metadata": {},
   "outputs": [
    {
     "data": {
      "text/plain": [
       "torch.Size([1, 28, 28])"
      ]
     },
     "execution_count": 9,
     "metadata": {},
     "output_type": "execute_result"
    }
   ],
   "source": [
    "# Check shape of image\n",
    "image.shape # [Color Channel, Height, Weight]\n",
    "\n",
    "# Color Channel - GreyScale 1 or 0"
   ]
  },
  {
   "cell_type": "code",
   "execution_count": 10,
   "id": "b1ed555e",
   "metadata": {},
   "outputs": [
    {
     "data": {
      "text/plain": [
       "'Ankle boot'"
      ]
     },
     "execution_count": 10,
     "metadata": {},
     "output_type": "execute_result"
    }
   ],
   "source": [
    "class_name_0 = class_names[label]\n",
    "class_name_0"
   ]
  },
  {
   "cell_type": "code",
   "execution_count": 11,
   "id": "90e7b050",
   "metadata": {},
   "outputs": [
    {
     "data": {
      "text/plain": [
       "(-0.5, 27.5, 27.5, -0.5)"
      ]
     },
     "execution_count": 11,
     "metadata": {},
     "output_type": "execute_result"
    },
    {
     "data": {
      "image/png": "[encoded data removed]",
      "text/plain": [
       "<Figure size 640x480 with 1 Axes>"
      ]
     },
     "metadata": {},
     "output_type": "display_data"
    }
   ],
   "source": [
    "# Visualize random sample of data\n",
    "image, label = train_data[1]\n",
    "\n",
    "plt.imshow(image.squeeze()) \n",
    "# Remove an extra dimension since `matplotlib` doesn't support [1,28,28] shape\n",
    "\n",
    "plt.title(f'{class_names[label]} | { label}')\n",
    "plt.axis(False)"
   ]
  },
  {
   "cell_type": "code",
   "execution_count": 12,
   "id": "bd6a6c11",
   "metadata": {},
   "outputs": [
    {
     "data": {
      "text/plain": [
       "Text(0.5, 1.0, 'Dress | 3')"
      ]
     },
     "execution_count": 12,
     "metadata": {},
     "output_type": "execute_result"
    },
    {
     "data": {
      "image/png": "[encoded data removed]",
      "text/plain": [
       "<Figure size 640x480 with 1 Axes>"
      ]
     },
     "metadata": {},
     "output_type": "display_data"
    }
   ],
   "source": [
    "# In Greyscale\n",
    "image, label = test_data[100]\n",
    "plt.imshow(image.squeeze(), cmap='gray')\n",
    "plt.title(f'{class_names[label]} | {label}')\n",
    "\n",
    "# Pixelated since the images are 28px by 28px"
   ]
  },
  {
   "cell_type": "code",
   "execution_count": 13,
   "id": "8e050ae0",
   "metadata": {},
   "outputs": [
    {
     "data": {
      "image/png": "[encoded data removed]",
      "text/plain": [
       "<Figure size 900x900 with 16 Axes>"
      ]
     },
     "metadata": {},
     "output_type": "display_data"
    }
   ],
   "source": [
    "# Plot more images\n",
    "# torch.manual_seed(42)\n",
    "fig = plt.figure(figsize=(9,9))\n",
    "rows, cols = 4, 4\n",
    "\n",
    "for i in range(1, rows*cols+1):\n",
    "    random_idx = torch.randint(0, len(train_data), size=[1]).item()\n",
    "    # size[1] means generate 1D tensor with 1 value, Ex: tensor([185])\n",
    "    # item() extracts 185 only\n",
    "\n",
    "    image, label = train_data[random_idx]\n",
    "    fig.add_subplot(rows, cols, i)\n",
    "\n",
    "    plt.imshow(image.squeeze(), cmap='gray')\n",
    "    plt.title(f'{random_idx} | {class_names[label]} | {label}')\n",
    "    plt.axis(False)"
   ]
  },
  {
   "cell_type": "markdown",
   "id": "0e88cf04",
   "metadata": {},
   "source": [
    "### **2. Prepare Dataloader**\n",
    "\n",
    "Currently, data is in form of **PyTorch Datasets**\n",
    "\n",
    "Dataloader turns our datasets into a **Python Iterable**\n",
    "\n",
    "- Turn data into batches or mini-batches\n",
    "\n",
    "    - It is more computationally efficient, break data into 32 images at a time instead of 60k images at once\n",
    "\n",
    "    - Gives our neural network more chances to update its gradients per epoch\n",
    "\n",
    "    - Check Mini Batch Gradient Descent"
   ]
  },
  {
   "cell_type": "code",
   "execution_count": 14,
   "id": "98d9c7a8",
   "metadata": {},
   "outputs": [
    {
     "data": {
      "text/plain": [
       "(<torch.utils.data.dataloader.DataLoader at 0x2220d19ea50>,\n",
       " <torch.utils.data.dataloader.DataLoader at 0x2220e499df0>)"
      ]
     },
     "execution_count": 14,
     "metadata": {},
     "output_type": "execute_result"
    }
   ],
   "source": [
    "from torch.utils.data import DataLoader\n",
    "\n",
    "# Setup the batch size\n",
    "BATCH_SIZE = 32\n",
    "\n",
    "# Turn datasets into iterables (Batches)\n",
    "train_dataloader = DataLoader(dataset=train_data,\n",
    "                              batch_size=32,\n",
    "                              shuffle=True)\n",
    "# Shuffle is set to True so that the model doesn't learn order of images during training\n",
    "# Shuffling isn't necessary during testing\n",
    "\n",
    "test_dataloader = DataLoader(dataset=test_data,\n",
    "                             batch_size=32,\n",
    "                             shuffle=False)\n",
    "\n",
    "train_dataloader, test_dataloader # Instances"
   ]
  },
  {
   "cell_type": "code",
   "execution_count": 15,
   "id": "a51c7edb",
   "metadata": {},
   "outputs": [
    {
     "name": "stdout",
     "output_type": "stream",
     "text": [
      "Dataloaders: (<torch.utils.data.dataloader.DataLoader object at 0x000002220D19EA50>, <torch.utils.data.dataloader.DataLoader object at 0x000002220E499DF0>)\n",
      "Length of train dataloader: 1875 batches of 32\n",
      "Length of test dataloader: 313 batches of 32\n"
     ]
    }
   ],
   "source": [
    "# Checking out\n",
    "print(f'Dataloaders: {train_dataloader, test_dataloader}')\n",
    "print(f'Length of train dataloader: {len(train_dataloader)} batches of {BATCH_SIZE}')\n",
    "print(f'Length of test dataloader: {len(test_dataloader)} batches of {BATCH_SIZE}')\n",
    "\n",
    "# Last batch might not have 32 images"
   ]
  },
  {
   "cell_type": "code",
   "execution_count": 16,
   "id": "b5525bb1",
   "metadata": {},
   "outputs": [
    {
     "name": "stdout",
     "output_type": "stream",
     "text": [
      "32 32\n",
      "32 32\n"
     ]
    },
    {
     "data": {
      "text/plain": [
       "tensor([[[[ True,  True,  True,  ...,  True,  True,  True],\n",
       "          [ True,  True,  True,  ..., False,  True,  True],\n",
       "          [ True,  True,  True,  ...,  True,  True,  True],\n",
       "          ...,\n",
       "          [ True,  True,  True,  ..., False,  True,  True],\n",
       "          [ True,  True,  True,  ...,  True,  True,  True],\n",
       "          [ True,  True,  True,  ...,  True,  True,  True]]],\n",
       "\n",
       "\n",
       "        [[[ True,  True,  True,  ...,  True,  True,  True],\n",
       "          [ True,  True,  True,  ...,  True,  True,  True],\n",
       "          [ True,  True,  True,  ...,  True,  True,  True],\n",
       "          ...,\n",
       "          [ True,  True,  True,  ...,  True,  True,  True],\n",
       "          [ True,  True,  True,  ...,  True,  True,  True],\n",
       "          [ True,  True,  True,  ...,  True,  True,  True]]],\n",
       "\n",
       "\n",
       "        [[[ True,  True,  True,  ...,  True,  True,  True],\n",
       "          [ True,  True,  True,  ...,  True,  True,  True],\n",
       "          [ True,  True,  True,  ..., False,  True,  True],\n",
       "          ...,\n",
       "          [ True,  True,  True,  ...,  True,  True,  True],\n",
       "          [ True,  True,  True,  ...,  True,  True,  True],\n",
       "          [ True,  True,  True,  ...,  True,  True,  True]]],\n",
       "\n",
       "\n",
       "        ...,\n",
       "\n",
       "\n",
       "        [[[ True,  True,  True,  ...,  True,  True,  True],\n",
       "          [ True,  True,  True,  ...,  True,  True,  True],\n",
       "          [ True,  True,  True,  ..., False,  True,  True],\n",
       "          ...,\n",
       "          [ True,  True,  True,  ...,  True,  True,  True],\n",
       "          [ True,  True,  True,  ...,  True,  True,  True],\n",
       "          [ True,  True,  True,  ...,  True,  True,  True]]],\n",
       "\n",
       "\n",
       "        [[[ True,  True,  True,  ...,  True,  True,  True],\n",
       "          [ True,  True,  True,  ...,  True,  True,  True],\n",
       "          [ True,  True,  True,  ...,  True,  True,  True],\n",
       "          ...,\n",
       "          [ True,  True,  True,  ..., False, False,  True],\n",
       "          [ True,  True,  True,  ..., False, False,  True],\n",
       "          [ True,  True,  True,  ..., False, False,  True]]],\n",
       "\n",
       "\n",
       "        [[[ True,  True,  True,  ...,  True,  True,  True],\n",
       "          [ True,  True,  True,  ...,  True,  True,  True],\n",
       "          [ True,  True,  True,  ...,  True,  True,  True],\n",
       "          ...,\n",
       "          [ True,  True,  True,  ...,  True,  True,  True],\n",
       "          [ True,  True,  True,  ...,  True,  True,  True],\n",
       "          [ True,  True,  True,  ...,  True,  True,  True]]]])"
      ]
     },
     "execution_count": 16,
     "metadata": {},
     "output_type": "execute_result"
    }
   ],
   "source": [
    "# Accessing a single batch and label\n",
    "train_iter = iter(train_dataloader) \n",
    "# Use this and next(train_iter) to get consecutive batches each run\n",
    "\n",
    "train_features_batch1, train_labels_batch1 = next(iter(train_dataloader))\n",
    "train_features_batch2, train_labels_batch2 = next(iter(train_dataloader))\n",
    "\n",
    "print(len(train_features_batch1), len(train_features_batch2))\n",
    "print(len(train_labels_batch1), len(train_labels_batch2))\n",
    "\n",
    "train_features_batch1 == train_features_batch2"
   ]
  },
  {
   "cell_type": "code",
   "execution_count": 17,
   "id": "5187f1e0",
   "metadata": {},
   "outputs": [
    {
     "name": "stdout",
     "output_type": "stream",
     "text": [
      "Image Shape: torch.Size([1, 28, 28])\n",
      "Label: 6, Label Shape: torch.Size([])\n"
     ]
    },
    {
     "data": {
      "image/png": "[encoded data removed]",
      "text/plain": [
       "<Figure size 640x480 with 1 Axes>"
      ]
     },
     "metadata": {},
     "output_type": "display_data"
    }
   ],
   "source": [
    "# Show a sample\n",
    "torch.manual_seed(42)\n",
    "random_idx = torch.randint(0, len(train_features_batch1), size=[1]).item()\n",
    "\n",
    "image, label = train_features_batch1[random_idx], train_labels_batch1[random_idx]\n",
    "plt.imshow(image.squeeze(), cmap='gray')\n",
    "plt.title(f'{class_names[label]} | {label}')\n",
    "plt.axis('off')\n",
    "\n",
    "print(f'Image Shape: {image.shape}')\n",
    "print(f'Label: {label}, Label Shape: {label.shape}')"
   ]
  },
  {
   "cell_type": "markdown",
   "id": "08f1e8a9",
   "metadata": {},
   "source": [
    "### 3. **ModelV0**: Build a baseline model\n",
    "\n",
    "- Baseline Model is a simple model that is improved with subsequent models/experiments"
   ]
  },
  {
   "cell_type": "code",
   "execution_count": 18,
   "id": "fb3a11bb",
   "metadata": {},
   "outputs": [
    {
     "name": "stdout",
     "output_type": "stream",
     "text": [
      "Shape of x before flattening: torch.Size([1, 28, 28])\n",
      "Shape of x after flattening: torch.Size([1, 784])\n"
     ]
    }
   ],
   "source": [
    "# Create a flatten layer\n",
    "flatten_model = nn.Flatten()\n",
    "\n",
    "# Get a single sample\n",
    "x = train_features_batch1[15]\n",
    "\n",
    "# Flatten Sample\n",
    "xflat = flatten_model(x)\n",
    "\n",
    "print(f'Shape of x before flattening: {x.shape}') # [color channel, ht, wt]\n",
    "print(f'Shape of x after flattening: {xflat.shape}') # [color channel, ht*wt]\n",
    "\n",
    "# 1 Value per pixel, Flattening done so linear transformations can be applied on batches"
   ]
  },
  {
   "cell_type": "code",
   "execution_count": 19,
   "id": "82214e79",
   "metadata": {},
   "outputs": [
    {
     "data": {
      "text/plain": [
       "tensor([[0.0000, 0.0000, 0.0000, 0.0000, 0.0000, 0.0000, 0.0000, 0.0000, 0.0000,\n",
       "         0.0000, 0.0000, 0.0000, 0.0000, 0.0000, 0.0000, 0.0000, 0.0000, 0.0000,\n",
       "         0.0000, 0.0000, 0.0000, 0.0000, 0.0000, 0.0000, 0.0000, 0.0000, 0.0000,\n",
       "         0.0000, 0.0000, 0.0000, 0.0000, 0.0000, 0.0000, 0.0000, 0.0000, 0.0000,\n",
       "         0.0000, 0.0000, 0.0000, 0.0000, 0.0000, 0.0000, 0.0000, 0.0000, 0.0000,\n",
       "         0.0000, 0.0000, 0.0000, 0.0000, 0.0000, 0.0000, 0.0000, 0.0000, 0.0000,\n",
       "         0.0000, 0.0000, 0.0000, 0.0000, 0.0000, 0.0000, 0.0000, 0.0000, 0.0000,\n",
       "         0.0000, 0.0000, 0.0000, 0.0000, 0.0000, 0.0000, 0.0000, 0.0000, 0.0000,\n",
       "         0.0000, 0.0000, 0.0000, 0.0000, 0.0000, 0.0000, 0.0000, 0.0000, 0.0000,\n",
       "         0.0000, 0.0000, 0.0000, 0.0000, 0.0000, 0.0000, 0.0000, 0.0000, 0.0000,\n",
       "         0.0000, 0.0000, 0.0000, 0.0000, 0.0000, 0.0000, 0.0000, 0.0000, 0.0000,\n",
       "         0.0000, 0.0000, 0.0000, 0.0000, 0.0000, 0.0000, 0.0000, 0.0000, 0.0000,\n",
       "         0.0000, 0.0000, 0.0000, 0.0000, 0.0000, 0.0000, 0.0000, 0.0000, 0.0000,\n",
       "         0.0000, 0.0000, 0.0000, 0.0000, 0.0000, 0.0000, 0.0000, 0.0000, 0.0000,\n",
       "         0.0000, 0.0000, 0.0000, 0.0000, 0.0000, 0.0000, 0.0000, 0.0000, 0.0000,\n",
       "         0.0000, 0.0000, 0.0000, 0.0000, 0.0000, 0.0000, 0.0000, 0.0000, 0.0000,\n",
       "         0.0000, 0.0000, 0.0000, 0.0000, 0.0000, 0.0000, 0.0000, 0.0000, 0.0000,\n",
       "         0.0000, 0.0000, 0.0000, 0.0000, 0.0000, 0.0000, 0.0000, 0.0000, 0.0000,\n",
       "         0.0000, 0.0000, 0.0000, 0.0000, 0.0000, 0.0000, 0.0000, 0.0000, 0.0000,\n",
       "         0.0000, 0.0000, 0.0000, 0.0000, 0.0000, 0.0000, 0.0000, 0.0000, 0.0000,\n",
       "         0.0000, 0.0000, 0.0000, 0.0000, 0.0000, 0.0000, 0.0000, 0.0000, 0.0000,\n",
       "         0.0000, 0.0000, 0.0000, 0.0000, 0.0000, 0.0000, 0.0000, 0.0000, 0.0000,\n",
       "         0.0000, 0.0000, 0.0000, 0.0000, 0.0000, 0.0000, 0.0039, 0.0039, 0.0000,\n",
       "         0.0000, 0.0000, 0.0039, 0.0000, 0.0000, 0.0000, 0.0000, 0.0000, 0.0000,\n",
       "         0.0078, 0.0000, 0.0118, 0.0157, 0.0000, 0.1922, 0.5137, 0.0000, 0.0000,\n",
       "         0.0000, 0.0000, 0.0000, 0.0000, 0.0000, 0.0000, 0.0000, 0.0000, 0.0000,\n",
       "         0.0000, 0.0039, 0.0000, 0.0000, 0.0000, 0.0745, 0.5255, 0.6353, 0.3294,\n",
       "         0.0000, 0.0000, 0.0000, 0.0000, 0.0000, 0.0000, 0.3569, 0.6784, 0.1882,\n",
       "         0.0000, 0.0000, 0.0000, 0.0000, 0.0000, 0.0000, 0.0000, 0.0000, 0.0078,\n",
       "         0.0000, 0.0000, 0.0000, 0.0000, 0.1412, 0.6627, 0.6980, 0.6392, 0.6431,\n",
       "         0.7490, 0.7137, 0.4980, 0.1922, 0.0392, 0.0627, 0.3020, 0.5255, 0.6784,\n",
       "         0.2353, 0.0000, 0.0000, 0.0000, 0.0000, 0.0039, 0.0039, 0.0039, 0.0000,\n",
       "         0.0000, 0.0000, 0.0000, 0.1882, 0.6471, 0.8275, 0.7412, 0.6039, 0.4549,\n",
       "         0.4471, 0.4353, 0.5922, 0.8510, 0.7569, 0.7176, 0.7490, 0.7529, 0.6510,\n",
       "         0.6392, 0.0627, 0.0000, 0.0118, 0.0000, 0.0000, 0.0000, 0.0000, 0.0000,\n",
       "         0.0000, 0.1176, 0.4980, 0.6549, 0.8275, 0.7059, 0.4196, 0.3137, 0.4902,\n",
       "         0.7333, 0.8196, 0.4392, 0.4667, 0.6039, 0.6980, 0.7451, 0.6980, 0.5608,\n",
       "         0.5961, 0.8275, 0.0431, 0.0000, 0.0000, 0.0000, 0.0000, 0.0000, 0.0353,\n",
       "         0.1333, 0.3961, 0.6588, 0.6627, 0.6078, 0.4863, 0.4706, 0.6314, 0.8784,\n",
       "         0.9098, 0.8667, 0.8549, 0.8275, 0.5216, 0.4902, 0.5490, 0.5294, 0.5373,\n",
       "         0.6627, 0.6588, 0.8196, 0.1333, 0.0000, 0.0431, 0.3922, 0.5333, 0.5686,\n",
       "         0.6196, 0.6863, 0.6314, 0.5804, 0.4980, 0.4706, 0.5765, 0.5765, 0.6941,\n",
       "         0.8000, 0.7059, 0.7529, 0.8039, 0.8745, 0.8941, 0.6353, 0.5608, 0.6235,\n",
       "         0.6706, 0.6549, 0.6196, 0.8471, 0.2000, 0.1725, 0.7020, 0.6039, 0.5961,\n",
       "         0.5725, 0.5569, 0.5373, 0.4824, 0.5137, 0.5843, 0.6353, 0.5608, 0.5451,\n",
       "         0.5098, 0.6157, 0.8980, 0.8784, 0.7765, 0.7765, 0.8667, 0.9059, 0.7176,\n",
       "         0.6196, 0.6275, 0.6118, 0.6314, 0.7922, 0.2039, 0.5647, 0.7333, 0.5333,\n",
       "         0.4627, 0.5176, 0.5490, 0.5804, 0.5647, 0.5608, 0.6157, 0.5961, 0.5725,\n",
       "         0.6039, 0.6392, 0.5569, 0.5765, 0.8353, 0.8784, 0.8549, 0.7882, 0.9020,\n",
       "         0.8196, 0.5333, 0.5725, 0.5725, 0.5608, 0.7451, 0.3686, 0.5059, 0.8314,\n",
       "         0.7529, 0.6902, 0.5490, 0.5098, 0.5176, 0.4745, 0.5373, 0.5529, 0.5882,\n",
       "         0.5529, 0.5216, 0.5255, 0.5529, 0.4980, 0.5059, 0.7373, 0.8824, 0.8431,\n",
       "         0.8118, 0.5255, 0.6078, 0.6431, 0.6784, 0.7020, 0.8392, 0.5686, 0.1569,\n",
       "         0.8118, 0.8235, 0.7725, 0.7843, 0.7490, 0.6980, 0.6510, 0.6078, 0.6000,\n",
       "         0.6000, 0.6471, 0.6549, 0.7137, 0.7451, 0.7922, 0.7765, 0.7569, 0.7647,\n",
       "         0.8039, 0.7647, 0.7843, 0.8392, 0.7882, 0.7882, 0.7686, 0.8235, 0.5020,\n",
       "         0.0000, 0.1569, 0.6392, 0.8510, 0.8353, 0.8235, 0.8118, 0.7647, 0.7608,\n",
       "         0.7490, 0.7843, 0.7765, 0.7608, 0.7569, 0.7804, 0.7569, 0.7922, 0.7647,\n",
       "         0.8118, 0.7725, 0.8118, 0.7922, 0.7961, 0.7961, 0.8039, 0.8314, 0.8706,\n",
       "         0.2667, 0.0000, 0.0000, 0.0000, 0.1725, 0.4824, 0.8824, 0.7176, 0.8549,\n",
       "         0.7804, 0.9176, 0.8784, 0.8784, 0.8784, 0.9412, 0.8588, 0.9961, 0.7961,\n",
       "         1.0000, 0.6980, 0.9882, 0.6863, 0.8980, 0.7020, 0.8000, 0.6118, 0.5569,\n",
       "         0.3020, 0.0000, 0.0000, 0.0078, 0.0000, 0.0000, 0.0000, 0.0000, 0.0000,\n",
       "         0.1765, 0.2000, 0.5412, 0.2745, 0.6902, 0.1451, 0.5373, 0.0235, 0.2706,\n",
       "         0.0000, 0.1451, 0.0000, 0.0392, 0.0000, 0.0000, 0.0000, 0.0000, 0.0000,\n",
       "         0.0000, 0.0000, 0.0000, 0.0000, 0.0000, 0.0000, 0.0000, 0.0000, 0.0000,\n",
       "         0.0000, 0.0000, 0.0000, 0.0000, 0.0000, 0.0000, 0.0000, 0.0000, 0.0000,\n",
       "         0.0000, 0.0000, 0.0000, 0.0000, 0.0000, 0.0000, 0.0000, 0.0000, 0.0000,\n",
       "         0.0000, 0.0000, 0.0000, 0.0000, 0.0000, 0.0000, 0.0000, 0.0000, 0.0000,\n",
       "         0.0000, 0.0000, 0.0000, 0.0000, 0.0000, 0.0000, 0.0000, 0.0000, 0.0000,\n",
       "         0.0000, 0.0000, 0.0000, 0.0000, 0.0000, 0.0000, 0.0000, 0.0000, 0.0000,\n",
       "         0.0000, 0.0000, 0.0000, 0.0000, 0.0000, 0.0000, 0.0000, 0.0000, 0.0000,\n",
       "         0.0000, 0.0000, 0.0000, 0.0000, 0.0000, 0.0000, 0.0000, 0.0000, 0.0000,\n",
       "         0.0000, 0.0000, 0.0000, 0.0000, 0.0000, 0.0000, 0.0000, 0.0000, 0.0000,\n",
       "         0.0000, 0.0000, 0.0000, 0.0000, 0.0000, 0.0000, 0.0000, 0.0000, 0.0000,\n",
       "         0.0000, 0.0000, 0.0000, 0.0000, 0.0000, 0.0000, 0.0000, 0.0000, 0.0000,\n",
       "         0.0000, 0.0000, 0.0000, 0.0000, 0.0000, 0.0000, 0.0000, 0.0000, 0.0000,\n",
       "         0.0000, 0.0000, 0.0000, 0.0000, 0.0000, 0.0000, 0.0000, 0.0000, 0.0000,\n",
       "         0.0000, 0.0000, 0.0000, 0.0000, 0.0000, 0.0000, 0.0000, 0.0000, 0.0000,\n",
       "         0.0000, 0.0000, 0.0000, 0.0000, 0.0000, 0.0000, 0.0000, 0.0000, 0.0000,\n",
       "         0.0000, 0.0000, 0.0000, 0.0000, 0.0000, 0.0000, 0.0000, 0.0000, 0.0000,\n",
       "         0.0000, 0.0000, 0.0000, 0.0000, 0.0000, 0.0000, 0.0000, 0.0000, 0.0000,\n",
       "         0.0000, 0.0000, 0.0000, 0.0000, 0.0000, 0.0000, 0.0000, 0.0000, 0.0000,\n",
       "         0.0000, 0.0000, 0.0000, 0.0000, 0.0000, 0.0000, 0.0000, 0.0000, 0.0000,\n",
       "         0.0000, 0.0000, 0.0000, 0.0000, 0.0000, 0.0000, 0.0000, 0.0000, 0.0000,\n",
       "         0.0000, 0.0000, 0.0000, 0.0000, 0.0000, 0.0000, 0.0000, 0.0000, 0.0000,\n",
       "         0.0000, 0.0000, 0.0000, 0.0000, 0.0000, 0.0000, 0.0000, 0.0000, 0.0000,\n",
       "         0.0000]])"
      ]
     },
     "execution_count": 19,
     "metadata": {},
     "output_type": "execute_result"
    }
   ],
   "source": [
    "xflat"
   ]
  },
  {
   "cell_type": "code",
   "execution_count": 20,
   "id": "be6775d9",
   "metadata": {},
   "outputs": [],
   "source": [
    "class FashionMNISTModelV0(nn.Module):\n",
    "    def __init__(self,\n",
    "                 input_shape: int,\n",
    "                 hidden_units: int,\n",
    "                 output_shape: int):\n",
    "        super().__init__()\n",
    "        self.layer_stack = nn.Sequential(\n",
    "            nn.Flatten(), # Compress image into a singular vector\n",
    "            nn.Linear(in_features=input_shape,\n",
    "                      out_features=hidden_units),\n",
    "            nn.Linear(in_features=hidden_units, \n",
    "                      out_features=output_shape)\n",
    "        )\n",
    "\n",
    "    def forward(self, x):\n",
    "        return self.layer_stack(x)"
   ]
  },
  {
   "cell_type": "code",
   "execution_count": 21,
   "id": "d0c6fb10",
   "metadata": {},
   "outputs": [
    {
     "data": {
      "text/plain": [
       "tensor([[-0.0315,  0.3171,  0.0531, -0.2525,  0.5959,  0.2112,  0.3233,  0.2694,\n",
       "         -0.1004,  0.0157]])"
      ]
     },
     "execution_count": 21,
     "metadata": {},
     "output_type": "execute_result"
    }
   ],
   "source": [
    "torch.manual_seed(42)\n",
    "ModelV0 = FashionMNISTModelV0(input_shape=784, # Height*Width:28*28\n",
    "                              hidden_units=10,\n",
    "                              output_shape=len(class_names)\n",
    "                              ).to('cpu')\n",
    "\n",
    "\n",
    "dummy_x = torch.rand([1,1,28,28])\n",
    "ModelV0.eval()\n",
    "with torch.inference_mode():\n",
    "    dummy_pred = ModelV0(dummy_x)\n",
    "dummy_pred # 10 logits for 10 image classes, exactly the required output shape [1, 10]\n",
    "# Hence, we can't have output shape like [1, 1, 28, 10]\n"
   ]
  },
  {
   "cell_type": "code",
   "execution_count": 22,
   "id": "3350d6b9",
   "metadata": {},
   "outputs": [
    {
     "data": {
      "text/plain": [
       "torch.Size([1, 10])"
      ]
     },
     "execution_count": 22,
     "metadata": {},
     "output_type": "execute_result"
    }
   ],
   "source": [
    "dummy_pred.shape"
   ]
  },
  {
   "cell_type": "code",
   "execution_count": 23,
   "id": "07978ec5",
   "metadata": {},
   "outputs": [
    {
     "data": {
      "text/plain": [
       "OrderedDict([('layer_stack.1.weight',\n",
       "              tensor([[ 0.0273,  0.0296, -0.0084,  ..., -0.0142,  0.0093,  0.0135],\n",
       "                      [-0.0188, -0.0354,  0.0187,  ..., -0.0106, -0.0001,  0.0115],\n",
       "                      [-0.0008,  0.0017,  0.0045,  ..., -0.0127, -0.0188,  0.0059],\n",
       "                      ...,\n",
       "                      [-0.0116,  0.0273, -0.0344,  ...,  0.0176,  0.0283, -0.0011],\n",
       "                      [-0.0230,  0.0257,  0.0291,  ..., -0.0187, -0.0087,  0.0001],\n",
       "                      [ 0.0176, -0.0147,  0.0053,  ..., -0.0336, -0.0221,  0.0205]])),\n",
       "             ('layer_stack.1.bias',\n",
       "              tensor([-0.0093,  0.0283, -0.0033,  0.0255,  0.0017,  0.0037, -0.0302, -0.0123,\n",
       "                       0.0018,  0.0163])),\n",
       "             ('layer_stack.2.weight',\n",
       "              tensor([[ 0.0614, -0.0687,  0.0021,  0.2718,  0.2109,  0.1079, -0.2279, -0.1063,\n",
       "                        0.2019,  0.2847],\n",
       "                      [-0.1495,  0.1344, -0.0740,  0.2006, -0.0475, -0.2514, -0.3130, -0.0118,\n",
       "                        0.0932, -0.1864],\n",
       "                      [ 0.2488,  0.1500,  0.1907,  0.1457, -0.3050, -0.0580,  0.1643,  0.1565,\n",
       "                       -0.2877, -0.1792],\n",
       "                      [ 0.2305, -0.2618,  0.2397, -0.0610,  0.0232,  0.1542,  0.0851, -0.2027,\n",
       "                        0.1030, -0.2715],\n",
       "                      [-0.1596, -0.0555, -0.0633,  0.2302, -0.1726,  0.2654,  0.1473,  0.1029,\n",
       "                        0.2252, -0.2160],\n",
       "                      [-0.2725,  0.0118,  0.1559,  0.1596,  0.0132,  0.3024,  0.1124,  0.1366,\n",
       "                       -0.1533,  0.0965],\n",
       "                      [-0.1184, -0.2555, -0.2057, -0.1909, -0.0477, -0.1324,  0.2905,  0.1307,\n",
       "                       -0.2629,  0.0133],\n",
       "                      [ 0.2727, -0.0127,  0.0513,  0.0863, -0.1043, -0.2047, -0.1185, -0.0825,\n",
       "                        0.2488, -0.2571],\n",
       "                      [ 0.0425, -0.1209, -0.0336, -0.0281, -0.1227,  0.0730,  0.0747, -0.1816,\n",
       "                        0.1943,  0.2853],\n",
       "                      [-0.1310,  0.0645, -0.1171,  0.2168, -0.0245, -0.2820,  0.0736,  0.2621,\n",
       "                        0.0012, -0.0810]])),\n",
       "             ('layer_stack.2.bias',\n",
       "              tensor([-0.0087,  0.1791,  0.2712, -0.0791,  0.1685,  0.1762,  0.2825,  0.2266,\n",
       "                      -0.2612, -0.2613]))])"
      ]
     },
     "execution_count": 23,
     "metadata": {},
     "output_type": "execute_result"
    }
   ],
   "source": [
    "ModelV0.state_dict() # 2 layers of weight and bias"
   ]
  },
  {
   "cell_type": "code",
   "execution_count": 24,
   "id": "80f1459a",
   "metadata": {},
   "outputs": [
    {
     "name": "stdout",
     "output_type": "stream",
     "text": [
      "Already exists!\n"
     ]
    }
   ],
   "source": [
    "# Loss function and Optimizer - Cross Entropy and SGD, and evaluation metric is accuracy\n",
    "import requests\n",
    "from pathlib import Path\n",
    "\n",
    "if Path('helper_functions.py').is_file():\n",
    "    print('Already exists!')\n",
    "else:\n",
    "    print('Downloading!')\n",
    "    request = requests.get('https://raw.githubusercontent.com/mrdbourke/pytorch-deep-learning/refs/heads/main/helper_functions.py')\n",
    "    with open('helper_functions.py') as f:\n",
    "        f.write(request.content)"
   ]
  },
  {
   "cell_type": "code",
   "execution_count": 25,
   "id": "a15b1ee6",
   "metadata": {},
   "outputs": [],
   "source": [
    "from helper_functions import accuracy_fn\n",
    "\n",
    "loss_fnV0 = nn.CrossEntropyLoss()\n",
    "\n",
    "optimizerV0 = torch.optim.SGD(params=ModelV0.parameters(),\n",
    "                              lr=0.1)"
   ]
  },
  {
   "cell_type": "code",
   "execution_count": 26,
   "id": "4117b097",
   "metadata": {},
   "outputs": [],
   "source": [
    "# Create a function to time experiments\n",
    "from timeit import default_timer as timer\n",
    "\n",
    "def print_train_time(start: float,\n",
    "                     end: float,\n",
    "                     device: torch.device = None):\n",
    "    total_time = end - start\n",
    "    print(f'Train time on {device} is {total_time:.4f} seconds')\n",
    "    return total_time"
   ]
  },
  {
   "cell_type": "code",
   "execution_count": 27,
   "id": "1753d6ae",
   "metadata": {},
   "outputs": [
    {
     "name": "stdout",
     "output_type": "stream",
     "text": [
      "Train time on None is 0.8526 seconds\n"
     ]
    },
    {
     "data": {
      "text/plain": [
       "0.8526136000000406"
      ]
     },
     "execution_count": 27,
     "metadata": {},
     "output_type": "execute_result"
    }
   ],
   "source": [
    "I = []\n",
    "start_time = timer()\n",
    "for _ in range(10000000):\n",
    "    I.append(1000)\n",
    "end_time = timer()\n",
    "\n",
    "print_train_time(start=start_time,\n",
    "                 end=end_time)"
   ]
  },
  {
   "cell_type": "code",
   "execution_count": 28,
   "id": "de4761c5",
   "metadata": {},
   "outputs": [
    {
     "name": "stdout",
     "output_type": "stream",
     "text": [
      "--------------------------------------------------\n"
     ]
    }
   ],
   "source": [
    "print('-'*50)"
   ]
  },
  {
   "cell_type": "code",
   "execution_count": 29,
   "id": "1fc5cbb3",
   "metadata": {},
   "outputs": [
    {
     "data": {
      "text/plain": [
       "'cpu'"
      ]
     },
     "execution_count": 29,
     "metadata": {},
     "output_type": "execute_result"
    }
   ],
   "source": [
    "str(next(ModelV0.parameters()).device)"
   ]
  },
  {
   "cell_type": "code",
   "execution_count": 30,
   "id": "6a7f818a",
   "metadata": {},
   "outputs": [
    {
     "data": {
      "application/vnd.jupyter.widget-view+json": {
       "model_id": "3fb781f78c4142cc8593fb968c9767f1",
       "version_major": 2,
       "version_minor": 0
      },
      "text/plain": [
       "  0%|          | 0/3 [00:00<?, ?it/s]"
      ]
     },
     "metadata": {},
     "output_type": "display_data"
    },
    {
     "name": "stdout",
     "output_type": "stream",
     "text": [
      "Epoch: 0\n",
      "--------------------------------------------------\n",
      "Looked at 0/60000 samples\n",
      "Looked at 10240/60000 samples\n",
      "Looked at 20480/60000 samples\n",
      "Looked at 30720/60000 samples\n",
      "Looked at 40960/60000 samples\n",
      "Looked at 51200/60000 samples\n",
      "Epoch: 1\n",
      "--------------------------------------------------\n",
      "Looked at 0/60000 samples\n",
      "Looked at 10240/60000 samples\n",
      "Looked at 20480/60000 samples\n",
      "Looked at 30720/60000 samples\n",
      "Looked at 40960/60000 samples\n",
      "Looked at 51200/60000 samples\n",
      "Epoch: 2\n",
      "--------------------------------------------------\n",
      "Looked at 0/60000 samples\n",
      "Looked at 10240/60000 samples\n",
      "Looked at 20480/60000 samples\n",
      "Looked at 30720/60000 samples\n",
      "Looked at 40960/60000 samples\n",
      "Looked at 51200/60000 samples\n",
      "\n",
      "Train Loss: 0.46 | Train Accuracy: 84.05% | Test Loss: 0.48 | Test Accuracy: 83.43%\n",
      "Train time on cpu is 19.9817 seconds\n"
     ]
    }
   ],
   "source": [
    "''' Create a training loop and training on batches of data\n",
    "Gradients update once per batch rather than once per epoch\n",
    "Training and test loss calculated per batch '''\n",
    "\n",
    "from tqdm.auto import tqdm # Progress Bar\n",
    "\n",
    "# Set manual seed and start the timer\n",
    "torch.manual_seed(42)\n",
    "train_time_oncpu_start = timer()\n",
    "\n",
    "# Set the no. of epochs\n",
    "epochs = 3\n",
    "\n",
    "# Create training and test loop\n",
    "for epoch in tqdm(range(epochs)): # Wrap epoch range with tqdm\n",
    "    print(f'Epoch: {epoch}\\n{'-'*50}')\n",
    "\n",
    "    # Training Phase - Loop through the training batches\n",
    "    train_loss = 0 # Initialize train loss to sum up later\n",
    "    train_acc = 0\n",
    "\n",
    "    for batch, (X, y) in enumerate(train_dataloader): # Batch enumerates batch number\n",
    "        # Batch 1, 2, 3, ... and (X, y) -> (image, label)\n",
    "\n",
    "        ModelV0.train()\n",
    "\n",
    "        # 1. Forward Pass\n",
    "        y_pred = ModelV0(X)\n",
    "\n",
    "        # 2. Calculate loss per batch\n",
    "        loss = loss_fnV0(y_pred, y)\n",
    "        acc = accuracy_fn(y, y_pred.argmax(dim=1))\n",
    "        train_loss += loss # Accumulate batch loss per epoch to average it out later\n",
    "        train_acc += acc\n",
    "\n",
    "        # 3. Optimizer zero grad\n",
    "        optimizerV0.zero_grad()\n",
    "\n",
    "        # 4. Backpropagation\n",
    "        loss.backward()\n",
    "\n",
    "        # 5. Optimizer Step\n",
    "        optimizerV0.step()\n",
    "\n",
    "        # Print out what is happening\n",
    "        if batch % 320 == 0:\n",
    "            print(f'Looked at {batch*len(X)}/{len(train_dataloader.dataset)} samples')\n",
    "\n",
    "    # Divide the train loss by length of train dataloader\n",
    "    train_loss /= len(train_dataloader) # Overall average train loss\n",
    "    train_acc /= len(train_dataloader)\n",
    "\n",
    "    # Testing Phase \n",
    "    test_loss, test_acc = 0, 0\n",
    "\n",
    "    ModelV0.eval()\n",
    "    with torch.inference_mode():\n",
    "        for X_test, y_test in test_dataloader:\n",
    "            # 1. Forward Pass\n",
    "            test_pred = ModelV0(X_test)\n",
    "\n",
    "            # 2. Calculate loss accumulatively\n",
    "            test_loss += loss_fnV0(test_pred, y_test)\n",
    "\n",
    "            # 3. Calculate accuracy\n",
    "            test_acc += accuracy_fn(y_test, test_pred.argmax(dim=1)) # To get labels\n",
    "\n",
    "        # Calculate the test loss average per batch\n",
    "        test_loss /= len(test_dataloader)\n",
    "\n",
    "        # Caculate the test accuracy average per batch\n",
    "        test_acc /= len(test_dataloader)\n",
    "\n",
    "# Print out status\n",
    "print(f'\\nTrain Loss: {train_loss:.2f} | Train Accuracy: {train_acc:.2f}% | Test Loss: {test_loss:.2f} | Test Accuracy: {test_acc:.2f}%')\n",
    "\n",
    "train_time_oncpu_end = timer()\n",
    "total_train_time_ModelV0 = print_train_time(start=train_time_oncpu_start,\n",
    "                                            end=train_time_oncpu_end,\n",
    "                                            device=str(next(ModelV0.parameters()).device))"
   ]
  },
  {
   "cell_type": "code",
   "execution_count": 31,
   "id": "8b7fb58a",
   "metadata": {},
   "outputs": [
    {
     "data": {
      "application/vnd.jupyter.widget-view+json": {
       "model_id": "c200b7172ac4416dbd3dbea89b57d8db",
       "version_major": 2,
       "version_minor": 0
      },
      "text/plain": [
       "  0%|          | 0/313 [00:00<?, ?it/s]"
      ]
     },
     "metadata": {},
     "output_type": "display_data"
    },
    {
     "data": {
      "text/plain": [
       "{'Model Name': 'FashionMNISTModelV0',\n",
       " 'Model Loss': 0.47663894295692444,\n",
       " 'Model Accuracy': '83.43%'}"
      ]
     },
     "execution_count": 31,
     "metadata": {},
     "output_type": "execute_result"
    }
   ],
   "source": [
    "### Make predictions and get ModelV0 results\n",
    "torch.manual_seed(42)\n",
    "def eval_model(model: torch.nn.Module,\n",
    "               data_loader: torch.utils.data.DataLoader,\n",
    "               loss_fn: torch.nn.Module,\n",
    "               accuracy_fn,\n",
    "               device: torch.device = None):\n",
    "    '''\n",
    "    Returns a dict containing the results of model predicting on data loader\n",
    "    '''\n",
    "\n",
    "    loss, acc = 0, 0\n",
    "    model.eval()\n",
    "    with torch.inference_mode():\n",
    "        # Get X, y -> Image, Label from DataLoader\n",
    "        for X, y in tqdm(data_loader):\n",
    "            X, y = X.to(device), y.to(device)\n",
    "            y_pred = model(X)\n",
    "\n",
    "            # Accumulate loss and accuracy values per batch\n",
    "            loss += loss_fn(y_pred, y)\n",
    "            acc += accuracy_fn(y, y_pred.argmax(dim=1)) # Choose label with highest prob\n",
    "\n",
    "        # Scale loss and accuracy to find average loss, accuracy per batch\n",
    "        loss /= len(data_loader)\n",
    "        acc /= len(data_loader)\n",
    "\n",
    "    return {\"Model Name\": model.__class__.__name__, # When model is class instance\n",
    "        \"Model Loss\": loss.item(), # Gets 1 item \n",
    "        \"Model Accuracy\": f'{acc:.2f}%'}\n",
    "\n",
    "# Calculate ModelV0 results on test dataset\n",
    "ModelV0_results = eval_model(model=ModelV0,\n",
    "                             data_loader=test_dataloader,\n",
    "                             loss_fn=loss_fnV0,\n",
    "                             accuracy_fn=accuracy_fn,\n",
    "                             device = 'cpu')\n",
    "ModelV0_results"
   ]
  },
  {
   "cell_type": "code",
   "execution_count": 32,
   "id": "4199c661",
   "metadata": {},
   "outputs": [
    {
     "name": "stdout",
     "output_type": "stream",
     "text": [
      "Mon May 12 11:58:15 2025       \n",
      "+-----------------------------------------------------------------------------------------+\n",
      "| NVIDIA-SMI 576.28                 Driver Version: 576.28         CUDA Version: 12.9     |\n",
      "|-----------------------------------------+------------------------+----------------------+\n",
      "| GPU  Name                  Driver-Model | Bus-Id          Disp.A | Volatile Uncorr. ECC |\n",
      "| Fan  Temp   Perf          Pwr:Usage/Cap |           Memory-Usage | GPU-Util  Compute M. |\n",
      "|                                         |                        |               MIG M. |\n",
      "|=========================================+========================+======================|\n",
      "|   0  NVIDIA GeForce RTX 4060 ...  WDDM  |   00000000:01:00.0  On |                  N/A |\n",
      "| N/A   43C    P8              2W /  114W |    1126MiB /   8188MiB |     19%      Default |\n",
      "|                                         |                        |                  N/A |\n",
      "+-----------------------------------------+------------------------+----------------------+\n",
      "                                                                                         \n",
      "+-----------------------------------------------------------------------------------------+\n",
      "| Processes:                                                                              |\n",
      "|  GPU   GI   CI              PID   Type   Process name                        GPU Memory |\n",
      "|        ID   ID                                                               Usage      |\n",
      "|=========================================================================================|\n",
      "|    0   N/A  N/A            8072    C+G   ...efSharp.BrowserSubprocess.exe      N/A      |\n",
      "|    0   N/A  N/A            9156    C+G   ...dgb7efx6bt\\app\\QuickPanel.exe      N/A      |\n",
      "|    0   N/A  N/A           14168    C+G   C:\\Windows\\explorer.exe               N/A      |\n",
      "|    0   N/A  N/A           14292    C+G   ...indows\\System32\\ShellHost.exe      N/A      |\n",
      "|    0   N/A  N/A           15188    C+G   ..._cw5n1h2txyewy\\SearchHost.exe      N/A      |\n",
      "|    0   N/A  N/A           15212    C+G   ...y\\StartMenuExperienceHost.exe      N/A      |\n",
      "|    0   N/A  N/A           15440    C+G   ...s\\Mozilla Firefox\\firefox.exe      N/A      |\n",
      "|    0   N/A  N/A           16112    C+G   ...xyewy\\ShellExperienceHost.exe      N/A      |\n",
      "|    0   N/A  N/A           17272    C+G   ...5n1h2txyewy\\TextInputHost.exe      N/A      |\n",
      "|    0   N/A  N/A           18276    C+G   ...4__cv1g1gvanyjgm\\WhatsApp.exe      N/A      |\n",
      "|    0   N/A  N/A           19380    C+G   ...7efx6bt\\app\\PredatorSense.exe      N/A      |\n",
      "|    0   N/A  N/A           19908    C+G   ...IA app\\CEF\\NVIDIA Overlay.exe      N/A      |\n",
      "|    0   N/A  N/A           20144    C+G   ...IA app\\CEF\\NVIDIA Overlay.exe      N/A      |\n",
      "|    0   N/A  N/A           20920    C+G   ...t\\Edge\\Application\\msedge.exe      N/A      |\n",
      "|    0   N/A  N/A           23448    C+G   ...8bbwe\\PhoneExperienceHost.exe      N/A      |\n",
      "|    0   N/A  N/A           23612    C+G   ...ms\\Microsoft VS Code\\Code.exe      N/A      |\n",
      "|    0   N/A  N/A           24948    C+G   ...App_cw5n1h2txyewy\\LockApp.exe      N/A      |\n",
      "|    0   N/A  N/A           27840    C+G   ...ntrolPanel\\SystemSettings.exe      N/A      |\n",
      "|    0   N/A  N/A           30128    C+G   ...em32\\ApplicationFrameHost.exe      N/A      |\n",
      "|    0   N/A  N/A           30148    C+G   ...s\\Mozilla Firefox\\firefox.exe      N/A      |\n",
      "|    0   N/A  N/A           30276    C+G   ...8aw4\\AcerPurifiedVoiceApp.exe      N/A      |\n",
      "|    0   N/A  N/A           30556    C+G   ...x64__dt26b99r8h8gj\\RtkUWP.exe      N/A      |\n",
      "+-----------------------------------------------------------------------------------------+\n"
     ]
    }
   ],
   "source": [
    "# Setup device agnostic code -> Shift to GPU\n",
    "!nvidia-smi"
   ]
  },
  {
   "cell_type": "code",
   "execution_count": 33,
   "id": "34767685",
   "metadata": {},
   "outputs": [
    {
     "data": {
      "text/plain": [
       "True"
      ]
     },
     "execution_count": 33,
     "metadata": {},
     "output_type": "execute_result"
    }
   ],
   "source": [
    "torch.cuda.is_available()"
   ]
  },
  {
   "cell_type": "code",
   "execution_count": 34,
   "id": "a2f329fe",
   "metadata": {},
   "outputs": [
    {
     "data": {
      "text/plain": [
       "'cuda'"
      ]
     },
     "execution_count": 34,
     "metadata": {},
     "output_type": "execute_result"
    }
   ],
   "source": [
    "device = 'cuda' if torch.cuda.is_available() else 'cpu'\n",
    "device"
   ]
  },
  {
   "cell_type": "code",
   "execution_count": 35,
   "id": "3463b799",
   "metadata": {},
   "outputs": [],
   "source": [
    "# Adding Non Linearity and running on GPU -> ModelV1\n",
    "class FashionMNISTModelV1(nn.Module):\n",
    "    def __init__(self,\n",
    "                 input_shape: int,\n",
    "                 hidden_units: int,\n",
    "                 output_shape: int):\n",
    "        super().__init__()\n",
    "\n",
    "        self.layer_stack = nn.Sequential(\n",
    "            nn.Flatten(),\n",
    "            nn.Linear(in_features=input_shape,\n",
    "                      out_features=hidden_units),\n",
    "            nn.ReLU(),\n",
    "            nn.Linear(in_features=hidden_units,\n",
    "                      out_features=output_shape),\n",
    "            nn.ReLU()\n",
    "        )\n",
    "    def forward(self, x: torch.Tensor):\n",
    "        return self.layer_stack(x)"
   ]
  },
  {
   "cell_type": "code",
   "execution_count": 36,
   "id": "478628d4",
   "metadata": {},
   "outputs": [
    {
     "data": {
      "text/plain": [
       "device(type='cuda', index=0)"
      ]
     },
     "execution_count": 36,
     "metadata": {},
     "output_type": "execute_result"
    }
   ],
   "source": [
    "# Create instance \n",
    "torch.manual_seed(42)\n",
    "ModelV1 = FashionMNISTModelV1(input_shape=784,\n",
    "                              hidden_units=10,\n",
    "                              output_shape=len(class_names)).to(device)\n",
    "\n",
    "next(ModelV1.parameters()).device\n",
    "# Is a generator object, so next(). Also, checks where model parameters are situated: CPU or GPU"
   ]
  },
  {
   "cell_type": "code",
   "execution_count": 37,
   "id": "344310d2",
   "metadata": {},
   "outputs": [],
   "source": [
    "# Loss function and Optimizer\n",
    "from helper_functions import accuracy_fn\n",
    "loss_fnV1 = nn.CrossEntropyLoss()\n",
    "\n",
    "optimizerV1 = torch.optim.SGD(params=ModelV1.parameters(),\n",
    "                              lr=0.1)"
   ]
  },
  {
   "cell_type": "code",
   "execution_count": 38,
   "id": "1a148531",
   "metadata": {},
   "outputs": [],
   "source": [
    "# Training Loop - Functionizing\n",
    "\n",
    "def train_step(model: torch.nn.Module,\n",
    "               data_loader: torch.utils.data.DataLoader,\n",
    "               loss_fn: torch.nn.Module,\n",
    "               accuracy_fn,\n",
    "               optimizer: torch.optim.Optimizer,\n",
    "               device: torch.device = None):\n",
    "    \n",
    "    train_loss, train_acc = 0, 0\n",
    "\n",
    "    model.train()\n",
    "\n",
    "    for batch, (X, y) in enumerate(data_loader):\n",
    "        X, y = X.to(device), y.to(device)\n",
    "\n",
    "        y_pred = model(X)\n",
    "\n",
    "        loss = loss_fn(y_pred, y)\n",
    "        train_loss += loss\n",
    "\n",
    "        acc = accuracy_fn(y, y_pred.argmax(dim=1))\n",
    "        train_acc += acc\n",
    "\n",
    "        optimizer.zero_grad()\n",
    "\n",
    "        loss.backward()\n",
    "\n",
    "        optimizer.step()\n",
    "\n",
    "    train_loss /= len(data_loader)\n",
    "    train_acc /= len(data_loader)\n",
    "\n",
    "    print(f'Train Loss: {train_loss:.5f} | Train Accuracy: {train_acc:.2f}%')\n"
   ]
  },
  {
   "cell_type": "code",
   "execution_count": 39,
   "id": "e7ae5a49",
   "metadata": {},
   "outputs": [],
   "source": [
    "def test_step(model: torch.nn.Module,\n",
    "              data_loader: torch.utils.data.DataLoader,\n",
    "              loss_fn: torch.nn.Module,\n",
    "              accuracy_fn,\n",
    "              device: torch.device = None):\n",
    "    \n",
    "    test_loss, test_acc = 0, 0\n",
    "\n",
    "    model.eval()\n",
    "    \n",
    "    with torch.inference_mode():\n",
    "        for X, y in data_loader:\n",
    "            X, y = X.to(device), y.to(device)\n",
    "\n",
    "            y_pred = model(X)\n",
    "\n",
    "            test_loss += loss_fn(y_pred, y)\n",
    "\n",
    "            test_acc += accuracy_fn(y, y_pred.argmax(dim=1))\n",
    "\n",
    "        test_loss /= len(data_loader)      \n",
    "        test_acc /= len(data_loader)      \n",
    "\n",
    "    print(f'Test Loss: {test_loss:.5f} | Test Accuracy: {test_acc:.2f}%')"
   ]
  },
  {
   "cell_type": "code",
   "execution_count": 40,
   "id": "a0930bf3",
   "metadata": {},
   "outputs": [
    {
     "data": {
      "application/vnd.jupyter.widget-view+json": {
       "model_id": "806262b4f87b42b58995a7aa534a5a05",
       "version_major": 2,
       "version_minor": 0
      },
      "text/plain": [
       "  0%|          | 0/3 [00:00<?, ?it/s]"
      ]
     },
     "metadata": {},
     "output_type": "display_data"
    },
    {
     "name": "stdout",
     "output_type": "stream",
     "text": [
      "Epoch: 0\n",
      "--------------------\n",
      "Train Loss: 1.09199 | Train Accuracy: 61.34%\n",
      "Test Loss: 0.95636 | Test Accuracy: 65.00%\n",
      "Epoch: 1\n",
      "--------------------\n",
      "Train Loss: 0.78101 | Train Accuracy: 71.93%\n",
      "Test Loss: 0.72227 | Test Accuracy: 73.91%\n",
      "Epoch: 2\n",
      "--------------------\n",
      "Train Loss: 0.67027 | Train Accuracy: 75.94%\n",
      "Test Loss: 0.68500 | Test Accuracy: 75.02%\n",
      "Train time on cuda is 29.5693 seconds\n"
     ]
    }
   ],
   "source": [
    "torch.manual_seed(42)\n",
    "\n",
    "from timeit import default_timer as timer\n",
    "train_time_ongpu_start = timer()\n",
    "\n",
    "epochs = 3\n",
    "\n",
    "for epoch in tqdm(range(epochs)):\n",
    "    print(f'Epoch: {epoch}\\n--------------------')\n",
    "\n",
    "    train_step(model=ModelV1,\n",
    "              data_loader=train_dataloader,\n",
    "              loss_fn=loss_fnV1,\n",
    "              optimizer=optimizerV1,\n",
    "              accuracy_fn=accuracy_fn,\n",
    "              device=device)\n",
    "    \n",
    "    test_step(model=ModelV1,\n",
    "              data_loader=test_dataloader,\n",
    "              loss_fn=loss_fnV1,\n",
    "              accuracy_fn=accuracy_fn,\n",
    "              device=device)\n",
    "    \n",
    "train_time_ongpu_end = timer()\n",
    "\n",
    "total_train_time_ModelV1 = print_train_time(start=train_time_ongpu_start, \n",
    "                                            end=train_time_ongpu_end, \n",
    "                                            device=device)"
   ]
  },
  {
   "cell_type": "code",
   "execution_count": 41,
   "id": "4aa2baf9",
   "metadata": {},
   "outputs": [
    {
     "data": {
      "text/plain": [
       "{'Model Name': 'FashionMNISTModelV0',\n",
       " 'Model Loss': 0.47663894295692444,\n",
       " 'Model Accuracy': '83.43%'}"
      ]
     },
     "execution_count": 41,
     "metadata": {},
     "output_type": "execute_result"
    }
   ],
   "source": [
    "ModelV0_results"
   ]
  },
  {
   "cell_type": "code",
   "execution_count": 42,
   "id": "118614af",
   "metadata": {},
   "outputs": [
    {
     "data": {
      "text/plain": [
       "19.98170179999579"
      ]
     },
     "execution_count": 42,
     "metadata": {},
     "output_type": "execute_result"
    }
   ],
   "source": [
    "total_train_time_ModelV0"
   ]
  },
  {
   "cell_type": "code",
   "execution_count": 43,
   "id": "af5686ff",
   "metadata": {},
   "outputs": [
    {
     "data": {
      "application/vnd.jupyter.widget-view+json": {
       "model_id": "eb80586dac1e40068b53cc95615b5816",
       "version_major": 2,
       "version_minor": 0
      },
      "text/plain": [
       "  0%|          | 0/313 [00:00<?, ?it/s]"
      ]
     },
     "metadata": {},
     "output_type": "display_data"
    },
    {
     "data": {
      "text/plain": [
       "{'Model Name': 'FashionMNISTModelV1',\n",
       " 'Model Loss': 0.6850008964538574,\n",
       " 'Model Accuracy': '75.02%'}"
      ]
     },
     "execution_count": 43,
     "metadata": {},
     "output_type": "execute_result"
    }
   ],
   "source": [
    "ModelV1_results = eval_model(model=ModelV1,\n",
    "                             data_loader=test_dataloader,\n",
    "                             loss_fn=loss_fnV1,\n",
    "                             accuracy_fn=accuracy_fn,\n",
    "                             device=device)\n",
    "ModelV1_results"
   ]
  },
  {
   "cell_type": "code",
   "execution_count": 44,
   "id": "d0ae3994",
   "metadata": {},
   "outputs": [
    {
     "data": {
      "text/plain": [
       "29.569325799995568"
      ]
     },
     "execution_count": 44,
     "metadata": {},
     "output_type": "execute_result"
    }
   ],
   "source": [
    "total_train_time_ModelV1"
   ]
  },
  {
   "cell_type": "markdown",
   "id": "cd87e355",
   "metadata": {},
   "source": [
    "### **Note**: Training on CPU faster than training on GPU\n",
    "\n",
    "1. Overhead of copying data/model to and from the GPU outweighs the compute benefits offered by GPU"
   ]
  },
  {
   "cell_type": "markdown",
   "id": "dbc98a6c",
   "metadata": {},
   "source": [
    "### **Convolutional Neural Networks (CNNs)**"
   ]
  },
  {
   "cell_type": "code",
   "execution_count": 45,
   "id": "d958d7c2",
   "metadata": {},
   "outputs": [],
   "source": [
    "# Model 2: CNN -> ConvNets: Finds patterns in visual data\n",
    "# Simple CNN: \n",
    "# Inputs -> \n",
    "#   Processed Input (RGB Tensors) -> \n",
    "#       Conv Layer -> \n",
    "#           ReLU Layer -> \n",
    "#               Pooling Layer -> \n",
    "#                   Linear Output Layer (Labels)\n",
    "\n",
    "# Residual Connections: Non-consecutive layers communicate with each other\n",
    "# CNN Explainer Website\n",
    "\n",
    "class FashionMNISTModelV2(nn.Module):\n",
    "    '''\n",
    "    Model architecture that replicates the TinyVGG model from CNN explainer website\n",
    "    '''\n",
    "    def __init__(self,\n",
    "                 input_shape: int,\n",
    "                 hidden_units: int,\n",
    "                 output_shape: int):\n",
    "        super().__init__() # Block -> Layers, Model -> Blocks\n",
    "        self.conv_block_one = nn.Sequential(\n",
    "            nn.Conv2d(in_channels=input_shape, # 2D because we are working with images (ht*wd)\n",
    "                      out_channels=hidden_units,\n",
    "                      kernel_size=3, # Can also be set as a tuple (3,3)\n",
    "                      stride=1,\n",
    "                      padding=1),\n",
    "            nn.ReLU(),\n",
    "            nn.Conv2d(in_channels=hidden_units,\n",
    "                      out_channels=hidden_units,\n",
    "                      kernel_size=3,\n",
    "                      stride=1,\n",
    "                      padding=1),\n",
    "            nn.ReLU(),\n",
    "            nn.MaxPool2d(kernel_size=2)\n",
    "            # MaxPool takes maximum value from numbers presents in the filter/windows\n",
    "        )\n",
    "\n",
    "        self.conv_block_two = nn.Sequential(\n",
    "            nn.Conv2d(in_channels=hidden_units,\n",
    "                      out_channels=hidden_units,\n",
    "                      kernel_size=3,\n",
    "                      stride=1,\n",
    "                      padding=1),\n",
    "            nn.ReLU(),\n",
    "            nn.Conv2d(in_channels=hidden_units,\n",
    "                      out_channels=hidden_units,\n",
    "                      kernel_size=3,\n",
    "                      stride=1,\n",
    "                      padding=1),\n",
    "            nn.ReLU(),\n",
    "            nn.MaxPool2d(kernel_size=2)\n",
    "        )\n",
    "\n",
    "        # Output Layer also called Classifier\n",
    "        self.classifier = nn.Sequential(\n",
    "            nn.Flatten(), # Tensor per Pixel Transformation\n",
    "            nn.Linear(in_features=hidden_units*7*7, \n",
    "                      # We 7*7 to match with the dimensions set by flatten (490)\n",
    "                      # Matrix Multiplication of 1*490 and 10*10 is occuring so to balance the calculation we add 7*7\n",
    "                      out_features=output_shape)\n",
    "        )\n",
    "\n",
    "    def forward(self, x):\n",
    "        # print(f'Before Conv: {x.shape}')\n",
    "        x = self.conv_block_one(x)\n",
    "        # print(f'After passing through first Conv: {x.shape}')\n",
    "        x = self.conv_block_two(x)\n",
    "        # print(f'After passing through second Conv: {x.shape}')\n",
    "        x = self.classifier(x)\n",
    "        # print(f'After Classifier: {x.shape}')\n",
    "\n",
    "        return x"
   ]
  },
  {
   "cell_type": "code",
   "execution_count": 46,
   "id": "06a2252f",
   "metadata": {},
   "outputs": [
    {
     "data": {
      "text/plain": [
       "torch.Size([1, 28, 28])"
      ]
     },
     "execution_count": 46,
     "metadata": {},
     "output_type": "execute_result"
    }
   ],
   "source": [
    "image.shape"
   ]
  },
  {
   "cell_type": "code",
   "execution_count": 47,
   "id": "6b73ad00",
   "metadata": {},
   "outputs": [],
   "source": [
    "torch.manual_seed(42)\n",
    "ModelV2 = FashionMNISTModelV2(input_shape=1, # 1 Color Channel\n",
    "                              hidden_units=10,\n",
    "                              output_shape=len(class_names)).to(device)"
   ]
  },
  {
   "cell_type": "code",
   "execution_count": 48,
   "id": "938b7c70",
   "metadata": {},
   "outputs": [
    {
     "name": "stdout",
     "output_type": "stream",
     "text": [
      "Image batch shape: torch.Size([32, 3, 64, 64])\n",
      "Single Image Shape: torch.Size([3, 64, 64])\n",
      "tensor([[[ 1.9269,  1.4873,  0.9007,  ...,  1.8446, -1.1845,  1.3835],\n",
      "         [ 1.4451,  0.8564,  2.2181,  ...,  0.3399,  0.7200,  0.4114],\n",
      "         [ 1.9312,  1.0119, -1.4364,  ..., -0.5558,  0.7043,  0.7099],\n",
      "         ...,\n",
      "         [-0.5610, -0.4830,  0.4770,  ..., -0.2713, -0.9537, -0.6737],\n",
      "         [ 0.3076, -0.1277,  0.0366,  ..., -2.0060,  0.2824, -0.8111],\n",
      "         [-1.5486,  0.0485, -0.7712,  ..., -0.1403,  0.9416, -0.0118]],\n",
      "\n",
      "        [[-0.5197,  1.8524,  1.8365,  ...,  0.8935, -1.5114, -0.8515],\n",
      "         [ 2.0818,  1.0677, -1.4277,  ...,  1.6612, -2.6223, -0.4319],\n",
      "         [-0.1010, -0.4388, -1.9775,  ...,  0.2106,  0.2536, -0.7318],\n",
      "         ...,\n",
      "         [ 0.2779,  0.7342, -0.3736,  ..., -0.4601,  0.1815,  0.1850],\n",
      "         [ 0.7205, -0.2833,  0.0937,  ..., -0.1002, -2.3609,  2.2465],\n",
      "         [-1.3242, -0.1973,  0.2920,  ...,  0.5409,  0.6940,  1.8563]],\n",
      "\n",
      "        [[-0.7978,  1.0261,  1.1465,  ...,  1.2134,  0.9354, -0.0780],\n",
      "         [-1.4647, -1.9571,  0.1017,  ..., -1.9986, -0.7409,  0.7011],\n",
      "         [-1.3938,  0.8466, -1.7191,  ..., -1.1867,  0.1320,  0.3407],\n",
      "         ...,\n",
      "         [ 0.8206, -0.3745,  1.2499,  ..., -0.0676,  0.0385,  0.6335],\n",
      "         [-0.5589, -0.3393,  0.2347,  ...,  2.1181,  2.4569,  1.3083],\n",
      "         [-0.4092,  1.5199,  0.2401,  ..., -0.2558,  0.7870,  0.9924]]])\n"
     ]
    }
   ],
   "source": [
    "# Stepping through `nn.Conv2d()`\n",
    "torch.manual_seed(42)\n",
    "\n",
    "# Create a batch of images\n",
    "images = torch.randn(size=(32, 3, 64, 64))\n",
    "test_image = images[0]\n",
    "\n",
    "print(f'Image batch shape: {images.shape}')\n",
    "print(f'Single Image Shape: {test_image.shape}')\n",
    "print(test_image)"
   ]
  },
  {
   "cell_type": "code",
   "execution_count": 49,
   "id": "9fb6eb21",
   "metadata": {},
   "outputs": [
    {
     "data": {
      "text/plain": [
       "torch.Size([1, 3, 64, 64])"
      ]
     },
     "execution_count": 49,
     "metadata": {},
     "output_type": "execute_result"
    }
   ],
   "source": [
    "# Create a single conv2d() layer\n",
    "torch.manual_seed(42)\n",
    "conv_layer = nn.Conv2d(in_channels=3, # No. of color channels\n",
    "                       out_channels=10,\n",
    "                       kernel_size=5,\n",
    "                       stride=1,\n",
    "                       padding=0)\n",
    "\n",
    "test_image.unsqueeze(0).shape"
   ]
  },
  {
   "cell_type": "code",
   "execution_count": 50,
   "id": "0a9e6520",
   "metadata": {},
   "outputs": [
    {
     "data": {
      "text/plain": [
       "(torch.Size([3, 64, 64]),\n",
       " tensor([[[[-5.9479e-01,  5.1592e-01, -1.5861e+00,  ..., -9.0964e-02,\n",
       "             4.6227e-01, -6.0360e-01],\n",
       "           [ 3.4598e-01, -1.7241e-01, -4.1079e-01,  ...,  1.6331e-01,\n",
       "             5.2090e-01,  1.3144e+00],\n",
       "           [-2.8077e-02, -4.4019e-01, -1.2165e+00,  ..., -2.4385e-01,\n",
       "            -2.4841e-01,  3.5551e-01],\n",
       "           ...,\n",
       "           [ 6.3600e-01,  2.2507e-01,  2.0247e-01,  ...,  3.0973e-01,\n",
       "             1.3567e-01,  7.5305e-02],\n",
       "           [-8.4161e-01,  1.1192e-01,  1.7929e-01,  ...,  5.0107e-01,\n",
       "            -6.6306e-01,  4.7155e-01],\n",
       "           [ 1.0285e+00,  1.5175e+00,  5.5489e-01,  ..., -7.3607e-01,\n",
       "            -7.1551e-01, -8.6667e-01]],\n",
       " \n",
       "          [[ 1.3999e-01, -1.2239e+00, -1.0109e+00,  ...,  6.2065e-01,\n",
       "            -7.5165e-01,  1.1006e+00],\n",
       "           [-4.6926e-01,  4.6811e-01,  2.8089e-01,  ..., -2.5950e-01,\n",
       "             1.1656e+00, -2.9479e-01],\n",
       "           [ 1.5869e-01, -1.5092e-01,  1.5218e+00,  ...,  4.4120e-01,\n",
       "             1.9650e-01,  5.0309e-01],\n",
       "           ...,\n",
       "           [ 1.1853e+00,  4.4037e-01,  9.7999e-02,  ..., -1.7534e-02,\n",
       "             6.9483e-01,  1.6488e-01],\n",
       "           [-6.9351e-01, -6.6185e-01,  4.2150e-02,  ..., -2.6688e-01,\n",
       "             7.0322e-01, -2.6846e-01],\n",
       "           [ 3.9578e-01,  9.9085e-01, -2.1364e-01,  ...,  7.6742e-01,\n",
       "            -1.2961e+00, -6.0915e-01]],\n",
       " \n",
       "          [[ 1.7556e+00, -1.0250e+00, -7.6344e-01,  ...,  8.3267e-01,\n",
       "            -3.4861e-01,  9.3345e-01],\n",
       "           [-9.4390e-01, -5.2558e-01, -9.9797e-02,  ...,  1.7749e-01,\n",
       "             7.6543e-01, -3.8800e-01],\n",
       "           [ 2.3972e-01,  3.3077e-01, -7.0267e-02,  ..., -1.1946e+00,\n",
       "             3.1783e-01, -8.5928e-02],\n",
       "           ...,\n",
       "           [ 1.1390e+00, -2.1867e-01, -1.1612e+00,  ...,  2.5657e-01,\n",
       "            -8.6413e-01,  4.3621e-01],\n",
       "           [-5.7955e-01,  5.7997e-01,  8.0496e-01,  ..., -4.1956e-01,\n",
       "             8.9195e-01, -6.0612e-01],\n",
       "           [ 1.7797e-01,  1.2880e-01, -7.7253e-02,  ..., -1.2090e+00,\n",
       "             2.1458e-02,  1.2459e-01]],\n",
       " \n",
       "          ...,\n",
       " \n",
       "          [[-6.0774e-01, -3.8977e-01,  3.1052e-01,  ...,  4.0558e-01,\n",
       "            -6.1065e-01, -2.6465e-01],\n",
       "           [-4.8797e-02,  8.5648e-01,  1.1236e+00,  ..., -2.4406e-02,\n",
       "             2.2323e-01, -9.0483e-01],\n",
       "           [-1.2983e-01,  2.3875e-01,  8.3316e-01,  ..., -7.8297e-01,\n",
       "             1.4521e+00,  1.5583e-01],\n",
       "           ...,\n",
       "           [ 5.0951e-01,  8.0241e-01,  7.0241e-02,  ...,  4.0255e-01,\n",
       "             3.4965e-01,  8.6387e-02],\n",
       "           [-3.3943e-01,  7.6884e-01,  5.2003e-01,  ...,  4.0187e-01,\n",
       "            -2.9876e-01, -1.1724e-01],\n",
       "           [ 6.2488e-01, -1.2779e-01, -4.6893e-02,  ..., -5.3489e-01,\n",
       "             1.1262e+00,  4.2446e-01]],\n",
       " \n",
       "          [[-2.0896e-01,  2.9871e-01,  5.4135e-01,  ...,  2.7104e-01,\n",
       "            -1.6940e-01,  7.8302e-02],\n",
       "           [-7.4955e-01, -1.1435e-01,  8.3600e-01,  ..., -3.4533e-01,\n",
       "             6.5893e-01, -2.1684e-01],\n",
       "           [-8.9340e-01,  7.4106e-01,  4.7200e-01,  ...,  9.6003e-01,\n",
       "             1.2011e-02, -7.6218e-04],\n",
       "           ...,\n",
       "           [-2.4507e-01,  1.2618e+00, -5.4726e-01,  ..., -2.9954e-01,\n",
       "            -3.1316e-01, -7.7876e-01],\n",
       "           [-9.4826e-01, -5.0554e-01, -4.8385e-01,  ...,  5.0180e-01,\n",
       "            -9.6367e-01,  4.8582e-01],\n",
       "           [ 2.6932e-01, -5.4282e-02, -9.1020e-01,  ..., -1.0835e+00,\n",
       "            -2.9302e-01,  2.9482e-02]],\n",
       " \n",
       "          [[-6.4139e-01, -3.3295e-01,  5.2738e-01,  ..., -3.2313e-01,\n",
       "            -9.5425e-01,  2.6845e-01],\n",
       "           [ 6.0404e-01, -2.1509e-01,  1.9336e-01,  ..., -2.6891e-01,\n",
       "            -3.0475e-01,  9.9439e-01],\n",
       "           [-6.3643e-02,  2.5261e-01,  7.4916e-01,  ..., -6.4064e-01,\n",
       "             9.2101e-01,  7.6342e-02],\n",
       "           ...,\n",
       "           [ 5.6914e-01,  1.6701e-01,  3.3334e-01,  ...,  5.4074e-01,\n",
       "             7.7554e-02, -2.8679e-01],\n",
       "           [ 3.1762e-01,  7.3141e-01,  7.5682e-01,  ...,  9.2003e-02,\n",
       "             1.0959e+00, -1.0275e+00],\n",
       "           [ 2.4943e-01, -6.3540e-01, -1.5774e-01,  ..., -1.5759e+00,\n",
       "             4.2537e-01,  1.1603e+00]]]], grad_fn=<ConvolutionBackward0>))"
      ]
     },
     "execution_count": 50,
     "metadata": {},
     "output_type": "execute_result"
    }
   ],
   "source": [
    "test_image.shape, conv_layer(test_image.unsqueeze(0)) # Accepts 3 dim"
   ]
  },
  {
   "cell_type": "code",
   "execution_count": 51,
   "id": "9c3a267c",
   "metadata": {},
   "outputs": [
    {
     "data": {
      "text/plain": [
       "torch.Size([1, 10, 60, 60])"
      ]
     },
     "execution_count": 51,
     "metadata": {},
     "output_type": "execute_result"
    }
   ],
   "source": [
    "conv_layer(test_image.unsqueeze(0)).shape\n",
    "# All params: Kernel, Stride, Padding affect the shape of transformed inputs"
   ]
  },
  {
   "cell_type": "code",
   "execution_count": 52,
   "id": "2ddd36a3",
   "metadata": {},
   "outputs": [
    {
     "name": "stdout",
     "output_type": "stream",
     "text": [
      "Shape of Conv Layer Inputs: torch.Size([10, 60, 60])\n",
      "Conv Ouput: tensor([[[-5.9479e-01,  5.1592e-01, -1.5861e+00,  ..., -9.0964e-02,\n",
      "           4.6227e-01, -6.0360e-01],\n",
      "         [ 3.4598e-01, -1.7241e-01, -4.1079e-01,  ...,  1.6331e-01,\n",
      "           5.2090e-01,  1.3144e+00],\n",
      "         [-2.8077e-02, -4.4019e-01, -1.2165e+00,  ..., -2.4385e-01,\n",
      "          -2.4841e-01,  3.5551e-01],\n",
      "         ...,\n",
      "         [ 6.3600e-01,  2.2507e-01,  2.0247e-01,  ...,  3.0973e-01,\n",
      "           1.3567e-01,  7.5305e-02],\n",
      "         [-8.4161e-01,  1.1192e-01,  1.7929e-01,  ...,  5.0107e-01,\n",
      "          -6.6306e-01,  4.7155e-01],\n",
      "         [ 1.0285e+00,  1.5175e+00,  5.5489e-01,  ..., -7.3607e-01,\n",
      "          -7.1551e-01, -8.6667e-01]],\n",
      "\n",
      "        [[ 1.3999e-01, -1.2239e+00, -1.0109e+00,  ...,  6.2065e-01,\n",
      "          -7.5165e-01,  1.1006e+00],\n",
      "         [-4.6926e-01,  4.6811e-01,  2.8089e-01,  ..., -2.5950e-01,\n",
      "           1.1656e+00, -2.9479e-01],\n",
      "         [ 1.5869e-01, -1.5092e-01,  1.5218e+00,  ...,  4.4120e-01,\n",
      "           1.9650e-01,  5.0309e-01],\n",
      "         ...,\n",
      "         [ 1.1853e+00,  4.4037e-01,  9.7999e-02,  ..., -1.7534e-02,\n",
      "           6.9483e-01,  1.6488e-01],\n",
      "         [-6.9351e-01, -6.6185e-01,  4.2150e-02,  ..., -2.6688e-01,\n",
      "           7.0322e-01, -2.6846e-01],\n",
      "         [ 3.9578e-01,  9.9085e-01, -2.1364e-01,  ...,  7.6742e-01,\n",
      "          -1.2961e+00, -6.0915e-01]],\n",
      "\n",
      "        [[ 1.7556e+00, -1.0250e+00, -7.6344e-01,  ...,  8.3267e-01,\n",
      "          -3.4861e-01,  9.3345e-01],\n",
      "         [-9.4390e-01, -5.2558e-01, -9.9797e-02,  ...,  1.7749e-01,\n",
      "           7.6543e-01, -3.8800e-01],\n",
      "         [ 2.3972e-01,  3.3077e-01, -7.0267e-02,  ..., -1.1946e+00,\n",
      "           3.1783e-01, -8.5928e-02],\n",
      "         ...,\n",
      "         [ 1.1390e+00, -2.1867e-01, -1.1612e+00,  ...,  2.5657e-01,\n",
      "          -8.6413e-01,  4.3621e-01],\n",
      "         [-5.7955e-01,  5.7997e-01,  8.0496e-01,  ..., -4.1956e-01,\n",
      "           8.9195e-01, -6.0612e-01],\n",
      "         [ 1.7797e-01,  1.2880e-01, -7.7253e-02,  ..., -1.2090e+00,\n",
      "           2.1458e-02,  1.2459e-01]],\n",
      "\n",
      "        ...,\n",
      "\n",
      "        [[-6.0774e-01, -3.8977e-01,  3.1052e-01,  ...,  4.0558e-01,\n",
      "          -6.1065e-01, -2.6465e-01],\n",
      "         [-4.8797e-02,  8.5648e-01,  1.1236e+00,  ..., -2.4406e-02,\n",
      "           2.2323e-01, -9.0483e-01],\n",
      "         [-1.2983e-01,  2.3875e-01,  8.3316e-01,  ..., -7.8297e-01,\n",
      "           1.4521e+00,  1.5583e-01],\n",
      "         ...,\n",
      "         [ 5.0951e-01,  8.0241e-01,  7.0241e-02,  ...,  4.0255e-01,\n",
      "           3.4965e-01,  8.6387e-02],\n",
      "         [-3.3943e-01,  7.6884e-01,  5.2003e-01,  ...,  4.0187e-01,\n",
      "          -2.9876e-01, -1.1724e-01],\n",
      "         [ 6.2488e-01, -1.2779e-01, -4.6893e-02,  ..., -5.3489e-01,\n",
      "           1.1262e+00,  4.2446e-01]],\n",
      "\n",
      "        [[-2.0896e-01,  2.9871e-01,  5.4135e-01,  ...,  2.7104e-01,\n",
      "          -1.6940e-01,  7.8302e-02],\n",
      "         [-7.4955e-01, -1.1435e-01,  8.3600e-01,  ..., -3.4533e-01,\n",
      "           6.5893e-01, -2.1684e-01],\n",
      "         [-8.9340e-01,  7.4106e-01,  4.7200e-01,  ...,  9.6003e-01,\n",
      "           1.2011e-02, -7.6218e-04],\n",
      "         ...,\n",
      "         [-2.4507e-01,  1.2618e+00, -5.4726e-01,  ..., -2.9954e-01,\n",
      "          -3.1316e-01, -7.7876e-01],\n",
      "         [-9.4826e-01, -5.0554e-01, -4.8385e-01,  ...,  5.0180e-01,\n",
      "          -9.6367e-01,  4.8582e-01],\n",
      "         [ 2.6932e-01, -5.4282e-02, -9.1020e-01,  ..., -1.0835e+00,\n",
      "          -2.9302e-01,  2.9482e-02]],\n",
      "\n",
      "        [[-6.4139e-01, -3.3295e-01,  5.2738e-01,  ..., -3.2313e-01,\n",
      "          -9.5425e-01,  2.6845e-01],\n",
      "         [ 6.0404e-01, -2.1509e-01,  1.9336e-01,  ..., -2.6891e-01,\n",
      "          -3.0475e-01,  9.9439e-01],\n",
      "         [-6.3643e-02,  2.5261e-01,  7.4916e-01,  ..., -6.4064e-01,\n",
      "           9.2101e-01,  7.6342e-02],\n",
      "         ...,\n",
      "         [ 5.6914e-01,  1.6701e-01,  3.3334e-01,  ...,  5.4074e-01,\n",
      "           7.7554e-02, -2.8679e-01],\n",
      "         [ 3.1762e-01,  7.3141e-01,  7.5682e-01,  ...,  9.2003e-02,\n",
      "           1.0959e+00, -1.0275e+00],\n",
      "         [ 2.4943e-01, -6.3540e-01, -1.5774e-01,  ..., -1.5759e+00,\n",
      "           4.2537e-01,  1.1603e+00]]], grad_fn=<SqueezeBackward1>)\n"
     ]
    }
   ],
   "source": [
    "## MaxPool2D()\n",
    "max_pool = nn.MaxPool2d(kernel_size=3)\n",
    "\n",
    "conved = conv_layer(test_image)\n",
    "print(f'Shape of Conv Layer Inputs: {conved.shape}\\nConv Ouput: {conved}')\n"
   ]
  },
  {
   "cell_type": "code",
   "execution_count": 53,
   "id": "e606839c",
   "metadata": {},
   "outputs": [
    {
     "name": "stdout",
     "output_type": "stream",
     "text": [
      "Shape of Conv and Max Pool Layer Inputs: torch.Size([10, 20, 20])\n",
      "Conv and Max Pool Ouput: tensor([[[0.5159, 0.9244, 0.8886,  ..., 0.6743, 0.0576, 1.3144],\n",
      "         [0.7677, 0.8908, 0.5282,  ..., 0.8518, 0.4208, 0.6530],\n",
      "         [0.7394, 0.9005, 0.9401,  ..., 1.5041, 0.9780, 0.9299],\n",
      "         ...,\n",
      "         [0.4812, 1.0482, 1.0330,  ..., 0.7860, 1.3602, 1.1511],\n",
      "         [0.8934, 0.5784, 1.2239,  ..., 0.4352, 0.5601, 1.0192],\n",
      "         [1.5175, 1.0944, 0.9018,  ..., 0.8200, 0.1477, 0.5011]],\n",
      "\n",
      "        [[1.5218, 0.6148, 0.8905,  ..., 0.8587, 1.6605, 1.1656],\n",
      "         [1.3664, 0.6880, 0.5347,  ..., 1.0916, 0.4478, 0.5911],\n",
      "         [1.4925, 1.1654, 0.7053,  ..., 0.6400, 0.8752, 0.6903],\n",
      "         ...,\n",
      "         [0.4983, 0.9342, 0.4318,  ..., 0.9075, 1.0315, 1.1375],\n",
      "         [0.9630, 1.0805, 0.4508,  ..., 1.6630, 0.6909, 0.6211],\n",
      "         [1.1853, 0.8081, 0.9485,  ..., 0.6796, 0.7935, 0.7674]],\n",
      "\n",
      "        [[1.7556, 0.4869, 0.4266,  ..., 0.3777, 0.5127, 0.9334],\n",
      "         [0.5626, 0.5696, 1.1932,  ..., 1.2197, 0.8812, 1.1235],\n",
      "         [0.5988, 0.8806, 0.4051,  ..., 0.4030, 0.6678, 0.4179],\n",
      "         ...,\n",
      "         [0.1176, 0.9420, 0.4421,  ..., 1.0799, 0.5815, 0.8769],\n",
      "         [0.5917, 0.9773, 0.3927,  ..., 0.5867, 0.8237, 1.0090],\n",
      "         [1.1390, 0.4398, 0.6056,  ..., 0.7260, 0.0391, 0.8920]],\n",
      "\n",
      "        ...,\n",
      "\n",
      "        [[1.1236, 1.5028, 0.4865,  ..., 0.9134, 1.0955, 1.4521],\n",
      "         [0.8450, 0.5834, 0.7284,  ..., 1.0005, 1.7025, 1.3792],\n",
      "         [0.5282, 0.8909, 1.3935,  ..., 0.7792, 1.2040, 1.5500],\n",
      "         ...,\n",
      "         [0.7176, 0.5380, 0.5920,  ..., 0.4027, 1.2656, 0.5212],\n",
      "         [1.1276, 0.6104, 0.7701,  ..., 0.4443, 0.9763, 0.2765],\n",
      "         [0.8024, 0.9598, 0.7609,  ..., 0.9844, 0.8566, 1.1262]],\n",
      "\n",
      "        [[0.8360, 0.8634, 1.1316,  ..., 0.5750, 0.9115, 0.9600],\n",
      "         [0.6299, 0.4417, 0.8230,  ..., 0.8251, 1.1575, 1.5501],\n",
      "         [0.7746, 1.6116, 0.9393,  ..., 1.0275, 1.7449, 0.7600],\n",
      "         ...,\n",
      "         [0.5738, 0.7321, 0.7411,  ..., 0.3074, 0.9500, 0.6309],\n",
      "         [0.5875, 0.1785, 0.4400,  ..., 0.6604, 0.7735, 0.1926],\n",
      "         [1.2618, 0.8279, 0.9611,  ..., 0.7992, 0.5616, 0.5018]],\n",
      "\n",
      "        [[0.7492, 0.5579, 0.5896,  ..., 0.9547, 0.7256, 0.9944],\n",
      "         [0.6574, 0.5295, 1.1174,  ..., 0.8524, 0.9986, 1.2124],\n",
      "         [1.7126, 0.5493, 1.2831,  ..., 1.0522, 1.4584, 1.4098],\n",
      "         ...,\n",
      "         [0.6085, 1.1711, 0.7505,  ..., 1.0862, 0.6498, 0.9284],\n",
      "         [1.1526, 1.4931, 0.8790,  ..., 0.6364, 0.6002, 1.1759],\n",
      "         [0.7568, 1.2181, 0.1053,  ..., 1.5255, 0.7147, 1.1603]]],\n",
      "       grad_fn=<MaxPool2DWithIndicesBackward0>)\n"
     ]
    }
   ],
   "source": [
    "maxpooled = max_pool(conved)\n",
    "print(f'Shape of Conv and Max Pool Layer Inputs: {maxpooled.shape}\\nConv and Max Pool Ouput: {maxpooled}')\n",
    "# Further decrease in shape, due to compression from higher dimension to lower dimension\n",
    "# Max value or value representing the window best is chosen"
   ]
  },
  {
   "cell_type": "code",
   "execution_count": 54,
   "id": "06dca4af",
   "metadata": {},
   "outputs": [
    {
     "name": "stdout",
     "output_type": "stream",
     "text": [
      "Test Image: tensor([[[[0.3367, 0.1288],\n",
      "          [0.2345, 0.2303]]]])\n",
      "Shape of Test Image: torch.Size([1, 1, 2, 2])\n",
      "Max Pooled Image: tensor([[[[0.3367]]]])\n",
      "Shape of Max Pooled Image: torch.Size([1, 1, 1, 1])\n"
     ]
    }
   ],
   "source": [
    "torch.manual_seed(42)\n",
    "# Create random tensor\n",
    "rand_tens = torch.randn(size=(1,1,2,2))\n",
    "print(f'Test Image: {rand_tens}\\nShape of Test Image: {rand_tens.shape}')\n",
    "\n",
    "maxpool_layer = nn.MaxPool2d(kernel_size=2)\n",
    "rand_maxpool = maxpool_layer(rand_tens)\n",
    "print(f'Max Pooled Image: {rand_maxpool}\\nShape of Max Pooled Image: {rand_maxpool.shape}')\n",
    "\n",
    "# Significant Compression\n"
   ]
  },
  {
   "cell_type": "code",
   "execution_count": 55,
   "id": "c3a2a75c",
   "metadata": {},
   "outputs": [
    {
     "data": {
      "text/plain": [
       "torch.Size([1, 28, 28])"
      ]
     },
     "execution_count": 55,
     "metadata": {},
     "output_type": "execute_result"
    },
    {
     "data": {
      "image/png": "[encoded data removed]",
      "text/plain": [
       "<Figure size 640x480 with 1 Axes>"
      ]
     },
     "metadata": {},
     "output_type": "display_data"
    }
   ],
   "source": [
    "plt.imshow(image.squeeze(), cmap='gray')\n",
    "image.shape"
   ]
  },
  {
   "cell_type": "code",
   "execution_count": 56,
   "id": "4bc94d91",
   "metadata": {},
   "outputs": [],
   "source": [
    "ModelV2.eval()\n",
    "with torch.inference_mode():\n",
    "    ModelV2(image.unsqueeze(0).to(device))"
   ]
  },
  {
   "cell_type": "code",
   "execution_count": 57,
   "id": "68740a53",
   "metadata": {},
   "outputs": [],
   "source": [
    "# Loss function and Optimizer \n",
    "\n",
    "from helper_functions import accuracy_fn\n",
    "\n",
    "loss_fnV2 = nn.CrossEntropyLoss()\n",
    "\n",
    "optimizerV2 = torch.optim.SGD(params=ModelV2.parameters(),\n",
    "                              lr=0.1)"
   ]
  },
  {
   "cell_type": "code",
   "execution_count": 58,
   "id": "15a76930",
   "metadata": {},
   "outputs": [
    {
     "data": {
      "application/vnd.jupyter.widget-view+json": {
       "model_id": "4c70c4394789423085d4a0caf9b6362e",
       "version_major": 2,
       "version_minor": 0
      },
      "text/plain": [
       "  0%|          | 0/3 [00:00<?, ?it/s]"
      ]
     },
     "metadata": {},
     "output_type": "display_data"
    },
    {
     "name": "stdout",
     "output_type": "stream",
     "text": [
      "Train Loss: 0.59219 | Train Accuracy: 78.56%\n",
      "Test Loss: 0.39056 | Test Accuracy: 86.05%\n",
      "Train Loss: 0.35907 | Train Accuracy: 87.03%\n",
      "Test Loss: 0.36111 | Test Accuracy: 87.04%\n",
      "Train Loss: 0.32348 | Train Accuracy: 88.20%\n",
      "Test Loss: 0.31131 | Test Accuracy: 88.90%\n",
      "Train time on cuda is 33.7815 seconds\n"
     ]
    }
   ],
   "source": [
    "torch.manual_seed(42)\n",
    "torch.cuda.manual_seed(42)\n",
    "\n",
    "from timeit import default_timer as timer\n",
    "train_time_start_V2 = timer()\n",
    "\n",
    "epochs = 3\n",
    "\n",
    "for epoch in tqdm(range(epochs)):\n",
    "    train_step(model=ModelV2,\n",
    "               data_loader=train_dataloader,\n",
    "               loss_fn=loss_fnV2,\n",
    "               accuracy_fn=accuracy_fn,\n",
    "               optimizer=optimizerV2,\n",
    "               device=device\n",
    "               )\n",
    "\n",
    "    test_step(model=ModelV2,\n",
    "              data_loader=test_dataloader,\n",
    "              loss_fn=loss_fnV2,\n",
    "              accuracy_fn=accuracy_fn,\n",
    "              device=device)\n",
    "\n",
    "train_time_end_V2 = timer()\n",
    "\n",
    "total_train_time_ModelV2 = print_train_time(start=train_time_start_V2, end=train_time_end_V2, device=device)"
   ]
  },
  {
   "cell_type": "code",
   "execution_count": 59,
   "id": "64108c82",
   "metadata": {},
   "outputs": [
    {
     "data": {
      "application/vnd.jupyter.widget-view+json": {
       "model_id": "442a484b2a514e99b29bde52480e0efa",
       "version_major": 2,
       "version_minor": 0
      },
      "text/plain": [
       "  0%|          | 0/313 [00:00<?, ?it/s]"
      ]
     },
     "metadata": {},
     "output_type": "display_data"
    },
    {
     "data": {
      "text/plain": [
       "{'Model Name': 'FashionMNISTModelV2',\n",
       " 'Model Loss': 0.3113122582435608,\n",
       " 'Model Accuracy': '88.90%'}"
      ]
     },
     "execution_count": 59,
     "metadata": {},
     "output_type": "execute_result"
    }
   ],
   "source": [
    "ModelV2_results = eval_model(model=ModelV2,\n",
    "                             data_loader=test_dataloader,\n",
    "                             loss_fn=loss_fnV2,\n",
    "                             accuracy_fn=accuracy_fn,\n",
    "                             device=device)\n",
    "\n",
    "ModelV2_results"
   ]
  },
  {
   "cell_type": "code",
   "execution_count": 60,
   "id": "4fc9cf0a",
   "metadata": {},
   "outputs": [
    {
     "data": {
      "text/plain": [
       "{'Model Name': 'FashionMNISTModelV0',\n",
       " 'Model Loss': 0.47663894295692444,\n",
       " 'Model Accuracy': '83.43%'}"
      ]
     },
     "execution_count": 60,
     "metadata": {},
     "output_type": "execute_result"
    }
   ],
   "source": [
    "ModelV0_results"
   ]
  },
  {
   "cell_type": "code",
   "execution_count": 61,
   "id": "8abd0741",
   "metadata": {},
   "outputs": [
    {
     "data": {
      "text/plain": [
       "{'Model Name': 'FashionMNISTModelV1',\n",
       " 'Model Loss': 0.6850008964538574,\n",
       " 'Model Accuracy': '75.02%'}"
      ]
     },
     "execution_count": 61,
     "metadata": {},
     "output_type": "execute_result"
    }
   ],
   "source": [
    "ModelV1_results"
   ]
  },
  {
   "cell_type": "code",
   "execution_count": 62,
   "id": "d8edbe63",
   "metadata": {},
   "outputs": [
    {
     "data": {
      "text/html": [
       "<div>\n",
       "<style scoped>\n",
       "    .dataframe tbody tr th:only-of-type {\n",
       "        vertical-align: middle;\n",
       "    }\n",
       "\n",
       "    .dataframe tbody tr th {\n",
       "        vertical-align: top;\n",
       "    }\n",
       "\n",
       "    .dataframe thead th {\n",
       "        text-align: right;\n",
       "    }\n",
       "</style>\n",
       "<table border=\"1\" class=\"dataframe\">\n",
       "  <thead>\n",
       "    <tr style=\"text-align: right;\">\n",
       "      <th></th>\n",
       "      <th>Model Name</th>\n",
       "      <th>Model Loss</th>\n",
       "      <th>Model Accuracy</th>\n",
       "    </tr>\n",
       "  </thead>\n",
       "  <tbody>\n",
       "    <tr>\n",
       "      <th>0</th>\n",
       "      <td>FashionMNISTModelV0</td>\n",
       "      <td>0.476639</td>\n",
       "      <td>83.43%</td>\n",
       "    </tr>\n",
       "    <tr>\n",
       "      <th>1</th>\n",
       "      <td>FashionMNISTModelV1</td>\n",
       "      <td>0.685001</td>\n",
       "      <td>75.02%</td>\n",
       "    </tr>\n",
       "    <tr>\n",
       "      <th>2</th>\n",
       "      <td>FashionMNISTModelV2</td>\n",
       "      <td>0.311312</td>\n",
       "      <td>88.90%</td>\n",
       "    </tr>\n",
       "  </tbody>\n",
       "</table>\n",
       "</div>"
      ],
      "text/plain": [
       "            Model Name  Model Loss Model Accuracy\n",
       "0  FashionMNISTModelV0    0.476639         83.43%\n",
       "1  FashionMNISTModelV1    0.685001         75.02%\n",
       "2  FashionMNISTModelV2    0.311312         88.90%"
      ]
     },
     "execution_count": 62,
     "metadata": {},
     "output_type": "execute_result"
    }
   ],
   "source": [
    "import pandas as pd\n",
    "compare_results = pd.DataFrame([ModelV0_results,\n",
    "                                ModelV1_results,\n",
    "                                ModelV2_results]) # Passing Dictionary\n",
    "\n",
    "compare_results"
   ]
  },
  {
   "cell_type": "code",
   "execution_count": 63,
   "id": "096a838e",
   "metadata": {},
   "outputs": [
    {
     "data": {
      "text/html": [
       "<div>\n",
       "<style scoped>\n",
       "    .dataframe tbody tr th:only-of-type {\n",
       "        vertical-align: middle;\n",
       "    }\n",
       "\n",
       "    .dataframe tbody tr th {\n",
       "        vertical-align: top;\n",
       "    }\n",
       "\n",
       "    .dataframe thead th {\n",
       "        text-align: right;\n",
       "    }\n",
       "</style>\n",
       "<table border=\"1\" class=\"dataframe\">\n",
       "  <thead>\n",
       "    <tr style=\"text-align: right;\">\n",
       "      <th></th>\n",
       "      <th>0</th>\n",
       "    </tr>\n",
       "  </thead>\n",
       "  <tbody>\n",
       "    <tr>\n",
       "      <th>0</th>\n",
       "      <td>19.981702</td>\n",
       "    </tr>\n",
       "    <tr>\n",
       "      <th>1</th>\n",
       "      <td>29.569326</td>\n",
       "    </tr>\n",
       "    <tr>\n",
       "      <th>2</th>\n",
       "      <td>33.781459</td>\n",
       "    </tr>\n",
       "  </tbody>\n",
       "</table>\n",
       "</div>"
      ],
      "text/plain": [
       "           0\n",
       "0  19.981702\n",
       "1  29.569326\n",
       "2  33.781459"
      ]
     },
     "execution_count": 63,
     "metadata": {},
     "output_type": "execute_result"
    }
   ],
   "source": [
    "compare_train_time = pd.DataFrame([total_train_time_ModelV0, total_train_time_ModelV1, total_train_time_ModelV2])\n",
    "compare_train_time"
   ]
  },
  {
   "cell_type": "code",
   "execution_count": 64,
   "id": "8030a950",
   "metadata": {},
   "outputs": [
    {
     "data": {
      "text/html": [
       "<div>\n",
       "<style scoped>\n",
       "    .dataframe tbody tr th:only-of-type {\n",
       "        vertical-align: middle;\n",
       "    }\n",
       "\n",
       "    .dataframe tbody tr th {\n",
       "        vertical-align: top;\n",
       "    }\n",
       "\n",
       "    .dataframe thead th {\n",
       "        text-align: right;\n",
       "    }\n",
       "</style>\n",
       "<table border=\"1\" class=\"dataframe\">\n",
       "  <thead>\n",
       "    <tr style=\"text-align: right;\">\n",
       "      <th></th>\n",
       "      <th>Model Name</th>\n",
       "      <th>Model Loss</th>\n",
       "      <th>Model Accuracy</th>\n",
       "      <th>Total Training Time</th>\n",
       "    </tr>\n",
       "  </thead>\n",
       "  <tbody>\n",
       "    <tr>\n",
       "      <th>0</th>\n",
       "      <td>FashionMNISTModelV0</td>\n",
       "      <td>0.476639</td>\n",
       "      <td>83.43%</td>\n",
       "      <td>19.981702</td>\n",
       "    </tr>\n",
       "    <tr>\n",
       "      <th>1</th>\n",
       "      <td>FashionMNISTModelV1</td>\n",
       "      <td>0.685001</td>\n",
       "      <td>75.02%</td>\n",
       "      <td>29.569326</td>\n",
       "    </tr>\n",
       "    <tr>\n",
       "      <th>2</th>\n",
       "      <td>FashionMNISTModelV2</td>\n",
       "      <td>0.311312</td>\n",
       "      <td>88.90%</td>\n",
       "      <td>33.781459</td>\n",
       "    </tr>\n",
       "  </tbody>\n",
       "</table>\n",
       "</div>"
      ],
      "text/plain": [
       "            Model Name  Model Loss Model Accuracy  Total Training Time\n",
       "0  FashionMNISTModelV0    0.476639         83.43%            19.981702\n",
       "1  FashionMNISTModelV1    0.685001         75.02%            29.569326\n",
       "2  FashionMNISTModelV2    0.311312         88.90%            33.781459"
      ]
     },
     "execution_count": 64,
     "metadata": {},
     "output_type": "execute_result"
    }
   ],
   "source": [
    "compare_results['Total Training Time'] = [total_train_time_ModelV0,\n",
    "                                          total_train_time_ModelV1,\n",
    "                                          total_train_time_ModelV2]\n",
    "\n",
    "compare_results"
   ]
  },
  {
   "cell_type": "code",
   "execution_count": 65,
   "id": "5c7ba55b",
   "metadata": {},
   "outputs": [
    {
     "data": {
      "image/png": "[encoded data removed]",
      "text/plain": [
       "<Figure size 640x480 with 1 Axes>"
      ]
     },
     "metadata": {},
     "output_type": "display_data"
    }
   ],
   "source": [
    "# Visualize Model Results\n",
    "compare_results.set_index('Model Name')['Model Loss'].plot(kind='barh')\n",
    "plt.xlabel(\"Accuracy (%)\")\n",
    "plt.ylabel(\"Model\");"
   ]
  },
  {
   "cell_type": "code",
   "execution_count": 66,
   "id": "2692da73",
   "metadata": {},
   "outputs": [],
   "source": [
    "# Remove % from Model Accuracy Column\n",
    "# compare_results['Model Accuracy'] = compare_results['Model Accuracy'].str.rstrip('%').astype(float)"
   ]
  },
  {
   "cell_type": "code",
   "execution_count": 127,
   "id": "e3defb56",
   "metadata": {},
   "outputs": [],
   "source": [
    "# Make and evaluate random predictions with best model\n",
    "def make_predictions(model: torch.nn.Module,\n",
    "                     data: list,\n",
    "                     device: torch.device = device):\n",
    "    pred_probs = []\n",
    "    model.to(device)\n",
    "    model.eval()\n",
    "\n",
    "    with torch.inference_mode():\n",
    "        for sample in data:\n",
    "            sample = torch.unsqueeze(sample, dim=0).to(device) # Adding an batch dim\n",
    "\n",
    "            # Forward Paass \n",
    "            pred_logit = model(sample)\n",
    "\n",
    "            # Ger prediction probability (logit -> prediction prob)\n",
    "            pred_prob = torch.softmax(pred_logit.squeeze(), dim=0)\n",
    "\n",
    "            pred_probs.append(pred_prob.cpu())\n",
    "\n",
    "    # print(f'Just List: {pred_probs[:2]}')\n",
    "    # Separate Tensors [tensor([--]), tensor([--])]\n",
    "\n",
    "    # print((f'Torch Stack List: {torch.stack(pred_probs[:2])}') \n",
    "    # 1 Single Tensor tensor([[--], [--]])\n",
    "    \n",
    "    return torch.stack(pred_probs)"
   ]
  },
  {
   "cell_type": "code",
   "execution_count": 74,
   "id": "b2725a6b",
   "metadata": {},
   "outputs": [
    {
     "data": {
      "text/plain": [
       "(torch.Size([1, 28, 28]), 9)"
      ]
     },
     "execution_count": 74,
     "metadata": {},
     "output_type": "execute_result"
    }
   ],
   "source": [
    "image, label = test_data[0][:10]\n",
    "image.shape, label"
   ]
  },
  {
   "cell_type": "code",
   "execution_count": 145,
   "id": "2935ab0a",
   "metadata": {},
   "outputs": [
    {
     "data": {
      "text/plain": [
       "torch.Size([1, 28, 28])"
      ]
     },
     "execution_count": 145,
     "metadata": {},
     "output_type": "execute_result"
    }
   ],
   "source": [
    "import random \n",
    "# random.seed(42)\n",
    "\n",
    "test_samples = []\n",
    "test_labels = []\n",
    "\n",
    "for sample, label in random.sample(list(test_data), k=9): # 9 samples\n",
    "\n",
    "    test_samples.append(sample)\n",
    "    test_labels.append(label)\n",
    "\n",
    "# View first sample shape\n",
    "test_samples[0].shape\n"
   ]
  },
  {
   "cell_type": "code",
   "execution_count": 141,
   "id": "68c65029",
   "metadata": {},
   "outputs": [
    {
     "data": {
      "text/plain": [
       "Text(0.5, 1.0, 'Ankle boot')"
      ]
     },
     "execution_count": 141,
     "metadata": {},
     "output_type": "execute_result"
    },
    {
     "data": {
      "image/png": "[encoded data removed]",
      "text/plain": [
       "<Figure size 640x480 with 1 Axes>"
      ]
     },
     "metadata": {},
     "output_type": "display_data"
    }
   ],
   "source": [
    "plt.imshow(test_samples[0].squeeze(), cmap='gray')\n",
    "plt.title(class_names[test_labels[0]]) # class_names is a list"
   ]
  },
  {
   "cell_type": "code",
   "execution_count": 123,
   "id": "3b2dbb18",
   "metadata": {},
   "outputs": [
    {
     "name": "stdout",
     "output_type": "stream",
     "text": [
      "Just List: [tensor([1.8849e-08, 3.1732e-08, 1.9705e-08, 1.8635e-08, 1.2072e-08, 9.9995e-01,\n",
      "        5.1956e-08, 6.1403e-06, 1.0083e-05, 3.3503e-05]), tensor([6.6998e-02, 5.5198e-01, 1.4693e-03, 1.2793e-01, 9.6392e-02, 1.4918e-04,\n",
      "        1.5347e-01, 7.2632e-04, 6.0476e-04, 2.8876e-04])]\n",
      "Torch Stack List: tensor([[1.8849e-08, 3.1732e-08, 1.9705e-08, 1.8635e-08, 1.2072e-08, 9.9995e-01,\n",
      "         5.1956e-08, 6.1403e-06, 1.0083e-05, 3.3503e-05],\n",
      "        [6.6998e-02, 5.5198e-01, 1.4693e-03, 1.2793e-01, 9.6392e-02, 1.4918e-04,\n",
      "         1.5347e-01, 7.2632e-04, 6.0476e-04, 2.8876e-04]])\n"
     ]
    },
    {
     "data": {
      "text/plain": [
       "(tensor([5]), 'Sandal')"
      ]
     },
     "execution_count": 123,
     "metadata": {},
     "output_type": "execute_result"
    }
   ],
   "source": [
    "pred_probs = make_predictions(model=ModelV2,\n",
    "                              data=test_samples)\n",
    "\n",
    "pred_probs[:1].argmax(dim=1), class_names[pred_probs[:1].argmax(dim=1).item()]"
   ]
  },
  {
   "cell_type": "code",
   "execution_count": 125,
   "id": "6e73be95",
   "metadata": {},
   "outputs": [
    {
     "name": "stdout",
     "output_type": "stream",
     "text": [
      "Just List: [tensor([1.8849e-08, 3.1732e-08, 1.9705e-08, 1.8635e-08, 1.2072e-08, 9.9995e-01,\n",
      "        5.1956e-08, 6.1403e-06, 1.0083e-05, 3.3503e-05]), tensor([6.6998e-02, 5.5198e-01, 1.4693e-03, 1.2793e-01, 9.6392e-02, 1.4918e-04,\n",
      "        1.5347e-01, 7.2632e-04, 6.0476e-04, 2.8876e-04])]\n",
      "Torch Stack List: tensor([[1.8849e-08, 3.1732e-08, 1.9705e-08, 1.8635e-08, 1.2072e-08, 9.9995e-01,\n",
      "         5.1956e-08, 6.1403e-06, 1.0083e-05, 3.3503e-05],\n",
      "        [6.6998e-02, 5.5198e-01, 1.4693e-03, 1.2793e-01, 9.6392e-02, 1.4918e-04,\n",
      "         1.5347e-01, 7.2632e-04, 6.0476e-04, 2.8876e-04]])\n"
     ]
    },
    {
     "data": {
      "text/plain": [
       "(tensor([5, 1, 7, 4, 3, 0, 4, 7, 1]), [5, 1, 7, 4, 3, 0, 4, 7, 1])"
      ]
     },
     "execution_count": 125,
     "metadata": {},
     "output_type": "execute_result"
    }
   ],
   "source": [
    "pred_probs2 = make_predictions(model=ModelV2,\n",
    "                               data=test_samples)\n",
    "\n",
    "pred_probs2.argmax(dim=1), test_labels"
   ]
  },
  {
   "cell_type": "code",
   "execution_count": 146,
   "id": "e63f58bb",
   "metadata": {},
   "outputs": [],
   "source": [
    "pred_classes = make_predictions(model=ModelV2,\n",
    "                                data=test_samples)\n",
    "\n",
    "pred_classes = pred_classes.argmax(dim=1)"
   ]
  },
  {
   "cell_type": "code",
   "execution_count": 147,
   "id": "e594e2af",
   "metadata": {},
   "outputs": [
    {
     "data": {
      "image/png": "[encoded data removed]",
      "text/plain": [
       "<Figure size 900x900 with 9 Axes>"
      ]
     },
     "metadata": {},
     "output_type": "display_data"
    }
   ],
   "source": [
    "# Plot Predictions\n",
    "plt.figure(figsize=(9,9))\n",
    "nrows = 3\n",
    "ncols = 3\n",
    "\n",
    "for i, sample in enumerate(test_samples):\n",
    "    plt.subplot(nrows, ncols, i+1)\n",
    "\n",
    "    plt.imshow(sample.squeeze(), cmap='gray')\n",
    "\n",
    "    pred_label = class_names[pred_classes[i]]\n",
    "    \n",
    "    truth_label = class_names[test_labels[i]]\n",
    "\n",
    "    title_text = f\"Pred: {pred_label} | Truth: {truth_label}\"\n",
    "\n",
    "    if truth_label == pred_label:\n",
    "        plt.title(title_text, c='g', fontsize=10)\n",
    "    \n",
    "    else:\n",
    "        plt.title(title_text, fontsize=10, c='r')\n",
    "\n",
    "    plt.axis('off')\n",
    "    "
   ]
  },
  {
   "cell_type": "code",
   "execution_count": 179,
   "id": "78d3a0a2",
   "metadata": {},
   "outputs": [
    {
     "data": {
      "application/vnd.jupyter.widget-view+json": {
       "model_id": "dfffae9b62574f64b7c5c2f208afcf5b",
       "version_major": 2,
       "version_minor": 0
      },
      "text/plain": [
       " Making Predictions:   0%|          | 0/313 [00:00<?, ?it/s]"
      ]
     },
     "metadata": {},
     "output_type": "display_data"
    },
    {
     "data": {
      "text/plain": [
       "(tensor([9, 2, 1,  ..., 8, 1, 2]),\n",
       " [tensor([9, 2, 1, 1, 6, 1, 4, 6, 5, 7, 4, 5, 5, 3, 4, 1, 2, 4, 8, 0, 2, 5, 7, 5,\n",
       "          1, 6, 6, 0, 9, 4, 8, 8]),\n",
       "  tensor([3, 3, 8, 0, 7, 5, 7, 9, 6, 1, 3, 9, 6, 7, 2, 1, 4, 6, 4, 4, 5, 8, 2, 2,\n",
       "          8, 4, 8, 0, 7, 7, 8, 5]),\n",
       "  tensor([1, 1, 3, 3, 7, 8, 7, 0, 2, 6, 4, 3, 1, 2, 8, 4, 4, 8, 5, 9, 5, 0, 3, 2,\n",
       "          0, 6, 5, 3, 6, 7, 1, 6]),\n",
       "  tensor([0, 1, 2, 2, 3, 6, 7, 6, 7, 8, 5, 7, 9, 4, 2, 5, 7, 0, 5, 2, 8, 6, 7, 8,\n",
       "          0, 0, 9, 9, 3, 0, 8, 4]),\n",
       "  tensor([1, 5, 4, 1, 9, 1, 8, 6, 6, 1, 2, 5, 1, 6, 0, 0, 1, 6, 1, 3, 2, 2, 2, 4,\n",
       "          1, 4, 5, 6, 4, 7, 9, 3]),\n",
       "  tensor([5, 2, 3, 8, 0, 9, 4, 8, 4, 2, 6, 5, 6, 1, 2, 1, 3, 6, 9, 1, 0, 9, 3, 8,\n",
       "          7, 8, 9, 4, 4, 7, 1, 2]),\n",
       "  tensor([3, 6, 3, 2, 8, 3, 6, 1, 1, 6, 2, 9, 2, 4, 0, 7, 9, 8, 4, 1, 8, 4, 1, 3,\n",
       "          1, 6, 7, 2, 8, 5, 6, 0]),\n",
       "  tensor([7, 7, 6, 2, 7, 0, 7, 8, 9, 2, 9, 0, 5, 1, 3, 2, 5, 4, 9, 2, 2, 8, 6, 4,\n",
       "          3, 2, 9, 7, 3, 5, 5, 4]),\n",
       "  tensor([8, 5, 2, 3, 0, 4, 8, 6, 0, 6, 3, 8, 9, 6, 1, 6, 6, 2, 3, 0, 8, 3, 7, 4,\n",
       "          6, 1, 2, 4, 6, 6, 2, 7]),\n",
       "  tensor([8, 4, 5, 9, 5, 6, 5, 5, 1, 9, 8, 3, 3, 3, 6, 8, 0, 0, 2, 9, 7, 7, 1, 3,\n",
       "          6, 6, 2, 4, 7, 1, 6, 4]),\n",
       "  tensor([8, 2, 6, 5, 6, 2, 8, 7, 7, 3, 3, 7, 0, 7, 1, 3, 7, 2, 2, 3, 4, 0, 0, 1,\n",
       "          0, 1, 9, 4, 9, 9, 1, 7]),\n",
       "  tensor([8, 3, 6, 0, 2, 4, 8, 2, 1, 2, 2, 4, 4, 7, 3, 2, 2, 5, 0, 7, 9, 4, 0, 9,\n",
       "          3, 9, 8, 2, 5, 6, 2, 3]),\n",
       "  tensor([5, 8, 1, 3, 2, 2, 6, 4, 9, 5, 2, 0, 6, 6, 1, 2, 0, 9, 7, 0, 3, 4, 3, 3,\n",
       "          2, 3, 3, 6, 7, 3, 9, 4]),\n",
       "  tensor([2, 1, 5, 4, 5, 3, 6, 5, 8, 4, 4, 8, 9, 8, 6, 2, 4, 4, 2, 4, 1, 6, 1, 3,\n",
       "          0, 7, 8, 8, 6, 5, 3, 1]),\n",
       "  tensor([9, 5, 3, 3, 6, 1, 2, 2, 9, 4, 6, 6, 6, 6, 2, 0, 0, 3, 3, 8, 2, 8, 9, 4,\n",
       "          0, 7, 6, 4, 6, 9, 2, 9]),\n",
       "  tensor([7, 9, 3, 7, 5, 7, 8, 1, 6, 0, 6, 4, 8, 9, 7, 9, 1, 2, 7, 3, 2, 0, 5, 7,\n",
       "          1, 8, 2, 2, 2, 2, 4, 4]),\n",
       "  tensor([6, 1, 9, 0, 5, 1, 9, 0, 2, 8, 3, 8, 7, 2, 6, 2, 8, 0, 2, 0, 5, 8, 7, 5,\n",
       "          0, 9, 4, 3, 4, 2, 7, 1]),\n",
       "  tensor([3, 1, 2, 6, 2, 9, 6, 1, 5, 1, 3, 1, 9, 3, 4, 5, 3, 6, 2, 6, 4, 6, 0, 5,\n",
       "          8, 3, 3, 4, 6, 7, 7, 8]),\n",
       "  tensor([9, 3, 3, 8, 7, 6, 7, 9, 3, 2, 6, 3, 8, 0, 1, 1, 5, 9, 4, 2, 5, 7, 8, 1,\n",
       "          2, 9, 7, 7, 1, 0, 9, 3]),\n",
       "  tensor([4, 9, 0, 5, 1, 8, 2, 7, 1, 2, 3, 8, 2, 2, 6, 5, 3, 0, 7, 8, 8, 2, 9, 4,\n",
       "          1, 6, 4, 1, 0, 1, 4, 1]),\n",
       "  tensor([7, 5, 8, 4, 9, 1, 6, 5, 4, 4, 4, 6, 0, 4, 5, 6, 0, 3, 5, 2, 1, 3, 1, 6,\n",
       "          6, 2, 3, 8, 2, 8, 6, 7]),\n",
       "  tensor([0, 4, 1, 8, 5, 0, 8, 2, 7, 2, 8, 9, 6, 4, 4, 9, 6, 4, 5, 0, 9, 5, 3, 6,\n",
       "          6, 2, 1, 1, 8, 1, 4, 0]),\n",
       "  tensor([9, 7, 7, 4, 8, 9, 1, 3, 7, 3, 0, 2, 4, 7, 1, 0, 6, 8, 7, 2, 6, 4, 4, 4,\n",
       "          1, 5, 9, 3, 0, 3, 6, 5]),\n",
       "  tensor([6, 6, 4, 3, 3, 8, 1, 1, 8, 5, 7, 9, 8, 7, 2, 0, 7, 2, 8, 0, 9, 7, 6, 1,\n",
       "          6, 2, 4, 8, 2, 6, 3, 6]),\n",
       "  tensor([8, 3, 0, 8, 9, 2, 4, 5, 9, 1, 6, 4, 9, 2, 3, 7, 9, 5, 8, 3, 7, 7, 1, 1,\n",
       "          1, 6, 9, 5, 3, 8, 4, 2]),\n",
       "  tensor([9, 2, 8, 0, 2, 2, 4, 7, 1, 4, 9, 0, 5, 8, 5, 4, 7, 2, 8, 5, 9, 3, 3, 6,\n",
       "          7, 1, 7, 0, 5, 4, 6, 5]),\n",
       "  tensor([8, 3, 7, 1, 2, 6, 1, 9, 8, 2, 7, 1, 3, 7, 5, 9, 9, 1, 8, 4, 5, 7, 1, 5,\n",
       "          8, 1, 0, 0, 2, 1, 7, 1]),\n",
       "  tensor([1, 8, 7, 1, 5, 2, 2, 3, 3, 1, 1, 4, 9, 4, 3, 7, 7, 0, 8, 9, 9, 6, 1, 3,\n",
       "          4, 0, 0, 5, 9, 2, 0, 5]),\n",
       "  tensor([5, 1, 5, 7, 8, 7, 9, 3, 6, 4, 0, 4, 0, 2, 0, 2, 5, 5, 1, 2, 0, 9, 3, 7,\n",
       "          8, 4, 8, 3, 4, 7, 0, 7]),\n",
       "  tensor([4, 8, 6, 3, 4, 4, 3, 6, 9, 6, 2, 3, 9, 1, 8, 1, 7, 5, 5, 6, 6, 2, 1, 0,\n",
       "          5, 4, 0, 0, 2, 7, 8, 6]),\n",
       "  tensor([2, 5, 9, 4, 8, 2, 6, 4, 6, 2, 9, 0, 7, 7, 1, 4, 4, 0, 5, 0, 9, 9, 8, 8,\n",
       "          4, 1, 2, 4, 6, 6, 3, 2]),\n",
       "  tensor([3, 7, 6, 9, 3, 4, 7, 7, 0, 3, 9, 5, 6, 4, 5, 9, 6, 3, 7, 5, 1, 9, 8, 8,\n",
       "          9, 9, 2, 9, 2, 2, 3, 8]),\n",
       "  tensor([7, 4, 4, 5, 4, 8, 6, 1, 4, 9, 3, 1, 6, 8, 0, 5, 7, 8, 2, 3, 3, 9, 6, 3,\n",
       "          6, 0, 4, 8, 0, 2, 9, 6]),\n",
       "  tensor([6, 3, 2, 7, 0, 2, 1, 1, 3, 4, 6, 5, 9, 0, 1, 6, 5, 1, 4, 4, 8, 4, 7, 7,\n",
       "          3, 8, 3, 1, 9, 8, 1, 3]),\n",
       "  tensor([3, 7, 5, 0, 0, 7, 8, 9, 2, 3, 5, 8, 4, 6, 0, 8, 6, 0, 5, 2, 0, 1, 0, 3,\n",
       "          5, 4, 8, 6, 2, 1, 1, 7]),\n",
       "  tensor([9, 1, 2, 7, 1, 1, 8, 2, 2, 0, 1, 4, 4, 9, 6, 8, 4, 5, 9, 0, 3, 9, 6, 9,\n",
       "          8, 7, 4, 2, 2, 5, 1, 7]),\n",
       "  tensor([0, 7, 2, 9, 3, 7, 0, 9, 3, 8, 4, 4, 7, 2, 3, 6, 2, 0, 7, 8, 4, 2, 4, 5,\n",
       "          5, 6, 3, 5, 5, 8, 1, 1]),\n",
       "  tensor([7, 4, 3, 9, 6, 8, 7, 2, 3, 1, 2, 7, 7, 4, 9, 8, 5, 1, 3, 3, 2, 3, 3, 3,\n",
       "          1, 9, 3, 5, 5, 2, 0, 7]),\n",
       "  tensor([0, 2, 3, 1, 3, 1, 3, 8, 7, 2, 4, 9, 5, 2, 9, 6, 3, 4, 4, 6, 6, 5, 2, 2,\n",
       "          8, 6, 1, 4, 2, 5, 4, 8]),\n",
       "  tensor([8, 3, 2, 4, 0, 4, 3, 6, 8, 3, 8, 2, 0, 4, 3, 8, 8, 4, 5, 2, 2, 3, 0, 1,\n",
       "          7, 0, 9, 1, 7, 3, 5, 2]),\n",
       "  tensor([2, 7, 3, 8, 5, 6, 8, 0, 7, 5, 5, 9, 5, 6, 6, 0, 3, 2, 4, 4, 2, 7, 1, 3,\n",
       "          4, 6, 6, 5, 1, 6, 7, 3]),\n",
       "  tensor([4, 8, 3, 4, 8, 7, 4, 1, 6, 7, 4, 7, 8, 5, 3, 8, 5, 2, 2, 8, 9, 8, 6, 3,\n",
       "          3, 8, 8, 3, 0, 7, 4, 4]),\n",
       "  tensor([8, 1, 3, 6, 1, 9, 2, 1, 2, 2, 7, 9, 2, 6, 0, 4, 4, 2, 4, 5, 0, 2, 8, 3,\n",
       "          7, 4, 4, 0, 0, 5, 4, 8]),\n",
       "  tensor([2, 6, 2, 0, 2, 1, 7, 9, 5, 2, 7, 2, 2, 7, 3, 3, 1, 3, 6, 6, 6, 1, 9, 6,\n",
       "          4, 7, 1, 0, 6, 5, 8, 4]),\n",
       "  tensor([2, 7, 9, 5, 0, 7, 9, 5, 1, 2, 9, 8, 8, 3, 9, 9, 1, 2, 7, 8, 0, 1, 7, 2,\n",
       "          7, 1, 1, 5, 5, 6, 4, 8]),\n",
       "  tensor([9, 5, 5, 2, 3, 9, 3, 8, 5, 4, 6, 3, 6, 5, 7, 6, 5, 2, 6, 4, 6, 7, 6, 0,\n",
       "          5, 1, 7, 2, 3, 6, 8, 9]),\n",
       "  tensor([8, 7, 1, 2, 3, 2, 9, 7, 5, 6, 0, 6, 7, 1, 2, 4, 9, 3, 6, 4, 4, 3, 0, 0,\n",
       "          2, 3, 6, 1, 3, 5, 2, 5]),\n",
       "  tensor([0, 9, 1, 1, 8, 2, 9, 5, 0, 5, 4, 6, 7, 1, 1, 5, 3, 8, 7, 8, 3, 8, 9, 2,\n",
       "          2, 1, 1, 3, 5, 6, 7, 1]),\n",
       "  tensor([9, 9, 2, 4, 7, 0, 1, 3, 9, 6, 3, 7, 2, 8, 1, 8, 0, 7, 9, 8, 5, 8, 2, 6,\n",
       "          4, 6, 6, 5, 8, 3, 8, 5]),\n",
       "  tensor([5, 7, 3, 7, 6, 7, 0, 2, 2, 5, 3, 5, 1, 1, 7, 7, 6, 6, 6, 4, 2, 8, 6, 3,\n",
       "          8, 4, 9, 9, 4, 5, 2, 2]),\n",
       "  tensor([7, 8, 6, 7, 9, 1, 2, 9, 4, 5, 3, 2, 3, 3, 1, 8, 8, 5, 3, 8, 6, 6, 6, 3,\n",
       "          6, 0, 2, 5, 3, 2, 8, 3]),\n",
       "  tensor([9, 7, 3, 1, 7, 5, 8, 8, 2, 3, 0, 4, 4, 8, 5, 7, 0, 6, 2, 7, 7, 3, 9, 2,\n",
       "          5, 9, 7, 3, 7, 2, 4, 5]),\n",
       "  tensor([1, 6, 5, 4, 5, 0, 2, 2, 1, 6, 3, 8, 4, 7, 9, 4, 1, 1, 7, 2, 6, 8, 6, 3,\n",
       "          9, 7, 8, 3, 8, 8, 8, 7]),\n",
       "  tensor([1, 1, 6, 4, 1, 4, 3, 4, 9, 9, 0, 0, 6, 9, 4, 9, 0, 6, 1, 8, 9, 2, 5, 4,\n",
       "          8, 0, 7, 2, 3, 6, 2, 5]),\n",
       "  tensor([6, 1, 9, 3, 2, 2, 5, 9, 0, 8, 3, 6, 6, 6, 0, 4, 2, 6, 6, 5, 0, 2, 7, 8,\n",
       "          7, 4, 6, 6, 0, 5, 2, 4]),\n",
       "  tensor([2, 9, 5, 2, 6, 7, 0, 1, 9, 5, 5, 0, 7, 7, 5, 0, 5, 3, 3, 4, 7, 9, 8, 2,\n",
       "          4, 7, 3, 3, 7, 7, 7, 8]),\n",
       "  tensor([4, 9, 5, 7, 6, 8, 7, 5, 1, 3, 0, 4, 9, 9, 8, 3, 7, 0, 3, 4, 9, 3, 3, 1,\n",
       "          7, 9, 1, 8, 7, 2, 8, 6]),\n",
       "  tensor([5, 7, 6, 7, 5, 5, 4, 0, 7, 6, 3, 2, 6, 2, 9, 9, 0, 6, 6, 8, 3, 8, 6, 4,\n",
       "          4, 1, 8, 2, 6, 5, 0, 4]),\n",
       "  tensor([4, 3, 0, 0, 1, 6, 8, 4, 9, 0, 7, 6, 7, 7, 1, 5, 8, 7, 2, 9, 9, 1, 2, 6,\n",
       "          1, 1, 1, 8, 8, 1, 3, 7]),\n",
       "  tensor([5, 2, 0, 8, 4, 8, 9, 4, 1, 3, 3, 9, 8, 1, 3, 1, 8, 6, 9, 9, 7, 6, 0, 4,\n",
       "          2, 1, 1, 7, 9, 2, 2, 0]),\n",
       "  tensor([3, 6, 4, 8, 1, 9, 2, 4, 4, 2, 3, 8, 7, 1, 8, 5, 5, 9, 9, 6, 6, 2, 9, 0,\n",
       "          4, 3, 5, 5, 0, 2, 1, 0]),\n",
       "  tensor([3, 5, 5, 3, 7, 4, 5, 7, 9, 8, 9, 1, 4, 8, 3, 2, 3, 6, 0, 8, 3, 8, 3, 8,\n",
       "          6, 0, 8, 8, 3, 2, 9, 3]),\n",
       "  tensor([2, 0, 8, 5, 9, 6, 3, 1, 1, 9, 5, 1, 3, 3, 6, 0, 8, 4, 1, 3, 8, 8, 6, 7,\n",
       "          5, 6, 6, 7, 3, 3, 2, 4]),\n",
       "  tensor([6, 5, 5, 6, 2, 3, 9, 1, 1, 7, 3, 8, 7, 2, 2, 9, 3, 9, 9, 0, 1, 8, 1, 2,\n",
       "          8, 1, 6, 9, 3, 4, 0, 0]),\n",
       "  tensor([7, 6, 9, 9, 5, 5, 7, 0, 9, 3, 3, 6, 9, 8, 4, 2, 6, 3, 9, 2, 3, 6, 7, 4,\n",
       "          0, 6, 8, 1, 8, 7, 4, 4]),\n",
       "  tensor([5, 2, 2, 9, 1, 9, 4, 9, 1, 3, 2, 8, 8, 7, 7, 7, 7, 2, 6, 0, 7, 5, 8, 5,\n",
       "          3, 0, 2, 3, 9, 2, 4, 3]),\n",
       "  tensor([1, 9, 0, 1, 2, 2, 2, 3, 8, 8, 7, 4, 4, 8, 1, 2, 8, 5, 4, 2, 9, 1, 8, 9,\n",
       "          4, 6, 6, 4, 0, 1, 8, 7]),\n",
       "  tensor([4, 6, 7, 7, 6, 6, 4, 3, 4, 7, 8, 7, 2, 8, 0, 8, 7, 6, 4, 6, 7, 0, 9, 9,\n",
       "          3, 1, 5, 9, 3, 1, 6, 3]),\n",
       "  tensor([3, 8, 9, 7, 9, 8, 3, 8, 9, 3, 7, 9, 3, 4, 6, 0, 5, 7, 7, 2, 6, 8, 3, 1,\n",
       "          1, 9, 4, 3, 9, 5, 8, 7]),\n",
       "  tensor([2, 4, 9, 0, 2, 1, 9, 7, 1, 5, 0, 5, 5, 0, 3, 8, 0, 3, 3, 7, 4, 2, 6, 8,\n",
       "          5, 9, 2, 1, 6, 5, 5, 8]),\n",
       "  tensor([5, 3, 7, 4, 4, 6, 9, 6, 0, 6, 9, 1, 4, 3, 1, 5, 3, 8, 5, 1, 1, 2, 9, 4,\n",
       "          0, 5, 2, 8, 0, 2, 9, 8]),\n",
       "  tensor([2, 4, 8, 3, 8, 0, 4, 3, 0, 4, 8, 5, 2, 9, 3, 9, 5, 8, 6, 9, 1, 2, 7, 2,\n",
       "          1, 2, 6, 3, 4, 5, 2, 4]),\n",
       "  tensor([8, 5, 5, 2, 6, 6, 8, 3, 3, 1, 9, 2, 7, 7, 2, 6, 4, 8, 3, 4, 8, 5, 6, 8,\n",
       "          3, 3, 1, 4, 2, 0, 4, 9]),\n",
       "  tensor([6, 4, 1, 9, 9, 8, 1, 4, 8, 3, 3, 3, 6, 5, 9, 2, 2, 8, 7, 6, 3, 6, 4, 4,\n",
       "          5, 7, 5, 0, 7, 9, 1, 2]),\n",
       "  tensor([4, 8, 9, 3, 5, 2, 0, 4, 6, 7, 8, 9, 1, 8, 2, 5, 5, 3, 1, 1, 8, 8, 3, 0,\n",
       "          7, 0, 1, 8, 2, 6, 2, 9]),\n",
       "  tensor([8, 9, 8, 8, 6, 9, 1, 8, 2, 2, 7, 7, 0, 5, 1, 1, 0, 6, 4, 3, 0, 2, 3, 5,\n",
       "          1, 2, 3, 3, 4, 2, 5, 6]),\n",
       "  tensor([9, 8, 3, 3, 1, 0, 2, 1, 2, 4, 6, 8, 4, 9, 2, 9, 7, 5, 3, 6, 6, 7, 0, 3,\n",
       "          9, 7, 3, 6, 1, 9, 4, 1]),\n",
       "  tensor([0, 4, 5, 4, 1, 2, 8, 5, 9, 4, 5, 3, 3, 8, 3, 6, 6, 8, 9, 0, 7, 3, 2, 6,\n",
       "          7, 3, 2, 2, 8, 7, 9, 2]),\n",
       "  tensor([3, 1, 6, 3, 6, 2, 7, 4, 1, 2, 6, 4, 4, 4, 8, 5, 6, 8, 5, 2, 7, 8, 1, 5,\n",
       "          9, 8, 6, 9, 0, 9, 3, 7]),\n",
       "  tensor([5, 9, 9, 6, 0, 7, 1, 5, 5, 9, 5, 4, 4, 2, 4, 5, 9, 7, 4, 2, 6, 9, 8, 3,\n",
       "          2, 1, 3, 7, 1, 8, 7, 7]),\n",
       "  tensor([1, 8, 9, 3, 7, 7, 7, 1, 7, 4, 4, 2, 2, 4, 5, 2, 8, 9, 6, 8, 0, 0, 7, 7,\n",
       "          5, 0, 1, 9, 2, 6, 4, 9]),\n",
       "  tensor([2, 6, 6, 9, 1, 0, 5, 8, 9, 2, 8, 2, 3, 6, 0, 7, 4, 8, 7, 4, 1, 7, 8, 2,\n",
       "          4, 0, 4, 4, 1, 0, 6, 9]),\n",
       "  tensor([2, 9, 4, 5, 2, 3, 3, 8, 8, 2, 0, 7, 2, 4, 0, 3, 1, 3, 8, 1, 7, 7, 2, 6,\n",
       "          3, 1, 2, 7, 2, 6, 0, 3]),\n",
       "  tensor([4, 7, 2, 6, 3, 6, 3, 0, 9, 7, 3, 5, 4, 9, 6, 4, 5, 0, 6, 8, 4, 0, 4, 4,\n",
       "          0, 6, 1, 6, 4, 6, 7, 1]),\n",
       "  tensor([0, 4, 4, 1, 1, 5, 4, 3, 8, 3, 3, 1, 7, 2, 9, 8, 8, 4, 5, 5, 6, 7, 2, 9,\n",
       "          1, 0, 5, 3, 7, 2, 1, 1]),\n",
       "  tensor([8, 6, 2, 0, 5, 9, 6, 3, 8, 1, 3, 4, 6, 6, 2, 8, 3, 4, 2, 3, 9, 3, 7, 9,\n",
       "          2, 7, 2, 1, 5, 8, 8, 2]),\n",
       "  tensor([2, 4, 2, 3, 1, 6, 4, 0, 3, 9, 8, 4, 0, 3, 4, 3, 9, 7, 1, 1, 7, 5, 1, 9,\n",
       "          2, 4, 2, 3, 8, 6, 7, 1]),\n",
       "  tensor([3, 0, 7, 3, 5, 8, 1, 4, 2, 3, 4, 8, 8, 8, 4, 8, 1, 8, 9, 3, 0, 6, 0, 2,\n",
       "          9, 7, 3, 7, 0, 1, 2, 5]),\n",
       "  tensor([9, 4, 0, 5, 0, 5, 8, 7, 3, 6, 2, 8, 6, 4, 9, 3, 3, 5, 8, 1, 1, 2, 6, 0,\n",
       "          4, 7, 4, 2, 3, 3, 9, 7]),\n",
       "  tensor([4, 3, 3, 1, 8, 1, 5, 4, 0, 6, 7, 9, 3, 2, 7, 1, 7, 6, 1, 6, 2, 8, 6, 7,\n",
       "          6, 4, 9, 3, 2, 5, 2, 8]),\n",
       "  tensor([6, 2, 6, 7, 4, 2, 1, 1, 0, 3, 5, 5, 2, 6, 4, 1, 8, 8, 4, 4, 3, 4, 2, 9,\n",
       "          2, 3, 9, 6, 2, 6, 8, 4]),\n",
       "  tensor([5, 4, 9, 8, 1, 6, 3, 6, 2, 9, 4, 3, 5, 1, 2, 6, 0, 1, 1, 0, 2, 6, 5, 7,\n",
       "          0, 1, 2, 4, 3, 7, 2, 1]),\n",
       "  tensor([1, 7, 7, 8, 7, 6, 5, 3, 7, 2, 0, 9, 6, 1, 4, 2, 2, 5, 8, 5, 2, 7, 8, 4,\n",
       "          6, 9, 0, 8, 1, 3, 8, 2]),\n",
       "  tensor([8, 2, 0, 2, 3, 8, 7, 8, 2, 2, 6, 6, 0, 4, 5, 4, 4, 1, 1, 9, 7, 0, 6, 6,\n",
       "          1, 4, 2, 7, 7, 1, 8, 3]),\n",
       "  tensor([0, 7, 9, 8, 7, 2, 7, 9, 7, 2, 2, 6, 6, 3, 3, 9, 1, 1, 4, 8, 0, 9, 7, 5,\n",
       "          4, 8, 8, 3, 6, 3, 6, 4]),\n",
       "  tensor([6, 2, 5, 9, 2, 4, 8, 3, 2, 4, 3, 3, 2, 1, 3, 0, 1, 8, 4, 1, 5, 4, 1, 5,\n",
       "          8, 0, 7, 7, 7, 5, 6, 5]),\n",
       "  tensor([5, 3, 6, 7, 8, 4, 5, 1, 6, 2, 2, 4, 3, 7, 7, 9, 9, 2, 5, 8, 5, 8, 5, 3,\n",
       "          0, 9, 7, 2, 0, 6, 8, 1]),\n",
       "  tensor([0, 5, 3, 7, 6, 5, 4, 9, 0, 6, 4, 0, 2, 7, 8, 1, 3, 8, 1, 9, 3, 6, 1, 1,\n",
       "          6, 6, 9, 8, 4, 8, 2, 7]),\n",
       "  tensor([7, 1, 3, 0, 3, 0, 5, 8, 7, 6, 5, 2, 6, 7, 5, 5, 8, 9, 7, 3, 2, 4, 8, 3,\n",
       "          9, 5, 7, 6, 2, 6, 7, 3]),\n",
       "  tensor([8, 5, 1, 8, 9, 2, 2, 1, 2, 2, 7, 4, 0, 4, 4, 8, 5, 7, 9, 2, 2, 8, 2, 6,\n",
       "          0, 6, 3, 3, 1, 5, 2, 7]),\n",
       "  tensor([5, 0, 7, 6, 2, 3, 5, 1, 1, 2, 7, 3, 8, 8, 7, 5, 6, 9, 5, 5, 3, 0, 7, 1,\n",
       "          4, 6, 0, 9, 9, 4, 6, 8]),\n",
       "  tensor([6, 5, 7, 8, 2, 2, 9, 6, 6, 2, 8, 1, 6, 4, 2, 0, 7, 5, 8, 9, 7, 7, 5, 6,\n",
       "          7, 6, 2, 2, 0, 3, 4, 2]),\n",
       "  tensor([0, 3, 9, 4, 5, 4, 4, 1, 2, 8, 9, 0, 5, 6, 2, 5, 6, 3, 8, 6, 6, 7, 2, 7,\n",
       "          2, 3, 2, 5, 1, 2, 3, 4]),\n",
       "  tensor([2, 4, 3, 9, 9, 6, 8, 0, 4, 0, 6, 1, 9, 3, 9, 6, 8, 6, 9, 4, 7, 9, 1, 5,\n",
       "          8, 1, 3, 2, 2, 4, 8, 6]),\n",
       "  tensor([3, 3, 0, 0, 4, 3, 3, 1, 4, 8, 4, 9, 3, 0, 6, 5, 8, 8, 8, 6, 1, 2, 8, 9,\n",
       "          8, 5, 8, 7, 6, 7, 2, 7]),\n",
       "  tensor([1, 5, 5, 8, 3, 4, 8, 5, 9, 9, 4, 0, 4, 7, 1, 8, 8, 8, 7, 2, 0, 9, 7, 9,\n",
       "          6, 9, 4, 1, 4, 7, 2, 5]),\n",
       "  tensor([2, 6, 2, 9, 0, 7, 1, 9, 7, 2, 5, 3, 8, 4, 9, 3, 9, 5, 7, 5, 1, 3, 3, 6,\n",
       "          6, 7, 5, 3, 5, 5, 8, 7]),\n",
       "  tensor([7, 4, 6, 5, 5, 3, 4, 8, 3, 0, 9, 2, 3, 2, 2, 9, 6, 6, 9, 1, 3, 8, 1, 4,\n",
       "          9, 8, 2, 6, 7, 2, 0, 2]),\n",
       "  tensor([2, 3, 6, 3, 0, 5, 2, 3, 2, 2, 5, 0, 7, 4, 6, 4, 8, 3, 5, 1, 3, 9, 1, 4,\n",
       "          9, 3, 7, 4, 6, 0, 2, 5]),\n",
       "  tensor([6, 3, 6, 6, 5, 1, 7, 9, 4, 6, 7, 3, 0, 2, 8, 1, 0, 9, 9, 7, 8, 4, 6, 9,\n",
       "          7, 7, 5, 8, 8, 7, 5, 3]),\n",
       "  tensor([5, 5, 3, 8, 9, 7, 2, 1, 4, 7, 1, 3, 2, 3, 4, 2, 9, 4, 7, 7, 6, 5, 0, 8,\n",
       "          8, 4, 8, 5, 6, 0, 7, 3]),\n",
       "  tensor([6, 6, 4, 5, 2, 0, 7, 7, 7, 1, 5, 2, 1, 8, 5, 4, 4, 8, 7, 7, 6, 7, 1, 6,\n",
       "          9, 5, 3, 9, 3, 5, 0, 7]),\n",
       "  tensor([4, 2, 0, 1, 2, 5, 9, 3, 2, 8, 5, 7, 3, 1, 4, 6, 8, 1, 8, 5, 6, 9, 3, 3,\n",
       "          8, 6, 4, 2, 0, 3, 4, 2]),\n",
       "  tensor([3, 2, 5, 9, 1, 1, 9, 4, 7, 0, 3, 1, 0, 0, 7, 7, 0, 7, 8, 0, 5, 6, 4, 3,\n",
       "          2, 9, 7, 2, 9, 5, 3, 7]),\n",
       "  tensor([2, 4, 1, 9, 7, 8, 1, 0, 9, 3, 6, 7, 8, 6, 5, 6, 7, 9, 9, 7, 0, 4, 2, 3,\n",
       "          4, 0, 7, 5, 3, 9, 2, 8]),\n",
       "  tensor([8, 6, 0, 4, 1, 9, 3, 3, 5, 1, 5, 5, 9, 2, 8, 5, 5, 9, 5, 6, 0, 7, 3, 8,\n",
       "          4, 2, 0, 7, 4, 8, 1, 9]),\n",
       "  tensor([2, 6, 2, 4, 6, 8, 7, 7, 3, 9, 3, 9, 6, 6, 2, 6, 9, 0, 3, 2, 5, 5, 0, 4,\n",
       "          6, 4, 1, 3, 1, 2, 7, 8]),\n",
       "  tensor([8, 9, 7, 6, 5, 7, 3, 6, 0, 4, 2, 3, 6, 8, 8, 8, 0, 2, 3, 4, 8, 2, 1, 4,\n",
       "          1, 1, 6, 3, 2, 2, 6, 0]),\n",
       "  tensor([0, 4, 1, 3, 2, 5, 0, 6, 7, 9, 9, 2, 5, 2, 9, 9, 8, 4, 8, 3, 2, 0, 9, 6,\n",
       "          2, 4, 3, 8, 3, 3, 6, 9]),\n",
       "  tensor([6, 4, 7, 3, 7, 8, 8, 2, 4, 8, 8, 0, 1, 5, 8, 9, 8, 7, 2, 0, 3, 6, 3, 0,\n",
       "          7, 3, 9, 9, 1, 5, 9, 4]),\n",
       "  tensor([1, 7, 6, 1, 0, 5, 3, 8, 2, 4, 1, 7, 0, 5, 0, 4, 1, 7, 1, 7, 9, 6, 3, 9,\n",
       "          2, 2, 5, 3, 5, 0, 8, 4]),\n",
       "  tensor([4, 7, 7, 4, 2, 0, 5, 5, 3, 6, 2, 7, 6, 8, 5, 6, 9, 1, 3, 1, 4, 5, 9, 3,\n",
       "          7, 0, 3, 5, 6, 1, 5, 8]),\n",
       "  tensor([5, 6, 6, 9, 1, 9, 1, 7, 1, 8, 0, 3, 4, 0, 2, 0, 3, 3, 4, 8, 0, 3, 4, 8,\n",
       "          1, 1, 3, 3, 2, 2, 1, 8]),\n",
       "  tensor([0, 2, 0, 2, 4, 2, 0, 9, 2, 3, 0, 4, 5, 7, 1, 6, 1, 0, 0, 0, 8, 5, 1, 6,\n",
       "          5, 2, 8, 1, 7, 1, 6, 4]),\n",
       "  tensor([7, 4, 6, 1, 5, 3, 3, 5, 8, 7, 7, 7, 2, 7, 5, 6, 4, 2, 0, 6, 6, 9, 9, 5,\n",
       "          8, 0, 4, 4, 1, 3, 7, 3]),\n",
       "  tensor([6, 0, 9, 8, 5, 3, 6, 7, 1, 9, 7, 8, 2, 6, 9, 9, 1, 2, 2, 3, 2, 4, 5, 1,\n",
       "          6, 4, 8, 3, 4, 8, 3, 4]),\n",
       "  tensor([0, 0, 3, 6, 7, 4, 4, 1, 7, 3, 6, 7, 9, 9, 1, 8, 8, 9, 1, 2, 6, 1, 2, 8,\n",
       "          2, 5, 7, 8, 0, 6, 2, 7]),\n",
       "  tensor([2, 1, 5, 0, 8, 7, 8, 1, 4, 9, 2, 5, 5, 9, 9, 4, 4, 2, 1, 6, 3, 8, 7, 6,\n",
       "          2, 7, 5, 2, 7, 0, 3, 4]),\n",
       "  tensor([4, 8, 4, 0, 2, 7, 3, 7, 3, 6, 3, 8, 3, 3, 2, 3, 2, 3, 8, 8, 0, 7, 0, 8,\n",
       "          9, 0, 2, 1, 2, 5, 1, 3]),\n",
       "  tensor([4, 7, 6, 4, 9, 9, 1, 4, 3, 1, 6, 8, 0, 3, 0, 0, 2, 0, 2, 3, 6, 7, 2, 3,\n",
       "          6, 0, 8, 5, 4, 0, 1, 0]),\n",
       "  tensor([2, 2, 6, 7, 9, 6, 2, 4, 3, 6, 8, 5, 4, 4, 0, 3, 3, 5, 2, 5, 1, 5, 5, 1,\n",
       "          7, 5, 2, 1, 8, 8, 0, 9]),\n",
       "  tensor([0, 0, 0, 3, 2, 1, 8, 3, 4, 2, 1, 2, 4, 3, 0, 8, 5, 7, 5, 0, 2, 6, 3, 9,\n",
       "          8, 2, 8, 1, 0, 2, 6, 2]),\n",
       "  tensor([2, 3, 7, 5, 0, 6, 2, 0, 8, 2, 2, 1, 8, 6, 8, 2, 9, 2, 4, 8, 5, 2, 7, 3,\n",
       "          2, 4, 6, 6, 4, 8, 5, 4]),\n",
       "  tensor([1, 5, 2, 8, 2, 9, 3, 6, 3, 6, 4, 2, 7, 7, 9, 6, 2, 9, 8, 3, 5, 8, 7, 7,\n",
       "          0, 7, 7, 0, 7, 7, 2, 9]),\n",
       "  tensor([5, 4, 2, 2, 3, 8, 0, 1, 9, 8, 6, 6, 4, 4, 6, 8, 0, 7, 6, 4, 3, 4, 1, 3,\n",
       "          8, 7, 3, 6, 3, 4, 8, 8]),\n",
       "  tensor([9, 1, 3, 2, 1, 4, 8, 0, 4, 6, 7, 3, 9, 2, 9, 0, 4, 6, 5, 7, 0, 8, 1, 7,\n",
       "          5, 4, 9, 5, 7, 3, 2, 0]),\n",
       "  tensor([9, 8, 7, 3, 7, 7, 4, 7, 5, 8, 8, 2, 4, 6, 2, 3, 8, 9, 7, 1, 3, 4, 2, 9,\n",
       "          7, 1, 2, 2, 6, 0, 5, 5]),\n",
       "  tensor([4, 5, 2, 0, 9, 4, 9, 9, 0, 4, 0, 1, 5, 5, 5, 6, 8, 1, 5, 7, 7, 7, 9, 0,\n",
       "          0, 1, 1, 4, 6, 6, 9, 3]),\n",
       "  tensor([6, 4, 4, 8, 2, 5, 4, 9, 0, 2, 8, 4, 8, 6, 3, 6, 1, 4, 3, 3, 8, 4, 9, 9,\n",
       "          0, 7, 9, 5, 3, 1, 7, 2]),\n",
       "  tensor([8, 4, 7, 2, 1, 6, 0, 7, 8, 1, 9, 3, 2, 8, 1, 8, 4, 2, 5, 2, 7, 6, 1, 2,\n",
       "          0, 7, 9, 0, 1, 3, 7, 5]),\n",
       "  tensor([1, 2, 1, 1, 3, 8, 3, 9, 5, 4, 6, 3, 7, 7, 7, 2, 3, 9, 1, 9, 2, 6, 0, 5,\n",
       "          6, 2, 7, 5, 0, 3, 2, 9]),\n",
       "  tensor([0, 4, 6, 2, 7, 9, 6, 1, 3, 2, 0, 8, 8, 7, 3, 2, 7, 5, 7, 6, 1, 8, 1, 4,\n",
       "          9, 8, 9, 3, 1, 0, 3, 0]),\n",
       "  tensor([3, 0, 6, 6, 1, 9, 7, 1, 2, 2, 5, 3, 4, 1, 7, 6, 7, 0, 2, 8, 8, 1, 4, 9,\n",
       "          7, 6, 2, 4, 9, 3, 9, 8]),\n",
       "  tensor([5, 3, 8, 4, 7, 1, 4, 1, 9, 6, 8, 3, 2, 4, 8, 1, 1, 5, 8, 6, 1, 6, 2, 9,\n",
       "          0, 9, 5, 3, 5, 0, 6, 5]),\n",
       "  tensor([6, 8, 3, 8, 0, 6, 9, 9, 1, 5, 3, 2, 6, 5, 3, 6, 3, 6, 7, 4, 0, 4, 1, 9,\n",
       "          5, 1, 7, 5, 5, 5, 9, 4]),\n",
       "  tensor([8, 4, 6, 6, 4, 6, 2, 1, 1, 4, 2, 8, 4, 9, 0, 5, 8, 1, 3, 8, 3, 2, 4, 8,\n",
       "          6, 6, 9, 3, 2, 9, 7, 2]),\n",
       "  tensor([2, 2, 6, 8, 9, 6, 3, 4, 7, 7, 9, 7, 3, 6, 7, 6, 7, 3, 0, 2, 0, 9, 4, 3,\n",
       "          3, 1, 9, 5, 8, 2, 3, 5]),\n",
       "  tensor([0, 0, 4, 5, 2, 3, 5, 2, 7, 7, 6, 0, 9, 5, 1, 2, 4, 5, 3, 0, 2, 1, 4, 0,\n",
       "          5, 4, 8, 5, 7, 3, 0, 8]),\n",
       "  tensor([3, 5, 2, 6, 9, 8, 9, 9, 8, 1, 7, 5, 0, 1, 5, 3, 3, 3, 3, 4, 2, 3, 6, 7,\n",
       "          8, 0, 9, 3, 3, 0, 4, 2]),\n",
       "  tensor([9, 3, 5, 7, 3, 9, 8, 6, 6, 2, 2, 3, 1, 0, 7, 9, 6, 6, 4, 1, 1, 4, 9, 2,\n",
       "          3, 5, 9, 6, 6, 4, 3, 8]),\n",
       "  tensor([9, 9, 2, 6, 9, 6, 3, 5, 3, 1, 4, 5, 0, 1, 8, 5, 8, 4, 6, 7, 8, 9, 2, 4,\n",
       "          6, 3, 2, 6, 4, 7, 9, 1]),\n",
       "  tensor([9, 7, 4, 5, 2, 1, 2, 4, 5, 6, 1, 5, 8, 6, 4, 4, 9, 4, 7, 1, 3, 0, 2, 7,\n",
       "          7, 5, 9, 7, 7, 3, 8, 7]),\n",
       "  tensor([5, 9, 7, 8, 2, 1, 3, 8, 6, 2, 6, 7, 9, 2, 2, 5, 2, 3, 4, 1, 1, 7, 0, 5,\n",
       "          5, 4, 7, 8, 9, 3, 5, 4]),\n",
       "  tensor([6, 6, 5, 5, 8, 4, 8, 8, 7, 4, 9, 4, 9, 6, 9, 7, 3, 9, 7, 3, 2, 4, 2, 8,\n",
       "          7, 9, 2, 0, 2, 4, 1, 0]),\n",
       "  tensor([3, 8, 6, 8, 2, 4, 2, 3, 5, 7, 7, 8, 5, 6, 3, 2, 1, 8, 3, 6, 7, 4, 2, 3,\n",
       "          0, 8, 3, 3, 2, 9, 6, 9]),\n",
       "  tensor([9, 0, 1, 6, 3, 6, 3, 8, 6, 8, 5, 1, 3, 4, 1, 9, 3, 6, 0, 4, 2, 3, 1, 5,\n",
       "          3, 2, 8, 5, 7, 6, 0, 1]),\n",
       "  tensor([1, 0, 6, 2, 5, 9, 6, 7, 2, 3, 6, 4, 6, 3, 3, 9, 4, 9, 0, 8, 6, 5, 6, 2,\n",
       "          0, 1, 3, 9, 4, 2, 5, 6]),\n",
       "  tensor([5, 3, 2, 5, 6, 0, 6, 0, 6, 9, 1, 3, 3, 2, 5, 8, 6, 6, 1, 4, 9, 7, 2, 4,\n",
       "          7, 5, 7, 1, 4, 8, 7, 9]),\n",
       "  tensor([1, 7, 0, 2, 9, 2, 1, 6, 7, 8, 4, 5, 2, 7, 4, 1, 4, 5, 9, 4, 5, 7, 7, 3,\n",
       "          8, 1, 9, 4, 5, 3, 6, 7]),\n",
       "  tensor([6, 9, 5, 1, 3, 6, 9, 1, 4, 4, 5, 3, 4, 9, 9, 1, 2, 2, 2, 4, 6, 8, 7, 9,\n",
       "          9, 4, 8, 8, 9, 0, 7, 6]),\n",
       "  tensor([4, 6, 8, 8, 4, 2, 0, 1, 2, 0, 2, 1, 5, 4, 6, 0, 0, 3, 4, 5, 6, 8, 7, 6,\n",
       "          0, 3, 1, 8, 4, 8, 9, 9]),\n",
       "  tensor([5, 5, 8, 2, 5, 4, 4, 2, 5, 4, 9, 2, 7, 1, 0, 2, 4, 6, 9, 8, 3, 2, 9, 1,\n",
       "          9, 2, 7, 3, 5, 4, 3, 4]),\n",
       "  tensor([2, 1, 0, 2, 4, 3, 7, 8, 4, 9, 5, 9, 0, 4, 3, 4, 5, 5, 5, 7, 6, 1, 3, 3,\n",
       "          7, 0, 9, 7, 6, 8, 3, 5]),\n",
       "  tensor([5, 8, 1, 9, 4, 0, 2, 2, 1, 6, 3, 1, 2, 5, 3, 6, 1, 1, 7, 5, 2, 5, 9, 0,\n",
       "          8, 3, 6, 4, 2, 7, 0, 7]),\n",
       "  tensor([3, 3, 2, 3, 7, 1, 2, 2, 3, 3, 0, 6, 6, 4, 8, 5, 0, 3, 3, 4, 7, 3, 3, 6,\n",
       "          2, 2, 4, 4, 1, 8, 1, 9]),\n",
       "  tensor([3, 2, 2, 4, 2, 3, 3, 3, 5, 3, 5, 8, 3, 9, 7, 3, 0, 6, 1, 6, 1, 0, 7, 7,\n",
       "          2, 8, 9, 6, 1, 5, 4, 9]),\n",
       "  tensor([4, 7, 9, 9, 9, 0, 1, 0, 9, 9, 5, 1, 7, 2, 9, 3, 5, 6, 8, 1, 7, 4, 3, 8,\n",
       "          4, 7, 8, 8, 9, 6, 8, 4]),\n",
       "  tensor([5, 6, 4, 5, 9, 6, 0, 5, 3, 1, 7, 4, 4, 7, 1, 5, 8, 3, 7, 2, 7, 1, 8, 8,\n",
       "          8, 7, 8, 6, 0, 5, 7, 9]),\n",
       "  tensor([8, 5, 6, 0, 6, 2, 2, 2, 8, 9, 9, 1, 9, 5, 8, 4, 4, 2, 4, 2, 7, 2, 8, 3,\n",
       "          0, 7, 8, 8, 3, 9, 9, 5]),\n",
       "  tensor([9, 2, 6, 9, 7, 0, 7, 4, 7, 9, 2, 3, 9, 7, 3, 5, 3, 1, 2, 9, 1, 2, 8, 5,\n",
       "          1, 7, 9, 0, 3, 3, 6, 9]),\n",
       "  tensor([3, 4, 6, 0, 0, 6, 9, 7, 1, 9, 8, 5, 6, 8, 8, 9, 5, 2, 4, 6, 5, 2, 2, 5,\n",
       "          4, 2, 7, 1, 6, 6, 3, 6]),\n",
       "  tensor([5, 6, 4, 6, 7, 8, 5, 1, 5, 2, 3, 4, 2, 4, 1, 9, 0, 7, 2, 7, 3, 2, 9, 7,\n",
       "          6, 6, 6, 1, 7, 1, 4, 7]),\n",
       "  tensor([6, 1, 7, 3, 0, 3, 6, 6, 8, 0, 4, 1, 7, 9, 6, 2, 9, 2, 6, 7, 1, 7, 5, 2,\n",
       "          9, 8, 6, 4, 0, 3, 3, 2]),\n",
       "  tensor([2, 8, 3, 6, 8, 1, 8, 3, 0, 1, 6, 7, 3, 7, 7, 3, 3, 9, 9, 0, 6, 2, 5, 8,\n",
       "          9, 3, 3, 5, 4, 1, 6, 9]),\n",
       "  tensor([4, 3, 2, 6, 1, 8, 1, 3, 4, 0, 2, 1, 9, 0, 5, 3, 5, 3, 6, 4, 1, 2, 0, 7,\n",
       "          3, 6, 2, 3, 4, 4, 5, 2]),\n",
       "  tensor([9, 6, 8, 0, 4, 6, 0, 1, 7, 8, 2, 3, 3, 2, 0, 3, 8, 2, 6, 2, 5, 1, 4, 2,\n",
       "          2, 1, 9, 3, 6, 6, 9, 7]),\n",
       "  tensor([8, 0, 6, 3, 6, 6, 8, 1, 2, 3, 3, 1, 9, 5, 3, 2, 6, 7, 1, 9, 2, 9, 0, 4,\n",
       "          2, 4, 8, 6, 9, 4, 7, 0]),\n",
       "  tensor([3, 1, 3, 8, 3, 4, 1, 2, 6, 2, 2, 7, 7, 8, 3, 2, 9, 5, 6, 6, 9, 5, 2, 3,\n",
       "          8, 5, 3, 8, 3, 7, 9, 0]),\n",
       "  tensor([2, 5, 1, 0, 5, 6, 3, 9, 7, 9, 6, 6, 7, 1, 2, 0, 8, 6, 2, 2, 7, 8, 3, 6,\n",
       "          4, 6, 9, 7, 3, 2, 5, 4]),\n",
       "  tensor([5, 1, 9, 5, 0, 5, 2, 4, 1, 7, 9, 3, 3, 3, 4, 9, 1, 3, 3, 9, 5, 6, 8, 2,\n",
       "          4, 1, 4, 0, 6, 7, 8, 0]),\n",
       "  tensor([6, 1, 2, 0, 6, 9, 8, 1, 3, 7, 3, 9, 9, 5, 4, 2, 3, 2, 8, 8, 5, 5, 1, 8,\n",
       "          8, 5, 7, 9, 9, 0, 4, 2]),\n",
       "  tensor([2, 7, 9, 4, 6, 7, 5, 4, 7, 6, 1, 4, 2, 2, 0, 9, 6, 0, 5, 1, 1, 8, 8, 3,\n",
       "          2, 6, 2, 0, 6, 4, 5, 5]),\n",
       "  tensor([2, 4, 6, 4, 6, 1, 5, 2, 7, 8, 6, 7, 7, 0, 8, 4, 0, 6, 9, 1, 2, 1, 7, 4,\n",
       "          3, 4, 9, 9, 2, 6, 4, 3]),\n",
       "  tensor([3, 3, 7, 5, 2, 7, 8, 9, 9, 2, 7, 6, 7, 7, 5, 8, 7, 4, 6, 9, 0, 1, 8, 7,\n",
       "          5, 4, 5, 3, 7, 4, 6, 5]),\n",
       "  tensor([5, 6, 7, 9, 0, 9, 5, 9, 4, 0, 1, 7, 8, 3, 5, 1, 0, 6, 5, 0, 2, 3, 7, 1,\n",
       "          1, 1, 0, 7, 7, 6, 0, 4]),\n",
       "  tensor([7, 0, 0, 5, 1, 4, 8, 1, 5, 2, 7, 3, 2, 3, 2, 7, 8, 0, 1, 6, 9, 5, 8, 0,\n",
       "          7, 3, 5, 0, 9, 7, 1, 0]),\n",
       "  tensor([6, 5, 7, 8, 4, 3, 1, 9, 0, 2, 9, 1, 3, 4, 2, 3, 3, 6, 2, 3, 8, 6, 2, 9,\n",
       "          5, 0, 1, 8, 2, 4, 3, 6]),\n",
       "  tensor([2, 9, 4, 3, 7, 9, 6, 3, 5, 4, 5, 9, 8, 5, 3, 0, 1, 2, 4, 4, 1, 9, 6, 4,\n",
       "          6, 5, 5, 4, 6, 2, 0, 1]),\n",
       "  tensor([4, 9, 9, 7, 6, 1, 2, 6, 0, 2, 6, 2, 5, 9, 4, 8, 4, 6, 1, 5, 9, 4, 1, 4,\n",
       "          9, 3, 1, 7, 1, 3, 3, 9]),\n",
       "  tensor([1, 3, 8, 9, 9, 1, 9, 6, 0, 5, 8, 5, 5, 5, 3, 8, 9, 4, 7, 6, 4, 9, 2, 6,\n",
       "          1, 5, 0, 7, 3, 4, 0, 7]),\n",
       "  tensor([1, 1, 8, 2, 8, 9, 2, 0, 7, 2, 0, 0, 5, 1, 6, 8, 2, 3, 7, 2, 3, 9, 7, 6,\n",
       "          1, 3, 9, 2, 4, 0, 3, 7]),\n",
       "  tensor([8, 1, 1, 9, 5, 3, 5, 4, 6, 6, 1, 8, 2, 1, 6, 2, 5, 9, 9, 4, 8, 4, 1, 7,\n",
       "          9, 0, 8, 7, 6, 3, 8, 4]),\n",
       "  tensor([1, 8, 2, 7, 4, 4, 8, 9, 2, 5, 3, 4, 6, 1, 1, 0, 6, 1, 6, 7, 8, 5, 9, 1,\n",
       "          5, 0, 9, 4, 2, 1, 7, 2]),\n",
       "  tensor([9, 8, 8, 9, 5, 5, 3, 8, 2, 0, 3, 6, 1, 1, 9, 6, 9, 7, 5, 3, 2, 9, 5, 5,\n",
       "          4, 2, 9, 8, 3, 0, 6, 4]),\n",
       "  tensor([1, 7, 4, 7, 2, 8, 5, 8, 6, 0, 1, 3, 2, 2, 3, 6, 6, 0, 2, 8, 3, 2, 4, 6,\n",
       "          1, 8, 4, 5, 4, 2, 3, 9]),\n",
       "  tensor([0, 4, 3, 4, 5, 4, 2, 7, 3, 7, 3, 3, 6, 9, 6, 8, 5, 6, 0, 3, 6, 7, 2, 0,\n",
       "          3, 1, 1, 9, 7, 5, 4, 2]),\n",
       "  tensor([1, 6, 4, 8, 9, 2, 5, 8, 8, 3, 0, 9, 6, 3, 6, 3, 2, 4, 9, 6, 3, 6, 4, 2,\n",
       "          0, 4, 1, 3, 7, 2, 6, 2]),\n",
       "  tensor([2, 3, 4, 4, 0, 8, 4, 5, 1, 4, 8, 8, 2, 1, 4, 1, 1, 9, 6, 5, 9, 6, 8, 0,\n",
       "          3, 4, 3, 8, 4, 7, 5, 4]),\n",
       "  tensor([1, 1, 2, 0, 7, 7, 0, 1, 0, 5, 2, 8, 9, 7, 9, 1, 1, 3, 3, 7, 6, 7, 4, 9,\n",
       "          4, 9, 3, 6, 6, 2, 8, 7]),\n",
       "  tensor([2, 5, 9, 8, 3, 8, 1, 3, 3, 3, 5, 2, 5, 4, 4, 9, 2, 7, 1, 4, 8, 3, 7, 7,\n",
       "          6, 7, 9, 4, 7, 7, 0, 1]),\n",
       "  tensor([2, 1, 2, 8, 2, 2, 7, 2, 7, 1, 8, 7, 6, 1, 3, 1, 0, 3, 6, 5, 3, 8, 6, 3,\n",
       "          4, 9, 6, 1, 5, 3, 0, 7]),\n",
       "  tensor([0, 6, 4, 5, 1, 6, 6, 2, 8, 3, 9, 8, 3, 7, 2, 4, 2, 5, 1, 9, 6, 3, 8, 7,\n",
       "          1, 8, 1, 2, 0, 9, 2, 4]),\n",
       "  tensor([3, 4, 6, 1, 3, 5, 2, 9, 7, 5, 3, 9, 9, 5, 6, 4, 8, 0, 7, 6, 8, 6, 2, 1,\n",
       "          9, 7, 7, 3, 8, 0, 3, 0]),\n",
       "  tensor([9, 8, 5, 6, 4, 8, 1, 5, 5, 9, 0, 1, 6, 1, 3, 4, 4, 2, 2, 1, 7, 6, 2, 2,\n",
       "          6, 1, 8, 2, 2, 6, 3, 0]),\n",
       "  tensor([8, 8, 2, 6, 2, 0, 7, 0, 8, 9, 1, 4, 6, 7, 6, 8, 1, 8, 2, 6, 6, 7, 5, 7,\n",
       "          9, 9, 3, 9, 4, 4, 6, 6]),\n",
       "  tensor([1, 4, 8, 4, 4, 5, 2, 2, 2, 9, 1, 8, 0, 6, 2, 6, 0, 3, 6, 6, 1, 3, 6, 3,\n",
       "          4, 1, 5, 8, 1, 0, 7, 2]),\n",
       "  tensor([5, 0, 3, 2, 8, 5, 8, 7, 8, 4, 5, 9, 5, 5, 1, 2, 4, 7, 2, 9, 7, 8, 3, 7,\n",
       "          4, 6, 3, 8, 8, 4, 5, 1]),\n",
       "  tensor([8, 1, 4, 2, 2, 7, 8, 9, 0, 2, 7, 9, 1, 5, 7, 8, 4, 3, 9, 5, 9, 1, 0, 8,\n",
       "          6, 1, 6, 1, 5, 8, 0, 0]),\n",
       "  tensor([3, 8, 2, 9, 0, 0, 7, 6, 6, 2, 5, 4, 8, 8, 2, 6, 3, 6, 7, 1, 4, 7, 4, 6,\n",
       "          7, 1, 6, 5, 2, 6, 9, 9]),\n",
       "  tensor([6, 6, 8, 2, 1, 1, 8, 8, 3, 5, 7, 5, 2, 9, 4, 3, 7, 3, 8, 9, 6, 2, 2, 4,\n",
       "          5, 7, 0, 2, 2, 9, 5, 7]),\n",
       "  tensor([2, 6, 5, 8, 3, 1, 3, 7, 4, 9, 6, 3, 9, 9, 2, 6, 8, 6, 9, 1, 9, 9, 6, 7,\n",
       "          1, 4, 7, 0, 3, 8, 7, 2]),\n",
       "  tensor([8, 5, 9, 3, 2, 0, 6, 9, 4, 5, 6, 4, 3, 8, 9, 1, 8, 9, 4, 0, 9, 7, 4, 9,\n",
       "          2, 1, 2, 7, 5, 4, 6, 7]),\n",
       "  tensor([3, 4, 7, 2, 2, 6, 8, 5, 7, 9, 5, 7, 2, 2, 3, 7, 3, 4, 1, 5, 6, 9, 7, 4,\n",
       "          2, 2, 5, 8, 0, 7, 7, 2]),\n",
       "  tensor([2, 0, 4, 8, 2, 0, 6, 9, 8, 9, 6, 5, 0, 6, 0, 2, 6, 3, 1, 8, 7, 4, 1, 9,\n",
       "          1, 2, 6, 5, 2, 3, 6, 0]),\n",
       "  tensor([2, 6, 0, 7, 2, 1, 8, 4, 8, 7, 9, 4, 1, 4, 5, 7, 7, 3, 2, 5, 7, 4, 4, 7,\n",
       "          3, 2, 0, 9, 6, 7, 3, 9]),\n",
       "  tensor([1, 2, 1, 9, 7, 2, 3, 4, 8, 1, 8, 3, 5, 0, 5, 3, 8, 2, 7, 4, 9, 0, 6, 8,\n",
       "          4, 2, 4, 4, 4, 3, 7, 8]),\n",
       "  tensor([7, 1, 3, 7, 8, 9, 5, 5, 2, 4, 4, 5, 0, 8, 6, 6, 4, 6, 8, 8, 9, 6, 9, 1,\n",
       "          5, 1, 2, 1, 3, 2, 2, 2]),\n",
       "  tensor([4, 8, 7, 9, 9, 2, 0, 5, 7, 0, 9, 6, 5, 6, 3, 4, 3, 7, 1, 8, 2, 9, 8, 1,\n",
       "          7, 3, 2, 4, 3, 7, 1, 8]),\n",
       "  tensor([5, 7, 8, 5, 5, 3, 8, 3, 7, 7, 7, 6, 5, 2, 2, 1, 2, 3, 4, 1, 0, 3, 9, 1,\n",
       "          8, 2, 3, 7, 4, 9, 5, 9]),\n",
       "  tensor([4, 3, 9, 5, 6, 8, 2, 7, 3, 9, 3, 0, 8, 9, 0, 9, 8, 6, 4, 5, 7, 1, 4, 8,\n",
       "          2, 0, 2, 3, 1, 1, 1, 7]),\n",
       "  tensor([6, 2, 2, 5, 9, 8, 9, 5, 3, 4, 7, 9, 2, 0, 1, 1, 1, 4, 8, 6, 8, 0, 5, 5,\n",
       "          6, 7, 6, 8, 2, 4, 6, 2]),\n",
       "  tensor([2, 2, 5, 7, 4, 9, 8, 6, 2, 2, 0, 7, 4, 5, 2, 3, 3, 1, 9, 8, 1, 8, 6, 6,\n",
       "          3, 9, 1, 9, 7, 6, 9, 6]),\n",
       "  tensor([9, 3, 0, 2, 2, 3, 4, 8, 6, 9, 2, 1, 1, 0, 5, 6, 7, 0, 4, 1, 1, 7, 0, 6,\n",
       "          1, 9, 8, 7, 3, 5, 8, 1]),\n",
       "  tensor([2, 6, 4, 0, 3, 6, 2, 3, 5, 9, 5, 8, 9, 3, 1, 7, 8, 9, 4, 1, 1, 9, 0, 7,\n",
       "          0, 0, 9, 6, 0, 2, 9, 2]),\n",
       "  tensor([8, 5, 5, 9, 3, 3, 5, 7, 1, 2, 3, 3, 5, 6, 6, 4, 1, 1, 9, 1, 4, 6, 6, 2,\n",
       "          2, 6, 6, 0, 3, 5, 0, 3]),\n",
       "  tensor([0, 5, 1, 1, 8, 2, 5, 3, 5, 1, 6, 4, 3, 1, 6, 7, 9, 6, 3, 8, 5, 6, 6, 9,\n",
       "          1, 9, 7, 7, 6, 2, 2, 7]),\n",
       "  tensor([5, 6, 1, 5, 7, 7, 8, 2, 8, 3, 7, 6, 6, 2, 9, 9, 0, 2, 7, 3, 1, 0, 8, 2,\n",
       "          4, 4, 4, 7, 1, 8, 2, 6]),\n",
       "  tensor([3, 4, 6, 3, 9, 8, 0, 3, 8, 3, 9, 2, 1, 5, 4, 5, 6, 8, 4, 2, 5, 9, 3, 6,\n",
       "          4, 7, 8, 5, 9, 5, 0, 0]),\n",
       "  tensor([6, 9, 7, 2, 9, 2, 2, 6, 4, 6, 1, 6, 3, 9, 4, 0, 8, 8, 2, 6, 9, 4, 7, 2,\n",
       "          5, 6, 8, 6, 8, 7, 6, 2]),\n",
       "  tensor([1, 1, 8, 7, 3, 2, 0, 5, 4, 3, 8, 8, 8, 9, 3, 6, 9, 6, 3, 3, 6, 4, 2, 4,\n",
       "          8, 5, 9, 6, 7, 1, 9, 0]),\n",
       "  tensor([3, 3, 0, 2, 3, 9, 9, 7, 3, 0, 4, 2, 4, 6, 4, 5, 3, 6, 9, 8, 5, 8, 0, 4,\n",
       "          1, 4, 8, 7, 2, 6, 2, 3]),\n",
       "  tensor([5, 6, 3, 5, 2, 5, 3, 7, 1, 2, 9, 8, 7, 6, 8, 8, 5, 5, 8, 4, 4, 0, 8, 3,\n",
       "          6, 4, 9, 6, 1, 0, 5, 1]),\n",
       "  tensor([4, 0, 9, 2, 6, 3, 6, 7, 4, 6, 4, 3, 8, 5, 1, 8, 3, 4, 6, 5, 0, 0, 5, 8,\n",
       "          7, 4, 2, 2, 2, 9, 3, 5]),\n",
       "  tensor([0, 9, 9, 0, 1, 3, 7, 1, 9, 6, 5, 2, 6, 9, 5, 7, 7, 4, 2, 8, 3, 1, 7, 8,\n",
       "          4, 6, 8, 0, 5, 5, 7, 1]),\n",
       "  tensor([7, 6, 2, 1, 5, 1, 9, 0, 1, 2, 3, 2, 7, 3, 9, 3, 5, 4, 0, 6, 9, 5, 4, 2,\n",
       "          3, 8, 7, 8, 3, 0, 4, 1]),\n",
       "  tensor([2, 9, 0, 8, 9, 0, 3, 2, 9, 5, 9, 3, 1, 3, 8, 2, 1, 4, 6, 9, 9, 8, 9, 7,\n",
       "          4, 0, 1, 9, 9, 3, 9, 3]),\n",
       "  tensor([2, 3, 7, 3, 1, 4, 6, 8, 3, 4, 3, 3, 8, 3, 7, 1, 6, 3, 8, 4, 7, 9, 8, 6,\n",
       "          3, 0, 4, 5, 7, 6, 7, 2]),\n",
       "  tensor([7, 0, 2, 6, 3, 3, 0, 3, 4, 4, 4, 4, 6, 9, 9, 0, 7, 4, 3, 2, 6, 1, 9, 5,\n",
       "          9, 9, 0, 5, 8, 2, 7, 3]),\n",
       "  tensor([9, 5, 2, 8, 9, 5, 8, 0, 0, 3, 0, 6, 3, 7, 8, 0, 1, 2, 2, 6, 1, 1, 3, 2,\n",
       "          2, 5, 4, 3, 9, 3, 4, 4]),\n",
       "  tensor([3, 7, 2, 9, 2, 1, 6, 7, 5, 5, 9, 4, 6, 9, 7, 9, 7, 4, 1, 8, 3, 3, 8, 0,\n",
       "          8, 7, 6, 7, 7, 9, 6, 4]),\n",
       "  tensor([0, 3, 7, 2, 1, 5, 2, 0, 5, 8, 6, 7, 0, 1, 0, 5, 6, 2, 1, 4, 1, 8, 7, 9,\n",
       "          9, 7, 3, 6, 2, 4, 7, 6]),\n",
       "  tensor([3, 9, 6, 3, 9, 5, 1, 6, 9, 0, 7, 4, 3, 5, 7, 2, 7, 6, 8, 7, 5, 4, 5, 9,\n",
       "          4, 3, 5, 0, 2, 8, 5, 3]),\n",
       "  tensor([1, 9, 3, 7, 1, 6, 3, 4, 6, 2, 5, 9, 2, 1, 1, 9, 7, 9, 0, 1, 6, 8, 5, 2,\n",
       "          5, 3, 7, 8, 7, 7, 0, 8]),\n",
       "  tensor([5, 6, 6, 3, 5, 2, 7, 7, 9, 7, 1, 0, 0, 8, 6, 4, 2, 2, 4, 5, 5, 0, 9, 3,\n",
       "          2, 4, 8, 6, 7, 1, 8, 7]),\n",
       "  tensor([1, 3, 2, 0, 6, 7, 3, 7, 4, 6, 2, 3, 9, 4, 6, 0, 0, 8, 7, 3, 3, 0, 5, 6,\n",
       "          1, 5, 0, 9, 9, 1, 3, 0]),\n",
       "  tensor([6, 1, 6, 6, 5, 7, 2, 2, 0, 9, 2, 6, 8, 2, 8, 3, 7, 7, 3, 3, 9, 5, 7, 6,\n",
       "          6, 9, 4, 7, 6, 7, 2, 9]),\n",
       "  tensor([5, 5, 8, 7, 4, 9, 6, 2, 3, 6, 3, 0, 2, 7, 6, 4, 2, 7, 4, 1, 5, 7, 9, 7,\n",
       "          3, 9, 8, 0, 5, 1, 9, 6]),\n",
       "  tensor([1, 0, 4, 8, 0, 5, 6, 9, 8, 8, 4, 3, 4, 1, 7, 5, 1, 2, 6, 7, 0, 3, 2, 8,\n",
       "          7, 8, 5, 5, 1, 1, 3, 8]),\n",
       "  tensor([9, 9, 9, 1, 0, 6, 3, 4, 4, 4, 7, 1, 3, 0, 1, 5, 3, 4, 9, 2, 4, 2, 2, 6,\n",
       "          7, 9, 6, 7, 1, 4, 0, 8]),\n",
       "  tensor([3, 3, 5, 6, 0, 8, 3, 3, 2, 0, 1, 8, 6, 3, 2, 9, 5, 4, 3, 5, 2, 1, 6, 4,\n",
       "          4, 5, 8, 6, 7, 3, 2, 6]),\n",
       "  tensor([7, 6, 2, 3, 8, 4, 4, 6, 3, 4, 8, 1, 7, 8, 4, 8, 7, 9, 9, 9, 8, 2, 0, 9,\n",
       "          4, 0, 8, 8, 8, 0, 5, 6]),\n",
       "  tensor([6, 6, 6, 2, 9, 9, 2, 3, 5, 2, 0, 1, 0, 8, 9, 5, 7, 3, 3, 2, 4, 1, 3, 8,\n",
       "          1, 8, 2, 6, 6, 5, 8, 5]),\n",
       "  tensor([1, 2, 4, 0, 5, 2, 5, 8, 0, 7, 1, 6, 5, 8, 9, 7, 4, 9, 6, 1, 1, 2, 5, 0,\n",
       "          8, 0, 4, 2, 3, 6, 0, 0]),\n",
       "  tensor([3, 3, 5, 9, 4, 7, 1, 5, 4, 1, 6, 1, 7, 9, 4, 0, 4, 5, 2, 9, 4, 9, 8, 8,\n",
       "          7, 6, 2, 0, 9, 3, 6, 7]),\n",
       "  tensor([6, 2, 7, 0, 6, 1, 0, 5, 7, 3, 5, 9, 4, 3, 2, 8, 5, 8, 1, 9, 6, 7, 6, 7,\n",
       "          3, 6, 4, 5, 6, 8, 8, 6]),\n",
       "  tensor([7, 4, 0, 5, 1, 5, 9, 6, 0, 9, 5, 8, 5, 7, 3, 9, 8, 3, 2, 6, 5, 7, 5, 1,\n",
       "          1, 5, 4, 1, 4, 5, 8, 2]),\n",
       "  tensor([9, 6, 3, 3, 4, 6, 2, 4, 1, 1, 4, 7, 2, 5, 0, 2, 8, 8, 8, 8, 7, 7, 1, 2,\n",
       "          6, 4, 1, 6, 0, 2, 5, 8]),\n",
       "  tensor([2, 4, 8, 3, 1, 5, 8, 4, 4, 0, 8, 2, 8, 0, 3, 2, 5, 8, 7, 5, 7, 0, 1, 1,\n",
       "          9, 7, 8, 6, 1, 9, 6, 3]),\n",
       "  tensor([6, 9, 4, 0, 4, 9, 7, 2, 2, 2, 0, 5, 6, 6, 3, 7, 8, 6, 2, 6, 1, 1, 9, 9,\n",
       "          4, 5, 3, 6, 8, 5, 8, 6]),\n",
       "  tensor([6, 1, 2, 3, 7, 2, 9, 0, 4, 8, 2, 3, 6, 9, 5, 5, 9, 4, 0, 4, 1, 1, 8, 9,\n",
       "          6, 4, 2, 3, 3, 0, 7, 1]),\n",
       "  tensor([8, 8, 5, 3, 3, 7, 7, 1, 2, 1, 4, 1, 9, 0, 2, 1, 1, 0, 7, 3, 7, 3, 9, 0,\n",
       "          1, 8, 9, 2, 6, 6, 0, 9]),\n",
       "  tensor([1, 6, 1, 2, 7, 8, 0, 5, 6, 8, 2, 5, 5, 3, 5, 9, 1, 8, 5, 3, 1, 2, 4, 3,\n",
       "          7, 3, 5, 4, 8, 6, 7, 1]),\n",
       "  tensor([6, 3, 9, 8, 3, 8, 7, 7, 9, 7, 0, 9, 4, 0, 9, 6, 1, 9, 8, 6, 4, 7, 6, 9,\n",
       "          5, 4, 7, 1, 2, 1, 2, 6]),\n",
       "  tensor([9, 2, 0, 5, 2, 0, 5, 6, 4, 6, 9, 9, 1, 6, 7, 7, 7, 4, 5, 1, 4, 0, 6, 3,\n",
       "          8, 9, 8, 4, 1, 0, 6, 3]),\n",
       "  tensor([9, 8, 8, 7, 8, 3, 2, 0, 7, 4, 8, 6, 9, 9, 4, 7, 7, 2, 2, 1, 5, 3, 4, 3,\n",
       "          5, 5, 0, 8, 4, 7, 8, 9]),\n",
       "  tensor([4, 2, 1, 7, 4, 4, 4, 7, 4, 3, 6, 0, 7, 7, 8, 0, 9, 1, 2, 6, 2, 9, 7, 1,\n",
       "          9, 9, 3, 3, 1, 4, 3, 5]),\n",
       "  tensor([3, 3, 9, 4, 1, 4, 4, 6, 7, 5, 4, 6, 9, 9, 8, 3, 8, 1, 2, 2, 9, 5, 3, 1,\n",
       "          2, 6, 0, 1, 2, 0, 7, 6]),\n",
       "  tensor([8, 8, 2, 8, 4, 5, 0, 0, 1, 7, 9, 7, 3, 5, 4, 6, 2, 8, 7, 1, 6, 8, 7, 6,\n",
       "          2, 6, 8, 2, 8, 0, 1, 5]),\n",
       "  tensor([3, 8, 1, 7, 4, 9, 3, 7, 9, 5, 1, 8, 3, 0, 9, 0, 6, 2, 4, 2, 7, 6, 0, 9,\n",
       "          8, 8, 1, 5, 7, 7, 1, 7]),\n",
       "  tensor([5, 4, 1, 0, 9, 8, 7, 3, 7, 3, 2, 5, 5, 2, 6, 9, 2, 6, 3, 2, 0, 4, 7, 8,\n",
       "          6, 4, 6, 1, 9, 3, 8, 3]),\n",
       "  tensor([9, 7, 1, 7, 1, 3, 3, 8, 5, 6, 0, 6, 4, 1, 1, 2, 9, 0, 3, 2, 1, 3, 2, 7,\n",
       "          6, 1, 8, 5, 7, 4, 0, 5]),\n",
       "  tensor([0, 4, 6, 2, 2, 5, 2, 1, 8, 2, 1, 5, 3, 8, 8, 9, 5, 0, 1, 2, 1, 4, 9, 0,\n",
       "          3, 1, 1, 4, 7, 8, 3, 6]),\n",
       "  tensor([9, 3, 2, 8, 3, 8, 4, 9, 4, 7, 7, 6, 3, 6, 4, 5, 7, 3, 7, 4, 6, 6, 9, 3,\n",
       "          0, 5, 4, 1, 2, 1, 8, 1]),\n",
       "  tensor([9, 4, 8, 9, 9, 3, 3, 7, 0, 0, 6, 1, 6, 4, 6, 4, 2, 2, 7, 3, 6, 3, 4, 0,\n",
       "          0, 1, 3, 8, 3, 5, 7, 9]),\n",
       "  tensor([6, 6, 3, 7, 5, 1, 2, 7, 7, 5, 8, 0, 9, 1, 2, 1, 4, 9, 1, 6, 5, 2, 3, 0,\n",
       "          7, 1, 2, 7, 9, 3, 7, 4]),\n",
       "  tensor([4, 6, 6, 7, 2, 7, 3, 3, 9, 8, 8, 7, 0, 1, 4, 0, 9, 7, 9, 9, 1, 2, 0, 4,\n",
       "          7, 4, 3, 3, 1, 7, 5, 7]),\n",
       "  tensor([6, 9, 2, 0, 3, 1, 4, 7, 5, 3, 2, 5, 8, 4, 7, 4, 0, 8, 3, 2, 1, 7, 9, 2,\n",
       "          9, 1, 6, 6, 5, 1, 0, 2]),\n",
       "  tensor([3, 7, 3, 1, 8, 2, 8, 9, 8, 8, 1, 0, 9, 6, 6, 6, 1, 1, 4, 7, 3, 0, 7, 9,\n",
       "          8, 9, 5, 4, 6, 4, 7, 2]),\n",
       "  tensor([0, 8, 3, 8, 1, 1, 2, 4, 8, 1, 0, 8, 1, 8, 5, 3, 2, 7, 0, 2, 4, 9, 6, 2,\n",
       "          4, 9, 9, 6, 9, 9, 6, 7]),\n",
       "  tensor([3, 2, 3, 3, 9, 6, 7, 7, 8, 1, 1, 6, 6, 5, 7, 9, 4, 7, 4, 7, 0, 6, 2, 9,\n",
       "          9, 7, 7, 5, 0, 1, 2, 3]),\n",
       "  tensor([4, 6, 2, 0, 9, 8, 7, 8, 4, 2, 8, 9, 7, 1, 6, 7, 9, 9, 0, 1, 5, 1, 1, 3,\n",
       "          6, 7, 9, 8, 3, 3, 8, 5]),\n",
       "  tensor([2, 4, 3, 6, 5, 0, 9, 2, 6, 9, 0, 1, 6, 5, 1, 8, 2, 1, 8, 1, 7, 1, 9, 1,\n",
       "          8, 3, 5, 4, 1, 0, 8, 2]),\n",
       "  tensor([6, 6, 8, 2, 2, 5, 5, 0, 2, 4, 9, 8, 6, 1, 0, 0, 4, 8, 3, 4, 7, 7, 5, 9,\n",
       "          2, 5, 6, 6, 9, 9, 4, 8]),\n",
       "  tensor([5, 6, 9, 3, 4, 0, 2, 8, 3, 1, 9, 2, 1, 6, 7, 3, 8, 5, 0, 4, 6, 4, 1, 1,\n",
       "          9, 8, 8, 9, 1, 2, 6, 0]),\n",
       "  tensor([5, 2, 7, 4, 8, 3, 2, 4, 8, 4, 4, 5, 0, 4, 3, 1, 9, 2, 4, 7, 8, 2, 3, 4,\n",
       "          2, 5, 6, 9, 0, 7, 1, 1]),\n",
       "  tensor([7, 9, 6, 1, 6, 7, 5, 4, 6, 3, 3, 6, 1, 0, 0, 9, 9, 8, 4, 9, 6, 2, 5, 4,\n",
       "          7, 2, 6, 5, 6, 6, 9, 3]),\n",
       "  tensor([7, 0, 6, 3, 5, 3, 4, 3, 4, 6, 9, 8, 8, 3, 2, 0, 6, 3, 9, 4, 2, 8, 1, 7,\n",
       "          2, 4, 9, 3, 6, 2, 0, 8]),\n",
       "  tensor([7, 0, 5, 0, 6, 3, 1, 3, 0, 9, 5, 4, 3, 9, 6, 2, 2, 9, 0, 7, 6, 5, 6, 8,\n",
       "          2, 1, 0, 6, 6, 5, 9, 3]),\n",
       "  tensor([5, 0, 2, 0, 7, 4, 4, 4, 3, 3, 8, 6, 3, 8, 9, 4, 0, 2, 8, 4, 8, 2, 5, 7,\n",
       "          0, 3, 6, 8, 1, 5, 9, 2]),\n",
       "  tensor([2, 8, 9, 2, 1, 0, 5, 5, 2, 2, 8, 2, 2, 6, 7, 2, 5, 3, 7, 4, 5, 8, 8, 3,\n",
       "          9, 5, 0, 6, 2, 0, 3, 6]),\n",
       "  tensor([6, 9, 2, 5, 6, 5, 0, 3, 1, 7, 8, 0, 4, 7, 3, 3, 2, 0, 0, 9, 2, 8, 5, 4,\n",
       "          9, 6, 3, 2, 2, 0, 1, 1]),\n",
       "  tensor([7, 3, 8, 2, 1, 9, 5, 8, 4, 8, 2, 3, 7, 3, 6, 4, 9, 6, 6, 2, 9, 8, 0, 5,\n",
       "          7, 2, 6, 5, 4, 3, 6, 7]),\n",
       "  tensor([2, 4, 2, 7, 3, 6, 3, 3, 1, 5, 4, 0, 1, 7, 7, 5, 6, 5, 2, 7, 2, 6, 3, 5,\n",
       "          4, 8, 9, 0, 9, 7, 5, 7]),\n",
       "  tensor([7, 9, 3, 3, 8, 4, 3, 9, 3, 1, 0, 2, 5, 2, 8, 7, 9, 7, 7, 7, 9, 2, 6, 0,\n",
       "          6, 7, 6, 1, 8, 0, 3, 8]),\n",
       "  tensor([5, 0, 5, 6, 9, 1, 1, 2, 2, 8, 9, 7, 7, 5, 8, 6, 1, 4, 0, 1, 8, 4, 3, 4,\n",
       "          7, 9, 3, 7, 5, 5, 3, 9]),\n",
       "  tensor([1, 2, 1, 2, 7, 4, 6, 9, 3, 4, 4, 1, 7, 8, 1, 6, 5, 9, 0, 0, 9, 5, 3, 8,\n",
       "          8, 2, 8, 5, 7, 0, 7, 0]),\n",
       "  tensor([9, 6, 9, 2, 9, 4, 8, 5, 2, 0, 3, 2, 6, 4, 7, 3, 1, 7, 7, 8, 5, 7, 0, 6,\n",
       "          4, 2, 1, 3, 8, 0, 3, 4]),\n",
       "  tensor([7, 5, 9, 1, 0, 4, 3, 7, 6, 6, 3, 1, 8, 4, 7, 2, 5, 5, 3, 1, 5, 1, 9, 2,\n",
       "          9, 6, 2, 2, 1, 8, 6, 9]),\n",
       "  tensor([8, 4, 0, 3, 8, 4, 5, 1, 2, 4, 6, 4, 2, 8, 5, 7, 7, 7, 6, 5, 5, 7, 9, 9,\n",
       "          8, 2, 8, 2, 1, 3, 3, 4]),\n",
       "  tensor([8, 9, 4, 0, 7, 3, 6, 8, 1, 2, 6, 1, 6, 5, 2, 9, 7, 2, 8, 7, 3, 7, 2, 3,\n",
       "          2, 1, 7, 4, 3, 8, 5, 0]),\n",
       "  tensor([2, 3, 0, 1, 6, 6, 5, 0, 1, 5, 5, 2, 5, 1, 7, 8, 7, 3, 2, 7, 0, 9, 3, 3,\n",
       "          9, 0, 4, 6, 6, 5, 9, 9]),\n",
       "  tensor([2, 2, 7, 1, 8, 1, 4, 2, 3, 7, 8, 4, 0, 4, 5, 4, 2, 9, 3, 5, 8, 0, 1, 9,\n",
       "          6, 7, 3, 7, 4, 4, 6, 6]),\n",
       "  tensor([2, 1, 3, 3, 6, 7, 0, 5, 9, 8, 9, 3, 7, 9, 9, 2, 8, 8, 0, 1, 4, 4, 0, 2,\n",
       "          8, 1, 2, 1, 3, 3, 2, 7]),\n",
       "  tensor([8, 7, 0, 4, 3, 4, 4, 5, 7, 9, 2, 8, 2, 4, 8, 0, 1, 7, 6, 7, 6, 0, 0, 3,\n",
       "          5, 1, 1, 2, 3, 6, 9, 8]),\n",
       "  tensor([1, 0, 1, 6, 8, 5, 4, 0, 4, 0, 4, 9, 3, 8, 5, 2, 8, 6, 2, 8, 6, 4, 4, 6,\n",
       "          8, 7, 5, 2, 8, 7, 2, 9]),\n",
       "  tensor([5, 9, 2, 1, 0, 4, 1, 9, 7, 1, 7, 3, 5, 8, 7, 2, 5, 1, 5, 2, 0, 6, 0, 1,\n",
       "          2, 4, 4, 8, 0, 3, 2, 2]),\n",
       "  tensor([3, 5, 1, 6, 3, 6, 5, 1, 8, 3, 1, 8, 7, 8, 4, 2, 0, 3, 7, 8, 1, 3, 9, 0,\n",
       "          2, 8, 1, 4, 8, 8, 3, 0]),\n",
       "  tensor([8, 5, 7, 5, 4, 7, 7, 6, 1, 8, 1, 7, 7, 0, 3, 1, 6, 5, 5, 3, 8, 9, 2, 0,\n",
       "          9, 5, 1, 7, 2, 1, 5, 2]),\n",
       "  tensor([8, 3, 3, 0, 7, 1, 3, 4, 4, 5, 7, 0, 6, 7, 3, 3, 7, 8, 8, 2, 5, 6, 9, 7,\n",
       "          1, 2, 9, 3, 0, 5, 5, 0]),\n",
       "  tensor([9, 1, 4, 8, 5, 6, 4, 1, 4, 0, 3, 3, 6, 3, 0, 8, 4, 7, 5, 5, 7, 0, 7, 9,\n",
       "          4, 3, 2, 9, 4, 8, 1, 8]),\n",
       "  tensor([8, 8, 5, 8, 3, 8, 9, 3, 2, 0, 2, 1, 8, 4, 4, 2, 6, 9, 5, 3, 1, 9, 1, 3,\n",
       "          5, 6, 6, 2, 1, 7, 3, 6]),\n",
       "  tensor([8, 2, 9, 3, 9, 0, 0, 4, 1, 2, 6, 2, 3, 1, 4, 9, 7, 3, 2, 6, 2, 9, 7, 8,\n",
       "          5, 0, 9, 6, 0, 3, 8, 1]),\n",
       "  tensor([3, 2, 7, 5, 8, 4, 5, 2, 8, 9, 1, 9, 1, 8, 1, 2])])"
      ]
     },
     "execution_count": 179,
     "metadata": {},
     "output_type": "execute_result"
    }
   ],
   "source": [
    "# Confusion Matrix - `torch.metrics.ConfusionMatrix`\n",
    "\n",
    "from tqdm.auto import tqdm\n",
    "\n",
    "# Make Predictins\n",
    "\n",
    "y_preds = []\n",
    "\n",
    "ModelV2.eval()\n",
    "\n",
    "with torch.inference_mode():\n",
    "    for X, y in tqdm(test_dataloader, desc=\" Making Predictions\"):\n",
    "\n",
    "        X, y = X.to(device), y.to(device)\n",
    "\n",
    "        y_logits = ModelV2(X)\n",
    "\n",
    "        y_pred = torch.softmax(y_logits.squeeze(), dim=0).argmax(dim=1)\n",
    "\n",
    "        y_preds.append(y_pred.cpu())\n",
    "\n",
    "# print(y_preds) # [tensor([]), tensor([])]\n",
    "y_pred_tensor = torch.cat(y_preds) # tensor([])\n",
    "y_pred_tensor, y_preds"
   ]
  },
  {
   "cell_type": "code",
   "execution_count": 180,
   "id": "aafec882",
   "metadata": {},
   "outputs": [
    {
     "data": {
      "text/plain": [
       "'0.23.4'"
      ]
     },
     "execution_count": 180,
     "metadata": {},
     "output_type": "execute_result"
    }
   ],
   "source": [
    "import torchmetrics, mlxtend\n",
    "from torchmetrics import ConfusionMatrix\n",
    "from mlxtend.plotting import plot_confusion_matrix\n",
    "\n",
    "mlxtend.__version__"
   ]
  },
  {
   "cell_type": "code",
   "execution_count": 188,
   "id": "ed454209",
   "metadata": {},
   "outputs": [
    {
     "data": {
      "text/plain": [
       "(tensor([9, 2, 1,  ..., 8, 1, 2]), tensor([9, 2, 1,  ..., 8, 1, 5]))"
      ]
     },
     "execution_count": 188,
     "metadata": {},
     "output_type": "execute_result"
    }
   ],
   "source": [
    "type(len(class_names))\n",
    "y_pred_tensor.shape, test_data.targets.shape\n",
    "y_pred_tensor.dtype, test_data.targets.dtype\n",
    "y_pred_tensor, test_data.targets"
   ]
  },
  {
   "cell_type": "code",
   "execution_count": null,
   "id": "7a5b5896",
   "metadata": {},
   "outputs": [
    {
     "data": {
      "text/plain": [
       "tensor([[656,   6,  46,  67,  13,   1, 207,   0,   4,   0],\n",
       "        [  6, 919,   5,  50,  12,   0,   4,   1,   3,   0],\n",
       "        [  8,   2, 818,  13,  96,   0,  61,   0,   2,   0],\n",
       "        [ 29,  16,  20, 853,  34,   0,  40,   0,   6,   2],\n",
       "        [  3,   5, 114,  48, 736,   0,  88,   0,   6,   0],\n",
       "        [  6,   2,   3,   6,   1, 846,   5,  45,  63,  23],\n",
       "        [ 67,   6, 126,  59,  89,   0, 639,   0,  14,   0],\n",
       "        [  2,   2,   0,   0,   0,  26,   0, 904,   9,  57],\n",
       "        [  9,   3,  16,  13,  15,   6,  25,   6, 906,   1],\n",
       "        [  0,   1,   0,   3,   0,  24,   2,  72,   8, 890]])"
      ]
     },
     "execution_count": 190,
     "metadata": {},
     "output_type": "execute_result"
    }
   ],
   "source": [
    "confmat = ConfusionMatrix(num_classes=len(class_names), task='multiclass')\n",
    "\n",
    "# This is multi class \n",
    "\n",
    "confmat_tensor = confmat(preds=y_pred_tensor,\n",
    "                         target=test_data.targets)\n",
    "\n",
    "confmat_tensor"
   ]
  },
  {
   "cell_type": "code",
   "execution_count": 193,
   "id": "ca61eb3b",
   "metadata": {},
   "outputs": [
    {
     "data": {
      "image/png": "[encoded data removed]",
      "text/plain": [
       "<Figure size 1000x700 with 1 Axes>"
      ]
     },
     "metadata": {},
     "output_type": "display_data"
    }
   ],
   "source": [
    "fig, ax = plot_confusion_matrix(\n",
    "    conf_mat=confmat_tensor.numpy(), # Matplotlib works with numpy\n",
    "    class_names=class_names,\n",
    "    figsize=(10,7)\n",
    ")"
   ]
  },
  {
   "cell_type": "code",
   "execution_count": 198,
   "id": "750cbed7",
   "metadata": {},
   "outputs": [
    {
     "name": "stdout",
     "output_type": "stream",
     "text": [
      "Saving model to: Models\\03_pytorch_computer_vision_ModelV2.pth\n"
     ]
    }
   ],
   "source": [
    "# Save and Load\n",
    "from pathlib import Path\n",
    "modelpath = Path('Models')\n",
    "modelpath.mkdir(parents=True, exist_ok=True)\n",
    "\n",
    "modelname = '03_pytorch_computer_vision_ModelV2.pth'\n",
    "\n",
    "modelsavepath = modelpath / modelname\n",
    "\n",
    "print(f'Saving model to: {modelsavepath}')\n",
    "torch.save(obj=ModelV2.state_dict(),\n",
    "           f=modelsavepath)"
   ]
  },
  {
   "cell_type": "code",
   "execution_count": 201,
   "id": "d67130ea",
   "metadata": {},
   "outputs": [
    {
     "name": "stderr",
     "output_type": "stream",
     "text": [
      "C:\\Users\\prash\\AppData\\Local\\Temp\\ipykernel_20876\\593877427.py:7: FutureWarning: You are using `torch.load` with `weights_only=False` (the current default value), which uses the default pickle module implicitly. It is possible to construct malicious pickle data which will execute arbitrary code during unpickling (See https://github.com/pytorch/pytorch/blob/main/SECURITY.md#untrusted-models for more details). In a future release, the default value for `weights_only` will be flipped to `True`. This limits the functions that could be executed during unpickling. Arbitrary objects will no longer be allowed to be loaded via this mode unless they are explicitly allowlisted by the user via `torch.serialization.add_safe_globals`. We recommend you start setting `weights_only=True` for any use case where you don't have full control of the loaded file. Please open an issue on GitHub for any issues related to this experimental feature.\n",
      "  ld_ModelV2.load_state_dict(torch.load(f=modelsavepath))\n"
     ]
    },
    {
     "data": {
      "text/plain": [
       "<All keys matched successfully>"
      ]
     },
     "execution_count": 201,
     "metadata": {},
     "output_type": "execute_result"
    }
   ],
   "source": [
    "# Loading the Model\n",
    "torch.manual_seed(42)\n",
    "ld_ModelV2 = FashionMNISTModelV2(input_shape=1,\n",
    "                                 hidden_units=10,\n",
    "                                 output_shape=len(class_names))\n",
    "\n",
    "ld_ModelV2.load_state_dict(torch.load(f=modelsavepath))"
   ]
  },
  {
   "cell_type": "code",
   "execution_count": 202,
   "id": "86080ecd",
   "metadata": {},
   "outputs": [
    {
     "data": {
      "text/plain": [
       "FashionMNISTModelV2(\n",
       "  (conv_block_one): Sequential(\n",
       "    (0): Conv2d(1, 10, kernel_size=(3, 3), stride=(1, 1), padding=(1, 1))\n",
       "    (1): ReLU()\n",
       "    (2): Conv2d(10, 10, kernel_size=(3, 3), stride=(1, 1), padding=(1, 1))\n",
       "    (3): ReLU()\n",
       "    (4): MaxPool2d(kernel_size=2, stride=2, padding=0, dilation=1, ceil_mode=False)\n",
       "  )\n",
       "  (conv_block_two): Sequential(\n",
       "    (0): Conv2d(10, 10, kernel_size=(3, 3), stride=(1, 1), padding=(1, 1))\n",
       "    (1): ReLU()\n",
       "    (2): Conv2d(10, 10, kernel_size=(3, 3), stride=(1, 1), padding=(1, 1))\n",
       "    (3): ReLU()\n",
       "    (4): MaxPool2d(kernel_size=2, stride=2, padding=0, dilation=1, ceil_mode=False)\n",
       "  )\n",
       "  (classifier): Sequential(\n",
       "    (0): Flatten(start_dim=1, end_dim=-1)\n",
       "    (1): Linear(in_features=490, out_features=10, bias=True)\n",
       "  )\n",
       ")"
      ]
     },
     "execution_count": 202,
     "metadata": {},
     "output_type": "execute_result"
    }
   ],
   "source": [
    "ld_ModelV2.to(device)"
   ]
  },
  {
   "cell_type": "code",
   "execution_count": 203,
   "id": "e5193327",
   "metadata": {},
   "outputs": [
    {
     "data": {
      "text/plain": [
       "{'Model Name': 'FashionMNISTModelV2',\n",
       " 'Model Loss': 0.3113122582435608,\n",
       " 'Model Accuracy': '88.90%'}"
      ]
     },
     "execution_count": 203,
     "metadata": {},
     "output_type": "execute_result"
    }
   ],
   "source": [
    "# Evaluate the loaded model\n",
    "ModelV2_results"
   ]
  },
  {
   "cell_type": "code",
   "execution_count": 206,
   "id": "acee3702",
   "metadata": {},
   "outputs": [
    {
     "data": {
      "application/vnd.jupyter.widget-view+json": {
       "model_id": "af9f4fda12a043db87ccbe237915e101",
       "version_major": 2,
       "version_minor": 0
      },
      "text/plain": [
       "  0%|          | 0/313 [00:00<?, ?it/s]"
      ]
     },
     "metadata": {},
     "output_type": "display_data"
    },
    {
     "data": {
      "text/plain": [
       "{'Model Name': 'FashionMNISTModelV2',\n",
       " 'Model Loss': 0.3113122582435608,\n",
       " 'Model Accuracy': '88.90%'}"
      ]
     },
     "execution_count": 206,
     "metadata": {},
     "output_type": "execute_result"
    }
   ],
   "source": [
    "ld_ModelV2_results = eval_model(model=ld_ModelV2,\n",
    "                                data_loader=test_dataloader,\n",
    "                                loss_fn=loss_fnV2,\n",
    "                                accuracy_fn=accuracy_fn,\n",
    "                                device=device)\n",
    "ld_ModelV2_results"
   ]
  },
  {
   "cell_type": "code",
   "execution_count": 209,
   "id": "3b509cbe",
   "metadata": {},
   "outputs": [
    {
     "data": {
      "text/plain": [
       "tensor(True)"
      ]
     },
     "execution_count": 209,
     "metadata": {},
     "output_type": "execute_result"
    }
   ],
   "source": [
    "# Check if model results are close to each other\n",
    "torch.isclose(torch.tensor(ModelV2_results['Model Loss']),\n",
    "              torch.tensor(ld_ModelV2_results['Model Loss']),\n",
    "              atol=1e-02) # Tolerance, within 2 decimal places"
   ]
  }
 ],
 "metadata": {
  "kernelspec": {
   "display_name": "base",
   "language": "python",
   "name": "python3"
  },
  "language_info": {
   "codemirror_mode": {
    "name": "ipython",
    "version": 3
   },
   "file_extension": ".py",
   "mimetype": "text/x-python",
   "name": "python",
   "nbconvert_exporter": "python",
   "pygments_lexer": "ipython3",
   "version": "3.12.3"
  }
 },
 "nbformat": 4,
 "nbformat_minor": 5
}
