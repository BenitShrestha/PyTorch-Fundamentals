{
 "cells": [
  {
   "cell_type": "markdown",
   "id": "2c094dd0",
   "metadata": {},
   "source": [
    "### **PyTorch Computer Vision**\n",
    "\n",
    "Libraries\n",
    "- `torchvision` : Base domain for PyTorch Computer Vision\n",
    "\n",
    "- `torchvision.datasets` : Get datasets and data loading function for computer vision\n",
    "\n",
    "- `torchvision.models` : Get pretrained computer vision models\n",
    "\n",
    "- `torchvision.transforms` : Function for manipulating your data to be suitable for computer vision models\n",
    "\n",
    "- `torch.utils.data.Dataset` : Base dataset class for PyTorch\n",
    "\n",
    "- `torch.utils.data.DataLoader` : Creates a Python iterable over a dataset"
   ]
  },
  {
   "cell_type": "code",
   "execution_count": 4,
   "id": "c16ead46",
   "metadata": {},
   "outputs": [
    {
     "name": "stdout",
     "output_type": "stream",
     "text": [
      "Torch Version: 2.4.1\n",
      "TorchVision Version: 0.19.1\n"
     ]
    }
   ],
   "source": [
    "# Import Dependencies\n",
    "import torch\n",
    "from torch import nn\n",
    "\n",
    "import torchvision\n",
    "from torchvision import datasets \n",
    "from torchvision import transforms\n",
    "from torchvision.transforms import ToTensor \n",
    "\n",
    "import matplotlib.pyplot as plt\n",
    "\n",
    "print(f'Torch Version: {torch.__version__}\\nTorchVision Version: {torchvision.__version__}')"
   ]
  },
  {
   "cell_type": "markdown",
   "id": "f399272a",
   "metadata": {},
   "source": [
    "### **1. Getting a Dataset**\n",
    "\n",
    "The dataset is Fashion MNIST - Grayscale images of clothing\n",
    "\n",
    "Imagenet dataset"
   ]
  },
  {
   "cell_type": "code",
   "execution_count": 5,
   "id": "18d01017",
   "metadata": {},
   "outputs": [],
   "source": [
    "# Setup training data\n",
    "\n",
    "train_data = datasets.FashionMNIST(\n",
    "    root='Datasets', # Where to download\n",
    "    train=True, # Train or Test data\n",
    "    download=True,\n",
    "    transform=torchvision.transforms.ToTensor(), # Converts to `data` tensor\n",
    "    target_transform=None # To transform the `target` or `label`\n",
    ")\n",
    "\n",
    "test_data = datasets.FashionMNIST(root='Datasets',\n",
    "                                  train=False,\n",
    "                                  download=True,\n",
    "                                  transform=ToTensor(),\n",
    "                                  target_transform=None)\n",
    "\n",
    "# ToTensor() converts Python Image Library (PIL) or numpy.ndarray to tensor\n",
    "# H*W*C -> C*H*W, Range of [0.0, 1.0]"
   ]
  },
  {
   "cell_type": "code",
   "execution_count": 6,
   "id": "91517bae",
   "metadata": {},
   "outputs": [
    {
     "data": {
      "text/plain": [
       "(60000, 10000)"
      ]
     },
     "execution_count": 6,
     "metadata": {},
     "output_type": "execute_result"
    }
   ],
   "source": [
    "len(train_data), len(test_data)"
   ]
  },
  {
   "cell_type": "code",
   "execution_count": 7,
   "id": "d123c7b8",
   "metadata": {},
   "outputs": [
    {
     "data": {
      "text/plain": [
       "['T-shirt/top',\n",
       " 'Trouser',\n",
       " 'Pullover',\n",
       " 'Dress',\n",
       " 'Coat',\n",
       " 'Sandal',\n",
       " 'Shirt',\n",
       " 'Sneaker',\n",
       " 'Bag',\n",
       " 'Ankle boot']"
      ]
     },
     "execution_count": 7,
     "metadata": {},
     "output_type": "execute_result"
    }
   ],
   "source": [
    "class_names = train_data.classes\n",
    "class_names # 9 Labels"
   ]
  },
  {
   "cell_type": "code",
   "execution_count": 8,
   "id": "0148189c",
   "metadata": {},
   "outputs": [
    {
     "data": {
      "text/plain": [
       "(tensor([[[0.0000, 0.0000, 0.0000, 0.0000, 0.0000, 0.0000, 0.0000, 0.0000,\n",
       "           0.0000, 0.0000, 0.0000, 0.0000, 0.0000, 0.0000, 0.0000, 0.0000,\n",
       "           0.0000, 0.0000, 0.0000, 0.0000, 0.0000, 0.0000, 0.0000, 0.0000,\n",
       "           0.0000, 0.0000, 0.0000, 0.0000],\n",
       "          [0.0000, 0.0000, 0.0000, 0.0000, 0.0000, 0.0000, 0.0000, 0.0000,\n",
       "           0.0000, 0.0000, 0.0000, 0.0000, 0.0000, 0.0000, 0.0000, 0.0000,\n",
       "           0.0000, 0.0000, 0.0000, 0.0000, 0.0000, 0.0000, 0.0000, 0.0000,\n",
       "           0.0000, 0.0000, 0.0000, 0.0000],\n",
       "          [0.0000, 0.0000, 0.0000, 0.0000, 0.0000, 0.0000, 0.0000, 0.0000,\n",
       "           0.0000, 0.0000, 0.0000, 0.0000, 0.0000, 0.0000, 0.0000, 0.0000,\n",
       "           0.0000, 0.0000, 0.0000, 0.0000, 0.0000, 0.0000, 0.0000, 0.0000,\n",
       "           0.0000, 0.0000, 0.0000, 0.0000],\n",
       "          [0.0000, 0.0000, 0.0000, 0.0000, 0.0000, 0.0000, 0.0000, 0.0000,\n",
       "           0.0000, 0.0000, 0.0000, 0.0000, 0.0039, 0.0000, 0.0000, 0.0510,\n",
       "           0.2863, 0.0000, 0.0000, 0.0039, 0.0157, 0.0000, 0.0000, 0.0000,\n",
       "           0.0000, 0.0039, 0.0039, 0.0000],\n",
       "          [0.0000, 0.0000, 0.0000, 0.0000, 0.0000, 0.0000, 0.0000, 0.0000,\n",
       "           0.0000, 0.0000, 0.0000, 0.0000, 0.0118, 0.0000, 0.1412, 0.5333,\n",
       "           0.4980, 0.2431, 0.2118, 0.0000, 0.0000, 0.0000, 0.0039, 0.0118,\n",
       "           0.0157, 0.0000, 0.0000, 0.0118],\n",
       "          [0.0000, 0.0000, 0.0000, 0.0000, 0.0000, 0.0000, 0.0000, 0.0000,\n",
       "           0.0000, 0.0000, 0.0000, 0.0000, 0.0235, 0.0000, 0.4000, 0.8000,\n",
       "           0.6902, 0.5255, 0.5647, 0.4824, 0.0902, 0.0000, 0.0000, 0.0000,\n",
       "           0.0000, 0.0471, 0.0392, 0.0000],\n",
       "          [0.0000, 0.0000, 0.0000, 0.0000, 0.0000, 0.0000, 0.0000, 0.0000,\n",
       "           0.0000, 0.0000, 0.0000, 0.0000, 0.0000, 0.0000, 0.6078, 0.9255,\n",
       "           0.8118, 0.6980, 0.4196, 0.6118, 0.6314, 0.4275, 0.2510, 0.0902,\n",
       "           0.3020, 0.5098, 0.2824, 0.0588],\n",
       "          [0.0000, 0.0000, 0.0000, 0.0000, 0.0000, 0.0000, 0.0000, 0.0000,\n",
       "           0.0000, 0.0000, 0.0000, 0.0039, 0.0000, 0.2706, 0.8118, 0.8745,\n",
       "           0.8549, 0.8471, 0.8471, 0.6392, 0.4980, 0.4745, 0.4784, 0.5725,\n",
       "           0.5529, 0.3451, 0.6745, 0.2588],\n",
       "          [0.0000, 0.0000, 0.0000, 0.0000, 0.0000, 0.0000, 0.0000, 0.0000,\n",
       "           0.0000, 0.0039, 0.0039, 0.0039, 0.0000, 0.7843, 0.9098, 0.9098,\n",
       "           0.9137, 0.8980, 0.8745, 0.8745, 0.8431, 0.8353, 0.6431, 0.4980,\n",
       "           0.4824, 0.7686, 0.8980, 0.0000],\n",
       "          [0.0000, 0.0000, 0.0000, 0.0000, 0.0000, 0.0000, 0.0000, 0.0000,\n",
       "           0.0000, 0.0000, 0.0000, 0.0000, 0.0000, 0.7176, 0.8824, 0.8471,\n",
       "           0.8745, 0.8941, 0.9216, 0.8902, 0.8784, 0.8706, 0.8784, 0.8667,\n",
       "           0.8745, 0.9608, 0.6784, 0.0000],\n",
       "          [0.0000, 0.0000, 0.0000, 0.0000, 0.0000, 0.0000, 0.0000, 0.0000,\n",
       "           0.0000, 0.0000, 0.0000, 0.0000, 0.0000, 0.7569, 0.8941, 0.8549,\n",
       "           0.8353, 0.7765, 0.7059, 0.8314, 0.8235, 0.8275, 0.8353, 0.8745,\n",
       "           0.8627, 0.9529, 0.7922, 0.0000],\n",
       "          [0.0000, 0.0000, 0.0000, 0.0000, 0.0000, 0.0000, 0.0000, 0.0000,\n",
       "           0.0000, 0.0039, 0.0118, 0.0000, 0.0471, 0.8588, 0.8627, 0.8314,\n",
       "           0.8549, 0.7529, 0.6627, 0.8902, 0.8157, 0.8549, 0.8784, 0.8314,\n",
       "           0.8863, 0.7725, 0.8196, 0.2039],\n",
       "          [0.0000, 0.0000, 0.0000, 0.0000, 0.0000, 0.0000, 0.0000, 0.0000,\n",
       "           0.0000, 0.0000, 0.0235, 0.0000, 0.3882, 0.9569, 0.8706, 0.8627,\n",
       "           0.8549, 0.7961, 0.7765, 0.8667, 0.8431, 0.8353, 0.8706, 0.8627,\n",
       "           0.9608, 0.4667, 0.6549, 0.2196],\n",
       "          [0.0000, 0.0000, 0.0000, 0.0000, 0.0000, 0.0000, 0.0000, 0.0000,\n",
       "           0.0000, 0.0157, 0.0000, 0.0000, 0.2157, 0.9255, 0.8941, 0.9020,\n",
       "           0.8941, 0.9412, 0.9098, 0.8353, 0.8549, 0.8745, 0.9176, 0.8510,\n",
       "           0.8510, 0.8196, 0.3608, 0.0000],\n",
       "          [0.0000, 0.0000, 0.0039, 0.0157, 0.0235, 0.0275, 0.0078, 0.0000,\n",
       "           0.0000, 0.0000, 0.0000, 0.0000, 0.9294, 0.8863, 0.8510, 0.8745,\n",
       "           0.8706, 0.8588, 0.8706, 0.8667, 0.8471, 0.8745, 0.8980, 0.8431,\n",
       "           0.8549, 1.0000, 0.3020, 0.0000],\n",
       "          [0.0000, 0.0118, 0.0000, 0.0000, 0.0000, 0.0000, 0.0000, 0.0000,\n",
       "           0.0000, 0.2431, 0.5686, 0.8000, 0.8941, 0.8118, 0.8353, 0.8667,\n",
       "           0.8549, 0.8157, 0.8275, 0.8549, 0.8784, 0.8745, 0.8588, 0.8431,\n",
       "           0.8784, 0.9569, 0.6235, 0.0000],\n",
       "          [0.0000, 0.0000, 0.0000, 0.0000, 0.0706, 0.1725, 0.3216, 0.4196,\n",
       "           0.7412, 0.8941, 0.8627, 0.8706, 0.8510, 0.8863, 0.7843, 0.8039,\n",
       "           0.8275, 0.9020, 0.8784, 0.9176, 0.6902, 0.7373, 0.9804, 0.9725,\n",
       "           0.9137, 0.9333, 0.8431, 0.0000],\n",
       "          [0.0000, 0.2235, 0.7333, 0.8157, 0.8784, 0.8667, 0.8784, 0.8157,\n",
       "           0.8000, 0.8392, 0.8157, 0.8196, 0.7843, 0.6235, 0.9608, 0.7569,\n",
       "           0.8078, 0.8745, 1.0000, 1.0000, 0.8667, 0.9176, 0.8667, 0.8275,\n",
       "           0.8627, 0.9098, 0.9647, 0.0000],\n",
       "          [0.0118, 0.7922, 0.8941, 0.8784, 0.8667, 0.8275, 0.8275, 0.8392,\n",
       "           0.8039, 0.8039, 0.8039, 0.8627, 0.9412, 0.3137, 0.5882, 1.0000,\n",
       "           0.8980, 0.8667, 0.7373, 0.6039, 0.7490, 0.8235, 0.8000, 0.8196,\n",
       "           0.8706, 0.8941, 0.8824, 0.0000],\n",
       "          [0.3843, 0.9137, 0.7765, 0.8235, 0.8706, 0.8980, 0.8980, 0.9176,\n",
       "           0.9765, 0.8627, 0.7608, 0.8431, 0.8510, 0.9451, 0.2549, 0.2863,\n",
       "           0.4157, 0.4588, 0.6588, 0.8588, 0.8667, 0.8431, 0.8510, 0.8745,\n",
       "           0.8745, 0.8784, 0.8980, 0.1137],\n",
       "          [0.2941, 0.8000, 0.8314, 0.8000, 0.7569, 0.8039, 0.8275, 0.8824,\n",
       "           0.8471, 0.7255, 0.7725, 0.8078, 0.7765, 0.8353, 0.9412, 0.7647,\n",
       "           0.8902, 0.9608, 0.9373, 0.8745, 0.8549, 0.8314, 0.8196, 0.8706,\n",
       "           0.8627, 0.8667, 0.9020, 0.2627],\n",
       "          [0.1882, 0.7961, 0.7176, 0.7608, 0.8353, 0.7725, 0.7255, 0.7451,\n",
       "           0.7608, 0.7529, 0.7922, 0.8392, 0.8588, 0.8667, 0.8627, 0.9255,\n",
       "           0.8824, 0.8471, 0.7804, 0.8078, 0.7294, 0.7098, 0.6941, 0.6745,\n",
       "           0.7098, 0.8039, 0.8078, 0.4510],\n",
       "          [0.0000, 0.4784, 0.8588, 0.7569, 0.7020, 0.6706, 0.7176, 0.7686,\n",
       "           0.8000, 0.8235, 0.8353, 0.8118, 0.8275, 0.8235, 0.7843, 0.7686,\n",
       "           0.7608, 0.7490, 0.7647, 0.7490, 0.7765, 0.7529, 0.6902, 0.6118,\n",
       "           0.6549, 0.6941, 0.8235, 0.3608],\n",
       "          [0.0000, 0.0000, 0.2902, 0.7412, 0.8314, 0.7490, 0.6863, 0.6745,\n",
       "           0.6863, 0.7098, 0.7255, 0.7373, 0.7412, 0.7373, 0.7569, 0.7765,\n",
       "           0.8000, 0.8196, 0.8235, 0.8235, 0.8275, 0.7373, 0.7373, 0.7608,\n",
       "           0.7529, 0.8471, 0.6667, 0.0000],\n",
       "          [0.0078, 0.0000, 0.0000, 0.0000, 0.2588, 0.7843, 0.8706, 0.9294,\n",
       "           0.9373, 0.9490, 0.9647, 0.9529, 0.9569, 0.8667, 0.8627, 0.7569,\n",
       "           0.7490, 0.7020, 0.7137, 0.7137, 0.7098, 0.6902, 0.6510, 0.6588,\n",
       "           0.3882, 0.2275, 0.0000, 0.0000],\n",
       "          [0.0000, 0.0000, 0.0000, 0.0000, 0.0000, 0.0000, 0.0000, 0.1569,\n",
       "           0.2392, 0.1725, 0.2824, 0.1608, 0.1373, 0.0000, 0.0000, 0.0000,\n",
       "           0.0000, 0.0000, 0.0000, 0.0000, 0.0000, 0.0000, 0.0000, 0.0000,\n",
       "           0.0000, 0.0000, 0.0000, 0.0000],\n",
       "          [0.0000, 0.0000, 0.0000, 0.0000, 0.0000, 0.0000, 0.0000, 0.0000,\n",
       "           0.0000, 0.0000, 0.0000, 0.0000, 0.0000, 0.0000, 0.0000, 0.0000,\n",
       "           0.0000, 0.0000, 0.0000, 0.0000, 0.0000, 0.0000, 0.0000, 0.0000,\n",
       "           0.0000, 0.0000, 0.0000, 0.0000],\n",
       "          [0.0000, 0.0000, 0.0000, 0.0000, 0.0000, 0.0000, 0.0000, 0.0000,\n",
       "           0.0000, 0.0000, 0.0000, 0.0000, 0.0000, 0.0000, 0.0000, 0.0000,\n",
       "           0.0000, 0.0000, 0.0000, 0.0000, 0.0000, 0.0000, 0.0000, 0.0000,\n",
       "           0.0000, 0.0000, 0.0000, 0.0000]]]),\n",
       " 9)"
      ]
     },
     "execution_count": 8,
     "metadata": {},
     "output_type": "execute_result"
    }
   ],
   "source": [
    "# See first training example\n",
    "image, label = train_data[0] # 9th Label\n",
    "image, label"
   ]
  },
  {
   "cell_type": "code",
   "execution_count": 9,
   "id": "b8d06f50",
   "metadata": {},
   "outputs": [
    {
     "data": {
      "text/plain": [
       "{'T-shirt/top': 0,\n",
       " 'Trouser': 1,\n",
       " 'Pullover': 2,\n",
       " 'Dress': 3,\n",
       " 'Coat': 4,\n",
       " 'Sandal': 5,\n",
       " 'Shirt': 6,\n",
       " 'Sneaker': 7,\n",
       " 'Bag': 8,\n",
       " 'Ankle boot': 9}"
      ]
     },
     "execution_count": 9,
     "metadata": {},
     "output_type": "execute_result"
    }
   ],
   "source": [
    "class_to_idx = train_data.class_to_idx\n",
    "class_to_idx # Class to IDX mapping"
   ]
  },
  {
   "cell_type": "code",
   "execution_count": 10,
   "id": "f984748a",
   "metadata": {},
   "outputs": [
    {
     "data": {
      "text/plain": [
       "(tensor([9, 0, 0,  ..., 3, 0, 5]), torch.Size([60000]))"
      ]
     },
     "execution_count": 10,
     "metadata": {},
     "output_type": "execute_result"
    }
   ],
   "source": [
    "train_data.targets, train_data.targets.shape # All Labels"
   ]
  },
  {
   "cell_type": "code",
   "execution_count": 11,
   "id": "5e720141",
   "metadata": {},
   "outputs": [
    {
     "data": {
      "text/plain": [
       "torch.Size([1, 28, 28])"
      ]
     },
     "execution_count": 11,
     "metadata": {},
     "output_type": "execute_result"
    }
   ],
   "source": [
    "# Check shape of image\n",
    "image.shape # [Color Channel, Height, Weight]\n",
    "\n",
    "# Color Channel - GreyScale 1 or 0"
   ]
  },
  {
   "cell_type": "code",
   "execution_count": 12,
   "id": "b1ed555e",
   "metadata": {},
   "outputs": [
    {
     "data": {
      "text/plain": [
       "'Ankle boot'"
      ]
     },
     "execution_count": 12,
     "metadata": {},
     "output_type": "execute_result"
    }
   ],
   "source": [
    "class_name_0 = class_names[label]\n",
    "class_name_0"
   ]
  },
  {
   "cell_type": "code",
   "execution_count": 13,
   "id": "90e7b050",
   "metadata": {},
   "outputs": [
    {
     "data": {
      "text/plain": [
       "(-0.5, 27.5, 27.5, -0.5)"
      ]
     },
     "execution_count": 13,
     "metadata": {},
     "output_type": "execute_result"
    },
    {
     "data": {
      "image/png": "[encoded data removed]",
      "text/plain": [
       "<Figure size 640x480 with 1 Axes>"
      ]
     },
     "metadata": {},
     "output_type": "display_data"
    }
   ],
   "source": [
    "# Visualize random sample of data\n",
    "image, label = train_data[1]\n",
    "\n",
    "plt.imshow(image.squeeze()) \n",
    "# Remove an extra dimension since `matplotlib` doesn't support [1,28,28] shape\n",
    "\n",
    "plt.title(f'{class_names[label]} | { label}')\n",
    "plt.axis(False)"
   ]
  },
  {
   "cell_type": "code",
   "execution_count": 14,
   "id": "bd6a6c11",
   "metadata": {},
   "outputs": [
    {
     "data": {
      "text/plain": [
       "Text(0.5, 1.0, 'Dress | 3')"
      ]
     },
     "execution_count": 14,
     "metadata": {},
     "output_type": "execute_result"
    },
    {
     "data": {
      "image/png": "[encoded data removed]",
      "text/plain": [
       "<Figure size 640x480 with 1 Axes>"
      ]
     },
     "metadata": {},
     "output_type": "display_data"
    }
   ],
   "source": [
    "# In Greyscale\n",
    "image, label = test_data[100]\n",
    "plt.imshow(image.squeeze(), cmap='gray')\n",
    "plt.title(f'{class_names[label]} | {label}')\n",
    "\n",
    "# Pixelated since the images are 28px by 28px"
   ]
  },
  {
   "cell_type": "code",
   "execution_count": 15,
   "id": "8e050ae0",
   "metadata": {},
   "outputs": [
    {
     "data": {
      "image/png": "[encoded data removed]",
      "text/plain": [
       "<Figure size 900x900 with 16 Axes>"
      ]
     },
     "metadata": {},
     "output_type": "display_data"
    }
   ],
   "source": [
    "# Plot more images\n",
    "# torch.manual_seed(42)\n",
    "fig = plt.figure(figsize=(9,9))\n",
    "rows, cols = 4, 4\n",
    "\n",
    "for i in range(1, rows*cols+1):\n",
    "    random_idx = torch.randint(0, len(train_data), size=[1]).item()\n",
    "    # size[1] means generate 1D tensor with 1 value, Ex: tensor([185])\n",
    "    # item() extracts 185 only\n",
    "\n",
    "    image, label = train_data[random_idx]\n",
    "    fig.add_subplot(rows, cols, i)\n",
    "\n",
    "    plt.imshow(image.squeeze(), cmap='gray')\n",
    "    plt.title(f'{random_idx} | {class_names[label]} | {label}')\n",
    "    plt.axis(False)"
   ]
  },
  {
   "cell_type": "markdown",
   "id": "0e88cf04",
   "metadata": {},
   "source": [
    "### **2. Prepare Dataloader**\n",
    "\n",
    "Currently, data is in form of **PyTorch Datasets**\n",
    "\n",
    "Dataloader turns our datasets into a **Python Iterable**\n",
    "\n",
    "- Turn data into batches or mini-batches\n",
    "\n",
    "    - It is more computationally efficient, break data into 32 images at a time instead of 60k images at once\n",
    "\n",
    "    - Gives our neural network more chances to update its gradients per epoch\n",
    "\n",
    "    - Check Mini Batch Gradient Descent"
   ]
  },
  {
   "cell_type": "code",
   "execution_count": 16,
   "id": "98d9c7a8",
   "metadata": {},
   "outputs": [
    {
     "data": {
      "text/plain": [
       "(<torch.utils.data.dataloader.DataLoader at 0x1c28ee6a4b0>,\n",
       " <torch.utils.data.dataloader.DataLoader at 0x1c28f1ab470>)"
      ]
     },
     "execution_count": 16,
     "metadata": {},
     "output_type": "execute_result"
    }
   ],
   "source": [
    "from torch.utils.data import DataLoader\n",
    "\n",
    "# Setup the batch size\n",
    "BATCH_SIZE = 32\n",
    "\n",
    "# Turn datasets into iterables (Batches)\n",
    "train_dataloader = DataLoader(dataset=train_data,\n",
    "                              batch_size=32,\n",
    "                              shuffle=True)\n",
    "# Shuffle is set to True so that the model doesn't learn order of images during training\n",
    "# Shuffling isn't necessary during testing\n",
    "\n",
    "test_dataloader = DataLoader(dataset=test_data,\n",
    "                             batch_size=32,\n",
    "                             shuffle=False)\n",
    "\n",
    "train_dataloader, test_dataloader # Instances"
   ]
  },
  {
   "cell_type": "code",
   "execution_count": 17,
   "id": "a51c7edb",
   "metadata": {},
   "outputs": [
    {
     "name": "stdout",
     "output_type": "stream",
     "text": [
      "Dataloaders: (<torch.utils.data.dataloader.DataLoader object at 0x000001C28EE6A4B0>, <torch.utils.data.dataloader.DataLoader object at 0x000001C28F1AB470>)\n",
      "Length of train dataloader: 1875 batches of 32\n",
      "Length of test dataloader: 313 batches of 32\n"
     ]
    }
   ],
   "source": [
    "# Checking out\n",
    "print(f'Dataloaders: {train_dataloader, test_dataloader}')\n",
    "print(f'Length of train dataloader: {len(train_dataloader)} batches of {BATCH_SIZE}')\n",
    "print(f'Length of test dataloader: {len(test_dataloader)} batches of {BATCH_SIZE}')\n",
    "\n",
    "# Last batch might not have 32 images"
   ]
  },
  {
   "cell_type": "code",
   "execution_count": 18,
   "id": "b5525bb1",
   "metadata": {},
   "outputs": [
    {
     "name": "stdout",
     "output_type": "stream",
     "text": [
      "32 32\n",
      "32 32\n"
     ]
    },
    {
     "data": {
      "text/plain": [
       "tensor([[[[True, True, True,  ..., True, True, True],\n",
       "          [True, True, True,  ..., True, True, True],\n",
       "          [True, True, True,  ..., True, True, True],\n",
       "          ...,\n",
       "          [True, True, True,  ..., True, True, True],\n",
       "          [True, True, True,  ..., True, True, True],\n",
       "          [True, True, True,  ..., True, True, True]]],\n",
       "\n",
       "\n",
       "        [[[True, True, True,  ..., True, True, True],\n",
       "          [True, True, True,  ..., True, True, True],\n",
       "          [True, True, True,  ..., True, True, True],\n",
       "          ...,\n",
       "          [True, True, True,  ..., True, True, True],\n",
       "          [True, True, True,  ..., True, True, True],\n",
       "          [True, True, True,  ..., True, True, True]]],\n",
       "\n",
       "\n",
       "        [[[True, True, True,  ..., True, True, True],\n",
       "          [True, True, True,  ..., True, True, True],\n",
       "          [True, True, True,  ..., True, True, True],\n",
       "          ...,\n",
       "          [True, True, True,  ..., True, True, True],\n",
       "          [True, True, True,  ..., True, True, True],\n",
       "          [True, True, True,  ..., True, True, True]]],\n",
       "\n",
       "\n",
       "        ...,\n",
       "\n",
       "\n",
       "        [[[True, True, True,  ..., True, True, True],\n",
       "          [True, True, True,  ..., True, True, True],\n",
       "          [True, True, True,  ..., True, True, True],\n",
       "          ...,\n",
       "          [True, True, True,  ..., True, True, True],\n",
       "          [True, True, True,  ..., True, True, True],\n",
       "          [True, True, True,  ..., True, True, True]]],\n",
       "\n",
       "\n",
       "        [[[True, True, True,  ..., True, True, True],\n",
       "          [True, True, True,  ..., True, True, True],\n",
       "          [True, True, True,  ..., True, True, True],\n",
       "          ...,\n",
       "          [True, True, True,  ..., True, True, True],\n",
       "          [True, True, True,  ..., True, True, True],\n",
       "          [True, True, True,  ..., True, True, True]]],\n",
       "\n",
       "\n",
       "        [[[True, True, True,  ..., True, True, True],\n",
       "          [True, True, True,  ..., True, True, True],\n",
       "          [True, True, True,  ..., True, True, True],\n",
       "          ...,\n",
       "          [True, True, True,  ..., True, True, True],\n",
       "          [True, True, True,  ..., True, True, True],\n",
       "          [True, True, True,  ..., True, True, True]]]])"
      ]
     },
     "execution_count": 18,
     "metadata": {},
     "output_type": "execute_result"
    }
   ],
   "source": [
    "# Accessing a single batch and label\n",
    "train_iter = iter(train_dataloader) \n",
    "# Use this and next(train_iter) to get consecutive batches each run\n",
    "\n",
    "train_features_batch1, train_labels_batch1 = next(iter(train_dataloader))\n",
    "train_features_batch2, train_labels_batch2 = next(iter(train_dataloader))\n",
    "\n",
    "print(len(train_features_batch1), len(train_features_batch2))\n",
    "print(len(train_labels_batch1), len(train_labels_batch2))\n",
    "\n",
    "train_features_batch1 == train_features_batch2"
   ]
  },
  {
   "cell_type": "code",
   "execution_count": 19,
   "id": "5187f1e0",
   "metadata": {},
   "outputs": [
    {
     "name": "stdout",
     "output_type": "stream",
     "text": [
      "Image Shape: torch.Size([1, 28, 28])\n",
      "Label: 6, Label Shape: torch.Size([])\n"
     ]
    },
    {
     "data": {
      "image/png": "[encoded data removed]",
      "text/plain": [
       "<Figure size 640x480 with 1 Axes>"
      ]
     },
     "metadata": {},
     "output_type": "display_data"
    }
   ],
   "source": [
    "# Show a sample\n",
    "torch.manual_seed(42)\n",
    "random_idx = torch.randint(0, len(train_features_batch1), size=[1]).item()\n",
    "\n",
    "image, label = train_features_batch1[random_idx], train_labels_batch1[random_idx]\n",
    "plt.imshow(image.squeeze(), cmap='gray')\n",
    "plt.title(f'{class_names[label]} | {label}')\n",
    "plt.axis('off')\n",
    "\n",
    "print(f'Image Shape: {image.shape}')\n",
    "print(f'Label: {label}, Label Shape: {label.shape}')"
   ]
  },
  {
   "cell_type": "markdown",
   "id": "08f1e8a9",
   "metadata": {},
   "source": [
    "### 3. **ModelV0**: Build a baseline model\n",
    "\n",
    "- Baseline Model is a simple model that is improved with subsequent models/experiments"
   ]
  },
  {
   "cell_type": "code",
   "execution_count": 20,
   "id": "fb3a11bb",
   "metadata": {},
   "outputs": [
    {
     "name": "stdout",
     "output_type": "stream",
     "text": [
      "Shape of x before flattening: torch.Size([1, 28, 28])\n",
      "Shape of x after flattening: torch.Size([1, 784])\n"
     ]
    }
   ],
   "source": [
    "# Create a flatten layer\n",
    "flatten_model = nn.Flatten()\n",
    "\n",
    "# Get a single sample\n",
    "x = train_features_batch1[15]\n",
    "\n",
    "# Flatten Sample\n",
    "xflat = flatten_model(x)\n",
    "\n",
    "print(f'Shape of x before flattening: {x.shape}') # [color channel, ht, wt]\n",
    "print(f'Shape of x after flattening: {xflat.shape}') # [color channel, ht*wt]\n",
    "\n",
    "# 1 Value per pixel, Flattening done so linear transformations can be applied on batches"
   ]
  },
  {
   "cell_type": "code",
   "execution_count": 21,
   "id": "82214e79",
   "metadata": {},
   "outputs": [
    {
     "data": {
      "text/plain": [
       "tensor([[0.0000, 0.0000, 0.0000, 0.0000, 0.0000, 0.0000, 0.0000, 0.0000, 0.0000,\n",
       "         0.3020, 0.6667, 0.5882, 0.0000, 0.0000, 0.0000, 0.0000, 0.5294, 0.6588,\n",
       "         0.2706, 0.0000, 0.0000, 0.0000, 0.0000, 0.0000, 0.0000, 0.0000, 0.0000,\n",
       "         0.0000, 0.0000, 0.0000, 0.0000, 0.0000, 0.0000, 0.0118, 0.0000, 0.0353,\n",
       "         0.9137, 0.8118, 0.7765, 0.7843, 0.9176, 0.7333, 0.6863, 0.8431, 0.8784,\n",
       "         0.7804, 0.8118, 0.9216, 0.0471, 0.0000, 0.0157, 0.0000, 0.0000, 0.0000,\n",
       "         0.0000, 0.0000, 0.0000, 0.0000, 0.0000, 0.0000, 0.0000, 0.0000, 0.0000,\n",
       "         0.6627, 0.8118, 0.7176, 0.7490, 0.7216, 0.7137, 0.7804, 0.7961, 0.7490,\n",
       "         0.7333, 0.7451, 0.7255, 0.8078, 0.6824, 0.0000, 0.0000, 0.0000, 0.0000,\n",
       "         0.0000, 0.0000, 0.0000, 0.0000, 0.0000, 0.0000, 0.0000, 0.0078, 0.0000,\n",
       "         0.0157, 0.7922, 0.7569, 0.7608, 0.7686, 0.7490, 0.7333, 0.7176, 0.7176,\n",
       "         0.7373, 0.7412, 0.7686, 0.7647, 0.7608, 0.7843, 0.0353, 0.0000, 0.0118,\n",
       "         0.0000, 0.0000, 0.0000, 0.0000, 0.0000, 0.0000, 0.0000, 0.0000, 0.0078,\n",
       "         0.0000, 0.3529, 0.8431, 0.7686, 0.7725, 0.7686, 0.7529, 0.7333, 0.7333,\n",
       "         0.7373, 0.7333, 0.7373, 0.7686, 0.7843, 0.7647, 0.8392, 0.3804, 0.0000,\n",
       "         0.0039, 0.0000, 0.0000, 0.0000, 0.0000, 0.0000, 0.0000, 0.0000, 0.0000,\n",
       "         0.0000, 0.0000, 0.6392, 0.8157, 0.7922, 0.7843, 0.7569, 0.7569, 0.7333,\n",
       "         0.7333, 0.7373, 0.7294, 0.7373, 0.7686, 0.7843, 0.7882, 0.8157, 0.6510,\n",
       "         0.0000, 0.0000, 0.0000, 0.0000, 0.0000, 0.0000, 0.0000, 0.0000, 0.0000,\n",
       "         0.0000, 0.0000, 0.0000, 0.7922, 0.7922, 0.8471, 0.8706, 0.7490, 0.7725,\n",
       "         0.7373, 0.7294, 0.7373, 0.7373, 0.7529, 0.7569, 0.8902, 0.7922, 0.8039,\n",
       "         0.7922, 0.0000, 0.0000, 0.0000, 0.0000, 0.0000, 0.0000, 0.0000, 0.0000,\n",
       "         0.0000, 0.0000, 0.0000, 0.0000, 0.7333, 0.8078, 0.8000, 0.6471, 0.8157,\n",
       "         0.7608, 0.7451, 0.7412, 0.7490, 0.7490, 0.7569, 0.7843, 0.7020, 0.8510,\n",
       "         0.7922, 0.7294, 0.0000, 0.0000, 0.0000, 0.0000, 0.0000, 0.0000, 0.0000,\n",
       "         0.0000, 0.0000, 0.0000, 0.0000, 0.0627, 0.7922, 0.8353, 0.6745, 0.3608,\n",
       "         0.9059, 0.7333, 0.7412, 0.7412, 0.7490, 0.7529, 0.7412, 0.8627, 0.2510,\n",
       "         0.8745, 0.7843, 0.8078, 0.0667, 0.0000, 0.0000, 0.0000, 0.0000, 0.0000,\n",
       "         0.0000, 0.0000, 0.0000, 0.0000, 0.0000, 0.1686, 0.8196, 0.8431, 0.6118,\n",
       "         0.3176, 0.9176, 0.7373, 0.7451, 0.7451, 0.7412, 0.7451, 0.7333, 0.9216,\n",
       "         0.1176, 0.8275, 0.7961, 0.8314, 0.1647, 0.0000, 0.0000, 0.0000, 0.0000,\n",
       "         0.0000, 0.0000, 0.0000, 0.0000, 0.0000, 0.0000, 0.2078, 0.8314, 0.8627,\n",
       "         0.5098, 0.1961, 0.9333, 0.7451, 0.7490, 0.7569, 0.7451, 0.7451, 0.7255,\n",
       "         0.9333, 0.0000, 0.7373, 0.8235, 0.8353, 0.2078, 0.0000, 0.0000, 0.0000,\n",
       "         0.0000, 0.0000, 0.0000, 0.0000, 0.0000, 0.0000, 0.0000, 0.2902, 0.8392,\n",
       "         0.8863, 0.3686, 0.1216, 0.9333, 0.7569, 0.7490, 0.7765, 0.7608, 0.7569,\n",
       "         0.7294, 0.9333, 0.0000, 0.6471, 0.8549, 0.8392, 0.2902, 0.0000, 0.0000,\n",
       "         0.0000, 0.0000, 0.0000, 0.0000, 0.0000, 0.0000, 0.0000, 0.0000, 0.3882,\n",
       "         0.8471, 0.9020, 0.2745, 0.1255, 0.9333, 0.7686, 0.7451, 0.8039, 0.7647,\n",
       "         0.7725, 0.7412, 0.9412, 0.0078, 0.4392, 0.8941, 0.8510, 0.3882, 0.0000,\n",
       "         0.0000, 0.0000, 0.0000, 0.0000, 0.0000, 0.0000, 0.0000, 0.0000, 0.0000,\n",
       "         0.4902, 0.8431, 0.9333, 0.2471, 0.1529, 0.9216, 0.7843, 0.7412, 0.8275,\n",
       "         0.7725, 0.7961, 0.7294, 0.9255, 0.1059, 0.2745, 0.9216, 0.8510, 0.4863,\n",
       "         0.0000, 0.0000, 0.0000, 0.0000, 0.0000, 0.0000, 0.0000, 0.0000, 0.0000,\n",
       "         0.0000, 0.5098, 0.8667, 0.9216, 0.0078, 0.2667, 0.9020, 0.7961, 0.7373,\n",
       "         0.8431, 0.7882, 0.8078, 0.7373, 0.9137, 0.2667, 0.0118, 0.9216, 0.8706,\n",
       "         0.5294, 0.0000, 0.0000, 0.0000, 0.0000, 0.0000, 0.0000, 0.0000, 0.0000,\n",
       "         0.0000, 0.0000, 0.5412, 0.8667, 0.9020, 0.0000, 0.3843, 0.8863, 0.8078,\n",
       "         0.7373, 0.8588, 0.7961, 0.8078, 0.7412, 0.9059, 0.3647, 0.0000, 0.9020,\n",
       "         0.8588, 0.5333, 0.0000, 0.0000, 0.0000, 0.0000, 0.0000, 0.0000, 0.0000,\n",
       "         0.0000, 0.0000, 0.0000, 0.8235, 0.8196, 0.9255, 0.0196, 0.4196, 0.8784,\n",
       "         0.8157, 0.7255, 0.8745, 0.8039, 0.8078, 0.7451, 0.8980, 0.3922, 0.0314,\n",
       "         0.9255, 0.8196, 0.8353, 0.0000, 0.0000, 0.0000, 0.0000, 0.0000, 0.0000,\n",
       "         0.0000, 0.0000, 0.0000, 0.0000, 0.9490, 0.7725, 1.0000, 0.2275, 0.4706,\n",
       "         0.8667, 0.8196, 0.7137, 0.8941, 0.8078, 0.8196, 0.7373, 0.8745, 0.4314,\n",
       "         0.2275, 1.0000, 0.7765, 0.9608, 0.0000, 0.0000, 0.0000, 0.0000, 0.0000,\n",
       "         0.0000, 0.0000, 0.0000, 0.0000, 0.1333, 0.9765, 0.7569, 1.0000, 0.3216,\n",
       "         0.4902, 0.8588, 0.8196, 0.7059, 0.9098, 0.8118, 0.8275, 0.7373, 0.8627,\n",
       "         0.4824, 0.3137, 1.0000, 0.7608, 0.9725, 0.1255, 0.0000, 0.0000, 0.0000,\n",
       "         0.0000, 0.0000, 0.0000, 0.0000, 0.0000, 0.3176, 0.9647, 0.7490, 0.9961,\n",
       "         0.3765, 0.5294, 0.8471, 0.8353, 0.7098, 0.9255, 0.8118, 0.8275, 0.7529,\n",
       "         0.8510, 0.5373, 0.3686, 0.9961, 0.7529, 0.9686, 0.3176, 0.0000, 0.0000,\n",
       "         0.0000, 0.0000, 0.0000, 0.0000, 0.0000, 0.0000, 0.3647, 0.8588, 0.7451,\n",
       "         0.8902, 0.4510, 0.5686, 0.8392, 0.8510, 0.6980, 0.9373, 0.8196, 0.8314,\n",
       "         0.7608, 0.8353, 0.5804, 0.4471, 0.8863, 0.7412, 0.8549, 0.3765, 0.0000,\n",
       "         0.0000, 0.0000, 0.0000, 0.0000, 0.0000, 0.0000, 0.0000, 0.6039, 0.8863,\n",
       "         0.7686, 0.8941, 0.6588, 0.6157, 0.8431, 0.8745, 0.7059, 0.9529, 0.8314,\n",
       "         0.8392, 0.7765, 0.8392, 0.6157, 0.6510, 0.8941, 0.7647, 0.8941, 0.6078,\n",
       "         0.0000, 0.0000, 0.0000, 0.0000, 0.0000, 0.0000, 0.0000, 0.0000, 0.4510,\n",
       "         0.8627, 0.8000, 0.8706, 0.6196, 0.6980, 0.8314, 0.8980, 0.7059, 0.9686,\n",
       "         0.8392, 0.8471, 0.7725, 0.8275, 0.7137, 0.6039, 0.8431, 0.7647, 0.8039,\n",
       "         0.4353, 0.0000, 0.0000, 0.0000, 0.0000, 0.0000, 0.0000, 0.0000, 0.0000,\n",
       "         0.0000, 0.0000, 0.0000, 0.0000, 0.0431, 0.8314, 0.8275, 0.9216, 0.7137,\n",
       "         0.9843, 0.8510, 0.8627, 0.7843, 0.8078, 0.8392, 0.0549, 0.0000, 0.0000,\n",
       "         0.0000, 0.0000, 0.0000, 0.0000, 0.0000, 0.0000, 0.0000, 0.0000, 0.0000,\n",
       "         0.0000, 0.0000, 0.0000, 0.0000, 0.0000, 0.2902, 0.7725, 0.8471, 0.8824,\n",
       "         0.7843, 0.9216, 0.8549, 0.8510, 0.7843, 0.8275, 0.7725, 0.3020, 0.0000,\n",
       "         0.0000, 0.0000, 0.0000, 0.0000, 0.0000, 0.0000, 0.0000, 0.0000, 0.0000,\n",
       "         0.0000, 0.0000, 0.0000, 0.0000, 0.0235, 0.0000, 0.4314, 0.7961, 0.9176,\n",
       "         0.9333, 0.8667, 0.9961, 0.9137, 0.9176, 0.8392, 0.8745, 0.7882, 0.4235,\n",
       "         0.0000, 0.0314, 0.0000, 0.0000, 0.0000, 0.0000, 0.0000, 0.0000, 0.0000,\n",
       "         0.0000, 0.0000, 0.0000, 0.0000, 0.0000, 0.0039, 0.0000, 0.0000, 0.0745,\n",
       "         0.1176, 0.2196, 0.5216, 0.2549, 0.1490, 0.1882, 0.2000, 0.0941, 0.0353,\n",
       "         0.0000, 0.0000, 0.0039, 0.0000, 0.0000, 0.0000, 0.0000, 0.0000, 0.0000,\n",
       "         0.0000, 0.0000, 0.0000, 0.0000, 0.0000, 0.0000, 0.0000, 0.0000, 0.0000,\n",
       "         0.0000, 0.0000, 0.0000, 0.0000, 0.0000, 0.0000, 0.0000, 0.0000, 0.0000,\n",
       "         0.0000, 0.0000, 0.0000, 0.0000, 0.0000, 0.0000, 0.0000, 0.0000, 0.0000,\n",
       "         0.0000]])"
      ]
     },
     "execution_count": 21,
     "metadata": {},
     "output_type": "execute_result"
    }
   ],
   "source": [
    "xflat"
   ]
  },
  {
   "cell_type": "code",
   "execution_count": 22,
   "id": "be6775d9",
   "metadata": {},
   "outputs": [],
   "source": [
    "class FashionMNISTModelV0(nn.Module):\n",
    "    def __init__(self,\n",
    "                 input_shape: int,\n",
    "                 hidden_units: int,\n",
    "                 output_shape: int):\n",
    "        super().__init__()\n",
    "        self.layer_stack = nn.Sequential(\n",
    "            nn.Flatten(), # Compress image into a singular vector\n",
    "            nn.Linear(in_features=input_shape,\n",
    "                      out_features=hidden_units),\n",
    "            nn.Linear(in_features=hidden_units, \n",
    "                      out_features=output_shape)\n",
    "        )\n",
    "\n",
    "    def forward(self, x):\n",
    "        return self.layer_stack(x)"
   ]
  },
  {
   "cell_type": "code",
   "execution_count": 23,
   "id": "d0c6fb10",
   "metadata": {},
   "outputs": [
    {
     "data": {
      "text/plain": [
       "tensor([[-0.0315,  0.3171,  0.0531, -0.2525,  0.5959,  0.2112,  0.3233,  0.2694,\n",
       "         -0.1004,  0.0157]])"
      ]
     },
     "execution_count": 23,
     "metadata": {},
     "output_type": "execute_result"
    }
   ],
   "source": [
    "torch.manual_seed(42)\n",
    "ModelV0 = FashionMNISTModelV0(input_shape=784, # Height*Width:28*28\n",
    "                              hidden_units=10,\n",
    "                              output_shape=len(class_names)\n",
    "                              ).to('cpu')\n",
    "\n",
    "\n",
    "dummy_x = torch.rand([1,1,28,28])\n",
    "ModelV0.eval()\n",
    "with torch.inference_mode():\n",
    "    dummy_pred = ModelV0(dummy_x)\n",
    "dummy_pred # 10 logits for 10 image classes, exactly the required output shape [1, 10]\n",
    "# Hence, we can't have output shape like [1, 1, 28, 10]\n"
   ]
  },
  {
   "cell_type": "code",
   "execution_count": 24,
   "id": "3350d6b9",
   "metadata": {},
   "outputs": [
    {
     "data": {
      "text/plain": [
       "torch.Size([1, 10])"
      ]
     },
     "execution_count": 24,
     "metadata": {},
     "output_type": "execute_result"
    }
   ],
   "source": [
    "dummy_pred.shape"
   ]
  },
  {
   "cell_type": "code",
   "execution_count": 25,
   "id": "07978ec5",
   "metadata": {},
   "outputs": [
    {
     "data": {
      "text/plain": [
       "OrderedDict([('layer_stack.1.weight',\n",
       "              tensor([[ 0.0273,  0.0296, -0.0084,  ..., -0.0142,  0.0093,  0.0135],\n",
       "                      [-0.0188, -0.0354,  0.0187,  ..., -0.0106, -0.0001,  0.0115],\n",
       "                      [-0.0008,  0.0017,  0.0045,  ..., -0.0127, -0.0188,  0.0059],\n",
       "                      ...,\n",
       "                      [-0.0116,  0.0273, -0.0344,  ...,  0.0176,  0.0283, -0.0011],\n",
       "                      [-0.0230,  0.0257,  0.0291,  ..., -0.0187, -0.0087,  0.0001],\n",
       "                      [ 0.0176, -0.0147,  0.0053,  ..., -0.0336, -0.0221,  0.0205]])),\n",
       "             ('layer_stack.1.bias',\n",
       "              tensor([-0.0093,  0.0283, -0.0033,  0.0255,  0.0017,  0.0037, -0.0302, -0.0123,\n",
       "                       0.0018,  0.0163])),\n",
       "             ('layer_stack.2.weight',\n",
       "              tensor([[ 0.0614, -0.0687,  0.0021,  0.2718,  0.2109,  0.1079, -0.2279, -0.1063,\n",
       "                        0.2019,  0.2847],\n",
       "                      [-0.1495,  0.1344, -0.0740,  0.2006, -0.0475, -0.2514, -0.3130, -0.0118,\n",
       "                        0.0932, -0.1864],\n",
       "                      [ 0.2488,  0.1500,  0.1907,  0.1457, -0.3050, -0.0580,  0.1643,  0.1565,\n",
       "                       -0.2877, -0.1792],\n",
       "                      [ 0.2305, -0.2618,  0.2397, -0.0610,  0.0232,  0.1542,  0.0851, -0.2027,\n",
       "                        0.1030, -0.2715],\n",
       "                      [-0.1596, -0.0555, -0.0633,  0.2302, -0.1726,  0.2654,  0.1473,  0.1029,\n",
       "                        0.2252, -0.2160],\n",
       "                      [-0.2725,  0.0118,  0.1559,  0.1596,  0.0132,  0.3024,  0.1124,  0.1366,\n",
       "                       -0.1533,  0.0965],\n",
       "                      [-0.1184, -0.2555, -0.2057, -0.1909, -0.0477, -0.1324,  0.2905,  0.1307,\n",
       "                       -0.2629,  0.0133],\n",
       "                      [ 0.2727, -0.0127,  0.0513,  0.0863, -0.1043, -0.2047, -0.1185, -0.0825,\n",
       "                        0.2488, -0.2571],\n",
       "                      [ 0.0425, -0.1209, -0.0336, -0.0281, -0.1227,  0.0730,  0.0747, -0.1816,\n",
       "                        0.1943,  0.2853],\n",
       "                      [-0.1310,  0.0645, -0.1171,  0.2168, -0.0245, -0.2820,  0.0736,  0.2621,\n",
       "                        0.0012, -0.0810]])),\n",
       "             ('layer_stack.2.bias',\n",
       "              tensor([-0.0087,  0.1791,  0.2712, -0.0791,  0.1685,  0.1762,  0.2825,  0.2266,\n",
       "                      -0.2612, -0.2613]))])"
      ]
     },
     "execution_count": 25,
     "metadata": {},
     "output_type": "execute_result"
    }
   ],
   "source": [
    "ModelV0.state_dict() # 2 layers of weight and bias"
   ]
  },
  {
   "cell_type": "code",
   "execution_count": 26,
   "id": "80f1459a",
   "metadata": {},
   "outputs": [
    {
     "name": "stdout",
     "output_type": "stream",
     "text": [
      "Already exists!\n"
     ]
    }
   ],
   "source": [
    "# Loss function and Optimizer - Cross Entropy and SGD, and evaluation metric is accuracy\n",
    "import requests\n",
    "from pathlib import Path\n",
    "\n",
    "if Path('helper_functions.py').is_file():\n",
    "    print('Already exists!')\n",
    "else:\n",
    "    print('Downloading!')\n",
    "    request = requests.get('https://raw.githubusercontent.com/mrdbourke/pytorch-deep-learning/refs/heads/main/helper_functions.py')\n",
    "    with open('helper_functions.py') as f:\n",
    "        f.write(request.content)"
   ]
  },
  {
   "cell_type": "code",
   "execution_count": 27,
   "id": "a15b1ee6",
   "metadata": {},
   "outputs": [],
   "source": [
    "from helper_functions import accuracy_fn\n",
    "\n",
    "loss_fnV0 = nn.CrossEntropyLoss()\n",
    "\n",
    "optimizerV0 = torch.optim.SGD(params=ModelV0.parameters(),\n",
    "                              lr=0.1)"
   ]
  },
  {
   "cell_type": "code",
   "execution_count": 28,
   "id": "4117b097",
   "metadata": {},
   "outputs": [],
   "source": [
    "# Create a function to time experiments\n",
    "from timeit import default_timer as timer\n",
    "\n",
    "def print_train_time(start: float,\n",
    "                     end: float,\n",
    "                     device: torch.device = None):\n",
    "    total_time = end - start\n",
    "    print(f'Train time on {device} is {total_time:.4f} seconds')\n",
    "    return total_time"
   ]
  },
  {
   "cell_type": "code",
   "execution_count": 29,
   "id": "1753d6ae",
   "metadata": {},
   "outputs": [
    {
     "name": "stdout",
     "output_type": "stream",
     "text": [
      "Train time on None is 1.0058 seconds\n"
     ]
    },
    {
     "data": {
      "text/plain": [
       "1.0057527000008122"
      ]
     },
     "execution_count": 29,
     "metadata": {},
     "output_type": "execute_result"
    }
   ],
   "source": [
    "I = []\n",
    "start_time = timer()\n",
    "for _ in range(10000000):\n",
    "    I.append(1000)\n",
    "end_time = timer()\n",
    "\n",
    "print_train_time(start=start_time,\n",
    "                 end=end_time)"
   ]
  },
  {
   "cell_type": "code",
   "execution_count": 30,
   "id": "de4761c5",
   "metadata": {},
   "outputs": [
    {
     "name": "stdout",
     "output_type": "stream",
     "text": [
      "--------------------------------------------------\n"
     ]
    }
   ],
   "source": [
    "print('-'*50)"
   ]
  },
  {
   "cell_type": "code",
   "execution_count": 31,
   "id": "1fc5cbb3",
   "metadata": {},
   "outputs": [
    {
     "data": {
      "text/plain": [
       "'cpu'"
      ]
     },
     "execution_count": 31,
     "metadata": {},
     "output_type": "execute_result"
    }
   ],
   "source": [
    "str(next(ModelV0.parameters()).device)"
   ]
  },
  {
   "cell_type": "code",
   "execution_count": 32,
   "id": "6a7f818a",
   "metadata": {},
   "outputs": [
    {
     "data": {
      "application/vnd.jupyter.widget-view+json": {
       "model_id": "9acd9ec619ca4736abad1da6573710c1",
       "version_major": 2,
       "version_minor": 0
      },
      "text/plain": [
       "  0%|          | 0/3 [00:00<?, ?it/s]"
      ]
     },
     "metadata": {},
     "output_type": "display_data"
    },
    {
     "name": "stdout",
     "output_type": "stream",
     "text": [
      "Epoch: 0\n",
      "--------------------------------------------------\n",
      "Looked at 0/60000 samples\n",
      "Looked at 10240/60000 samples\n",
      "Looked at 20480/60000 samples\n",
      "Looked at 30720/60000 samples\n",
      "Looked at 40960/60000 samples\n",
      "Looked at 51200/60000 samples\n",
      "Epoch: 1\n",
      "--------------------------------------------------\n",
      "Looked at 0/60000 samples\n",
      "Looked at 10240/60000 samples\n",
      "Looked at 20480/60000 samples\n",
      "Looked at 30720/60000 samples\n",
      "Looked at 40960/60000 samples\n",
      "Looked at 51200/60000 samples\n",
      "Epoch: 2\n",
      "--------------------------------------------------\n",
      "Looked at 0/60000 samples\n",
      "Looked at 10240/60000 samples\n",
      "Looked at 20480/60000 samples\n",
      "Looked at 30720/60000 samples\n",
      "Looked at 40960/60000 samples\n",
      "Looked at 51200/60000 samples\n",
      "\n",
      "Train Loss: 0.46 | Train Accuracy: 84.05% | Test Loss: 0.48 | Test Accuracy: 83.43%\n",
      "Train time on cpu is 16.7201 seconds\n"
     ]
    }
   ],
   "source": [
    "''' Create a training loop and training on batches of data\n",
    "Gradients update once per batch rather than once per epoch\n",
    "Training and test loss calculated per batch '''\n",
    "\n",
    "from tqdm.auto import tqdm # Progress Bar\n",
    "\n",
    "# Set manual seed and start the timer\n",
    "torch.manual_seed(42)\n",
    "train_time_oncpu_start = timer()\n",
    "\n",
    "# Set the no. of epochs\n",
    "epochs = 3\n",
    "\n",
    "# Create training and test loop\n",
    "for epoch in tqdm(range(epochs)): # Wrap epoch range with tqdm\n",
    "    print(f'Epoch: {epoch}\\n{'-'*50}')\n",
    "\n",
    "    # Training Phase - Loop through the training batches\n",
    "    train_loss = 0 # Initialize train loss to sum up later\n",
    "    train_acc = 0\n",
    "\n",
    "    for batch, (X, y) in enumerate(train_dataloader): # Batch enumerates batch number\n",
    "        # Batch 1, 2, 3, ... and (X, y) -> (image, label)\n",
    "\n",
    "        ModelV0.train()\n",
    "\n",
    "        # 1. Forward Pass\n",
    "        y_pred = ModelV0(X)\n",
    "\n",
    "        # 2. Calculate loss per batch\n",
    "        loss = loss_fnV0(y_pred, y)\n",
    "        acc = accuracy_fn(y, y_pred.argmax(dim=1))\n",
    "        train_loss += loss # Accumulate batch loss per epoch to average it out later\n",
    "        train_acc += acc\n",
    "\n",
    "        # 3. Optimizer zero grad\n",
    "        optimizerV0.zero_grad()\n",
    "\n",
    "        # 4. Backpropagation\n",
    "        loss.backward()\n",
    "\n",
    "        # 5. Optimizer Step\n",
    "        optimizerV0.step()\n",
    "\n",
    "        # Print out what is happening\n",
    "        if batch % 320 == 0:\n",
    "            print(f'Looked at {batch*len(X)}/{len(train_dataloader.dataset)} samples')\n",
    "\n",
    "    # Divide the train loss by length of train dataloader\n",
    "    train_loss /= len(train_dataloader) # Overall average train loss\n",
    "    train_acc /= len(train_dataloader)\n",
    "\n",
    "    # Testing Phase \n",
    "    test_loss, test_acc = 0, 0\n",
    "\n",
    "    ModelV0.eval()\n",
    "    with torch.inference_mode():\n",
    "        for X_test, y_test in test_dataloader:\n",
    "            # 1. Forward Pass\n",
    "            test_pred = ModelV0(X_test)\n",
    "\n",
    "            # 2. Calculate loss accumulatively\n",
    "            test_loss += loss_fnV0(test_pred, y_test)\n",
    "\n",
    "            # 3. Calculate accuracy\n",
    "            test_acc += accuracy_fn(y_test, test_pred.argmax(dim=1)) # To get labels\n",
    "\n",
    "        # Calculate the test loss average per batch\n",
    "        test_loss /= len(test_dataloader)\n",
    "\n",
    "        # Caculate the test accuracy average per batch\n",
    "        test_acc /= len(test_dataloader)\n",
    "\n",
    "# Print out status\n",
    "print(f'\\nTrain Loss: {train_loss:.2f} | Train Accuracy: {train_acc:.2f}% | Test Loss: {test_loss:.2f} | Test Accuracy: {test_acc:.2f}%')\n",
    "\n",
    "train_time_oncpu_end = timer()\n",
    "total_train_time_ModelV0 = print_train_time(start=train_time_oncpu_start,\n",
    "                                            end=train_time_oncpu_end,\n",
    "                                            device=str(next(ModelV0.parameters()).device))"
   ]
  },
  {
   "cell_type": "code",
   "execution_count": 33,
   "id": "8b7fb58a",
   "metadata": {},
   "outputs": [
    {
     "data": {
      "application/vnd.jupyter.widget-view+json": {
       "model_id": "9504e3b05cc84e28b82f004704d2cacc",
       "version_major": 2,
       "version_minor": 0
      },
      "text/plain": [
       "  0%|          | 0/313 [00:00<?, ?it/s]"
      ]
     },
     "metadata": {},
     "output_type": "display_data"
    },
    {
     "data": {
      "text/plain": [
       "{'Model Name': 'FashionMNISTModelV0',\n",
       " 'Model Loss': 0.47663894295692444,\n",
       " 'Model Accuracy': '83.43%'}"
      ]
     },
     "execution_count": 33,
     "metadata": {},
     "output_type": "execute_result"
    }
   ],
   "source": [
    "### Make predictions and get ModelV0 results\n",
    "torch.manual_seed(42)\n",
    "def eval_model(model: torch.nn.Module,\n",
    "               data_loader: torch.utils.data.DataLoader,\n",
    "               loss_fn: torch.nn.Module,\n",
    "               accuracy_fn,\n",
    "               device: torch.device = None):\n",
    "    '''\n",
    "    Returns a dict containing the results of model predicting on data loader\n",
    "    '''\n",
    "\n",
    "    loss, acc = 0, 0\n",
    "    model.eval()\n",
    "    with torch.inference_mode():\n",
    "        # Get X, y -> Image, Label from DataLoader\n",
    "        for X, y in tqdm(data_loader):\n",
    "            X, y = X.to(device), y.to(device)\n",
    "            y_pred = model(X)\n",
    "\n",
    "            # Accumulate loss and accuracy values per batch\n",
    "            loss += loss_fn(y_pred, y)\n",
    "            acc += accuracy_fn(y, y_pred.argmax(dim=1)) # Choose label with highest prob\n",
    "\n",
    "        # Scale loss and accuracy to find average loss, accuracy per batch\n",
    "        loss /= len(data_loader)\n",
    "        acc /= len(data_loader)\n",
    "\n",
    "    return {\"Model Name\": model.__class__.__name__, # When model is class instance\n",
    "        \"Model Loss\": loss.item(), # Gets 1 item \n",
    "        \"Model Accuracy\": f'{acc:.2f}%'}\n",
    "\n",
    "# Calculate ModelV0 results on test dataset\n",
    "ModelV0_results = eval_model(model=ModelV0,\n",
    "                             data_loader=test_dataloader,\n",
    "                             loss_fn=loss_fnV0,\n",
    "                             accuracy_fn=accuracy_fn,\n",
    "                             device = 'cpu')\n",
    "ModelV0_results"
   ]
  },
  {
   "cell_type": "code",
   "execution_count": 34,
   "id": "4199c661",
   "metadata": {},
   "outputs": [
    {
     "name": "stdout",
     "output_type": "stream",
     "text": [
      "Sun May 11 14:41:53 2025       \n",
      "+-----------------------------------------------------------------------------------------+\n",
      "| NVIDIA-SMI 576.28                 Driver Version: 576.28         CUDA Version: 12.9     |\n",
      "|-----------------------------------------+------------------------+----------------------+\n",
      "| GPU  Name                  Driver-Model | Bus-Id          Disp.A | Volatile Uncorr. ECC |\n",
      "| Fan  Temp   Perf          Pwr:Usage/Cap |           Memory-Usage | GPU-Util  Compute M. |\n",
      "|                                         |                        |               MIG M. |\n",
      "|=========================================+========================+======================|\n",
      "|   0  NVIDIA GeForce RTX 4060 ...  WDDM  |   00000000:01:00.0  On |                  N/A |\n",
      "| N/A   44C    P8              2W /  114W |    1283MiB /   8188MiB |      5%      Default |\n",
      "|                                         |                        |                  N/A |\n",
      "+-----------------------------------------+------------------------+----------------------+\n",
      "                                                                                         \n",
      "+-----------------------------------------------------------------------------------------+\n",
      "| Processes:                                                                              |\n",
      "|  GPU   GI   CI              PID   Type   Process name                        GPU Memory |\n",
      "|        ID   ID                                                               Usage      |\n",
      "|=========================================================================================|\n",
      "|    0   N/A  N/A            3628    C+G   ...ntrolPanel\\SystemSettings.exe      N/A      |\n",
      "|    0   N/A  N/A            5796    C+G   ...s\\Mozilla Firefox\\firefox.exe      N/A      |\n",
      "|    0   N/A  N/A            9808    C+G   C:\\Windows\\explorer.exe               N/A      |\n",
      "|    0   N/A  N/A           13504    C+G   ..._cw5n1h2txyewy\\SearchHost.exe      N/A      |\n",
      "|    0   N/A  N/A           13540    C+G   ...y\\StartMenuExperienceHost.exe      N/A      |\n",
      "|    0   N/A  N/A           14544    C+G   ...IA app\\CEF\\NVIDIA Overlay.exe      N/A      |\n",
      "|    0   N/A  N/A           14708    C+G   ...efSharp.BrowserSubprocess.exe      N/A      |\n",
      "|    0   N/A  N/A           15952    C+G   ...IA app\\CEF\\NVIDIA Overlay.exe      N/A      |\n",
      "|    0   N/A  N/A           15964    C+G   ...s\\Mozilla Firefox\\firefox.exe      N/A      |\n",
      "|    0   N/A  N/A           16520    C+G   ...4__cv1g1gvanyjgm\\WhatsApp.exe      N/A      |\n",
      "|    0   N/A  N/A           16564    C+G   ...5n1h2txyewy\\TextInputHost.exe      N/A      |\n",
      "|    0   N/A  N/A           18060    C+G   ...em32\\ApplicationFrameHost.exe      N/A      |\n",
      "|    0   N/A  N/A           19352    C+G   ...7efx6bt\\app\\PredatorSense.exe      N/A      |\n",
      "|    0   N/A  N/A           20456    C+G   ...dgb7efx6bt\\app\\QuickPanel.exe      N/A      |\n",
      "|    0   N/A  N/A           22180    C+G   ...ms\\Microsoft VS Code\\Code.exe      N/A      |\n",
      "|    0   N/A  N/A           22348    C+G   ...indows\\System32\\ShellHost.exe      N/A      |\n",
      "|    0   N/A  N/A           23060    C+G   ...xyewy\\ShellExperienceHost.exe      N/A      |\n",
      "|    0   N/A  N/A           23628    C+G   ...x64__dt26b99r8h8gj\\RtkUWP.exe      N/A      |\n",
      "|    0   N/A  N/A           24028    C+G   ...8aw4\\AcerPurifiedVoiceApp.exe      N/A      |\n",
      "+-----------------------------------------------------------------------------------------+\n"
     ]
    }
   ],
   "source": [
    "# Setup device agnostic code -> Shift to GPU\n",
    "!nvidia-smi"
   ]
  },
  {
   "cell_type": "code",
   "execution_count": 35,
   "id": "34767685",
   "metadata": {},
   "outputs": [
    {
     "data": {
      "text/plain": [
       "True"
      ]
     },
     "execution_count": 35,
     "metadata": {},
     "output_type": "execute_result"
    }
   ],
   "source": [
    "torch.cuda.is_available()"
   ]
  },
  {
   "cell_type": "code",
   "execution_count": 36,
   "id": "a2f329fe",
   "metadata": {},
   "outputs": [
    {
     "data": {
      "text/plain": [
       "'cuda'"
      ]
     },
     "execution_count": 36,
     "metadata": {},
     "output_type": "execute_result"
    }
   ],
   "source": [
    "device = 'cuda' if torch.cuda.is_available() else 'cpu'\n",
    "device"
   ]
  },
  {
   "cell_type": "code",
   "execution_count": 37,
   "id": "3463b799",
   "metadata": {},
   "outputs": [],
   "source": [
    "# Adding Non Linearity and running on GPU -> ModelV1\n",
    "class FashionMNISTModelV1(nn.Module):\n",
    "    def __init__(self,\n",
    "                 input_shape: int,\n",
    "                 hidden_units: int,\n",
    "                 output_shape: int):\n",
    "        super().__init__()\n",
    "\n",
    "        self.layer_stack = nn.Sequential(\n",
    "            nn.Flatten(),\n",
    "            nn.Linear(in_features=input_shape,\n",
    "                      out_features=hidden_units),\n",
    "            nn.ReLU(),\n",
    "            nn.Linear(in_features=hidden_units,\n",
    "                      out_features=output_shape),\n",
    "            nn.ReLU()\n",
    "        )\n",
    "    def forward(self, x: torch.Tensor):\n",
    "        return self.layer_stack(x)"
   ]
  },
  {
   "cell_type": "code",
   "execution_count": 38,
   "id": "478628d4",
   "metadata": {},
   "outputs": [
    {
     "data": {
      "text/plain": [
       "device(type='cuda', index=0)"
      ]
     },
     "execution_count": 38,
     "metadata": {},
     "output_type": "execute_result"
    }
   ],
   "source": [
    "# Create instance \n",
    "torch.manual_seed(42)\n",
    "ModelV1 = FashionMNISTModelV1(input_shape=784,\n",
    "                              hidden_units=10,\n",
    "                              output_shape=len(class_names)).to(device)\n",
    "\n",
    "next(ModelV1.parameters()).device\n",
    "# Is a generator object, so next(). Also, checks where model parameters are situated: CPU or GPU"
   ]
  },
  {
   "cell_type": "code",
   "execution_count": 39,
   "id": "344310d2",
   "metadata": {},
   "outputs": [],
   "source": [
    "# Loss function and Optimizer\n",
    "from helper_functions import accuracy_fn\n",
    "loss_fnV1 = nn.CrossEntropyLoss()\n",
    "\n",
    "optimizerV1 = torch.optim.SGD(params=ModelV1.parameters(),\n",
    "                              lr=0.1)"
   ]
  },
  {
   "cell_type": "code",
   "execution_count": 40,
   "id": "1a148531",
   "metadata": {},
   "outputs": [],
   "source": [
    "# Training Loop - Functionizing\n",
    "\n",
    "def train_step(model: torch.nn.Module,\n",
    "               data_loader: torch.utils.data.DataLoader,\n",
    "               loss_fn: torch.nn.Module,\n",
    "               accuracy_fn,\n",
    "               optimizer: torch.optim.Optimizer,\n",
    "               device: torch.device = None):\n",
    "    \n",
    "    train_loss, train_acc = 0, 0\n",
    "\n",
    "    model.train()\n",
    "\n",
    "    for batch, (X, y) in enumerate(data_loader):\n",
    "        X, y = X.to(device), y.to(device)\n",
    "\n",
    "        y_pred = model(X)\n",
    "\n",
    "        loss = loss_fn(y_pred, y)\n",
    "        train_loss += loss\n",
    "\n",
    "        acc = accuracy_fn(y, y_pred.argmax(dim=1))\n",
    "        train_acc += acc\n",
    "\n",
    "        optimizer.zero_grad()\n",
    "\n",
    "        loss.backward()\n",
    "\n",
    "        optimizer.step()\n",
    "\n",
    "    train_loss /= len(data_loader)\n",
    "    train_acc /= len(data_loader)\n",
    "\n",
    "    print(f'Train Loss: {train_loss:.5f} | Train Accuracy: {train_acc:.2f}%')\n"
   ]
  },
  {
   "cell_type": "code",
   "execution_count": 41,
   "id": "e7ae5a49",
   "metadata": {},
   "outputs": [],
   "source": [
    "def test_step(model: torch.nn.Module,\n",
    "              data_loader: torch.utils.data.DataLoader,\n",
    "              loss_fn: torch.nn.Module,\n",
    "              accuracy_fn,\n",
    "              device: torch.device = None):\n",
    "    \n",
    "    test_loss, test_acc = 0, 0\n",
    "\n",
    "    model.eval()\n",
    "    \n",
    "    with torch.inference_mode():\n",
    "        for X, y in data_loader:\n",
    "            X, y = X.to(device), y.to(device)\n",
    "\n",
    "            y_pred = model(X)\n",
    "\n",
    "            test_loss += loss_fn(y_pred, y)\n",
    "\n",
    "            test_acc += accuracy_fn(y, y_pred.argmax(dim=1))\n",
    "\n",
    "        test_loss /= len(data_loader)      \n",
    "        test_acc /= len(data_loader)      \n",
    "\n",
    "    print(f'Test Loss: {test_loss:.5f} | Test Accuracy: {test_acc:.2f}%')"
   ]
  },
  {
   "cell_type": "code",
   "execution_count": 42,
   "id": "a0930bf3",
   "metadata": {},
   "outputs": [
    {
     "data": {
      "application/vnd.jupyter.widget-view+json": {
       "model_id": "a6d1656917b04413a764300aab8b659d",
       "version_major": 2,
       "version_minor": 0
      },
      "text/plain": [
       "  0%|          | 0/3 [00:00<?, ?it/s]"
      ]
     },
     "metadata": {},
     "output_type": "display_data"
    },
    {
     "name": "stdout",
     "output_type": "stream",
     "text": [
      "Epoch: 0\n",
      "--------------------\n",
      "Train Loss: 1.09199 | Train Accuracy: 61.34%\n",
      "Test Loss: 0.95636 | Test Accuracy: 65.00%\n",
      "Epoch: 1\n",
      "--------------------\n",
      "Train Loss: 0.78101 | Train Accuracy: 71.93%\n",
      "Test Loss: 0.72227 | Test Accuracy: 73.91%\n",
      "Epoch: 2\n",
      "--------------------\n",
      "Train Loss: 0.67027 | Train Accuracy: 75.94%\n",
      "Test Loss: 0.68500 | Test Accuracy: 75.02%\n",
      "Train time on cuda is 26.2447 seconds\n"
     ]
    }
   ],
   "source": [
    "torch.manual_seed(42)\n",
    "\n",
    "from timeit import default_timer as timer\n",
    "train_time_ongpu_start = timer()\n",
    "\n",
    "epochs = 3\n",
    "\n",
    "for epoch in tqdm(range(epochs)):\n",
    "    print(f'Epoch: {epoch}\\n--------------------')\n",
    "\n",
    "    train_step(model=ModelV1,\n",
    "              data_loader=train_dataloader,\n",
    "              loss_fn=loss_fnV1,\n",
    "              optimizer=optimizerV1,\n",
    "              accuracy_fn=accuracy_fn,\n",
    "              device=device)\n",
    "    \n",
    "    test_step(model=ModelV1,\n",
    "              data_loader=test_dataloader,\n",
    "              loss_fn=loss_fnV1,\n",
    "              accuracy_fn=accuracy_fn,\n",
    "              device=device)\n",
    "    \n",
    "train_time_ongpu_end = timer()\n",
    "\n",
    "total_train_time_ModelV1 = print_train_time(start=train_time_ongpu_start, \n",
    "                                            end=train_time_ongpu_end, \n",
    "                                            device=device)"
   ]
  },
  {
   "cell_type": "code",
   "execution_count": 43,
   "id": "4aa2baf9",
   "metadata": {},
   "outputs": [
    {
     "data": {
      "text/plain": [
       "{'Model Name': 'FashionMNISTModelV0',\n",
       " 'Model Loss': 0.47663894295692444,\n",
       " 'Model Accuracy': '83.43%'}"
      ]
     },
     "execution_count": 43,
     "metadata": {},
     "output_type": "execute_result"
    }
   ],
   "source": [
    "ModelV0_results"
   ]
  },
  {
   "cell_type": "code",
   "execution_count": 44,
   "id": "118614af",
   "metadata": {},
   "outputs": [
    {
     "data": {
      "text/plain": [
       "16.720084000000497"
      ]
     },
     "execution_count": 44,
     "metadata": {},
     "output_type": "execute_result"
    }
   ],
   "source": [
    "total_train_time_ModelV0"
   ]
  },
  {
   "cell_type": "code",
   "execution_count": 45,
   "id": "af5686ff",
   "metadata": {},
   "outputs": [
    {
     "data": {
      "application/vnd.jupyter.widget-view+json": {
       "model_id": "c513cb25b32d41f392cff7336824e829",
       "version_major": 2,
       "version_minor": 0
      },
      "text/plain": [
       "  0%|          | 0/313 [00:00<?, ?it/s]"
      ]
     },
     "metadata": {},
     "output_type": "display_data"
    },
    {
     "data": {
      "text/plain": [
       "{'Model Name': 'FashionMNISTModelV1',\n",
       " 'Model Loss': 0.6850008964538574,\n",
       " 'Model Accuracy': '75.02%'}"
      ]
     },
     "execution_count": 45,
     "metadata": {},
     "output_type": "execute_result"
    }
   ],
   "source": [
    "ModelV1_results = eval_model(model=ModelV1,\n",
    "                             data_loader=test_dataloader,\n",
    "                             loss_fn=loss_fnV1,\n",
    "                             accuracy_fn=accuracy_fn,\n",
    "                             device=device)\n",
    "ModelV1_results"
   ]
  },
  {
   "cell_type": "code",
   "execution_count": 46,
   "id": "d0ae3994",
   "metadata": {},
   "outputs": [
    {
     "data": {
      "text/plain": [
       "26.244745499998317"
      ]
     },
     "execution_count": 46,
     "metadata": {},
     "output_type": "execute_result"
    }
   ],
   "source": [
    "total_train_time_ModelV1"
   ]
  },
  {
   "cell_type": "markdown",
   "id": "cd87e355",
   "metadata": {},
   "source": [
    "### **Note**: Training on CPU faster than training on GPU\n",
    "\n",
    "1. Overhead of copying data/model to and from the GPU outweighs the compute benefits offered by GPU"
   ]
  },
  {
   "cell_type": "markdown",
   "id": "dbc98a6c",
   "metadata": {},
   "source": [
    "### **Convolutional Neural Networks (CNNs)**"
   ]
  },
  {
   "cell_type": "code",
   "execution_count": 55,
   "id": "d958d7c2",
   "metadata": {},
   "outputs": [],
   "source": [
    "# Model 2: CNN -> ConvNets: Finds patterns in visual data\n",
    "# Simple CNN: \n",
    "# Inputs -> \n",
    "#   Processed Input (RGB Tensors) -> \n",
    "#       Conv Layer -> \n",
    "#           ReLU Layer -> \n",
    "#               Pooling Layer -> \n",
    "#                   Linear Output Layer (Labels)\n",
    "\n",
    "# Residual Connections: Non-consecutive layers communicate with each other\n",
    "# CNN Explainer Website\n",
    "\n",
    "class FashionMNISTModelV2(nn.Module):\n",
    "    '''\n",
    "    Model architecture that replicates the TinyVGG model from CNN explainer website\n",
    "    '''\n",
    "    def __init__(self,\n",
    "                 input_shape: int,\n",
    "                 hidden_units: int,\n",
    "                 output_shape: int):\n",
    "        super().__init__() # Block -> Layers, Model -> Blocks\n",
    "        self.conv_block_one = nn.Sequential(\n",
    "            nn.Conv2d(in_channels=input_shape, # 2D because we are working with images (ht*wd)\n",
    "                      out_channels=hidden_units,\n",
    "                      kernel_size=3, # Can also be set as a tuple (3,3)\n",
    "                      stride=1,\n",
    "                      padding=1),\n",
    "            nn.ReLU(),\n",
    "            nn.Conv2d(in_channels=hidden_units,\n",
    "                      out_channels=hidden_units,\n",
    "                      kernel_size=3,\n",
    "                      stride=1,\n",
    "                      padding=1),\n",
    "            nn.ReLU(),\n",
    "            nn.MaxPool2d(kernel_size=2)\n",
    "            # MaxPool takes maximum value from numbers presents in the filter/windows\n",
    "        )\n",
    "\n",
    "        self.conv_block_two = nn.Sequential(\n",
    "            nn.Conv2d(in_channels=hidden_units,\n",
    "                      out_channels=hidden_units,\n",
    "                      kernel_size=3,\n",
    "                      stride=1,\n",
    "                      padding=1),\n",
    "            nn.ReLU(),\n",
    "            nn.Conv2d(in_channels=hidden_units,\n",
    "                      out_channels=hidden_units,\n",
    "                      kernel_size=3,\n",
    "                      stride=1,\n",
    "                      padding=1),\n",
    "            nn.ReLU(),\n",
    "            nn.MaxPool2d(kernel_size=2)\n",
    "        )\n",
    "\n",
    "        # Output Layer also called Classifier\n",
    "        self.classifier = nn.Sequential(\n",
    "            nn.Flatten(), # Tensor per Pixel Transformation\n",
    "            nn.Linear(in_features=hidden_units*0, # Not sure right now!\n",
    "                      out_features=output_shape)\n",
    "        )\n",
    "\n",
    "    def forward(self, x):\n",
    "        print(f'Before Conv: {x.shape}')\n",
    "        x = self.conv_block_one(x)\n",
    "        print(f'After passing through first Conv: {x.shape}')\n",
    "        x = self.conv_block_two(x)\n",
    "        print(f'After passing through second Conv: {x.shape}')\n",
    "        x = self.classifier(x)\n",
    "        print(f'After Classifier: {x.shape}')\n",
    "\n",
    "        return x"
   ]
  },
  {
   "cell_type": "code",
   "execution_count": 53,
   "id": "06a2252f",
   "metadata": {},
   "outputs": [
    {
     "data": {
      "text/plain": [
       "torch.Size([1, 28, 28])"
      ]
     },
     "execution_count": 53,
     "metadata": {},
     "output_type": "execute_result"
    }
   ],
   "source": [
    "image.shape"
   ]
  },
  {
   "cell_type": "code",
   "execution_count": 58,
   "id": "6b73ad00",
   "metadata": {},
   "outputs": [],
   "source": [
    "torch.manual_seed(42)\n",
    "ModelV2 = FashionMNISTModelV2(input_shape=1, # 1 Color Channel\n",
    "                              hidden_units=10,\n",
    "                              output_shape=len(class_names)).to(device)"
   ]
  },
  {
   "cell_type": "code",
   "execution_count": 59,
   "id": "938b7c70",
   "metadata": {},
   "outputs": [
    {
     "data": {
      "text/plain": [
       "<torch._C.Generator at 0x1c28608a4d0>"
      ]
     },
     "execution_count": 59,
     "metadata": {},
     "output_type": "execute_result"
    }
   ],
   "source": [
    "# Stepping through `nn.Conv2d()`\n",
    "torch.manual_seed(42)"
   ]
  }
 ],
 "metadata": {
  "kernelspec": {
   "display_name": "base",
   "language": "python",
   "name": "python3"
  },
  "language_info": {
   "codemirror_mode": {
    "name": "ipython",
    "version": 3
   },
   "file_extension": ".py",
   "mimetype": "text/x-python",
   "name": "python",
   "nbconvert_exporter": "python",
   "pygments_lexer": "ipython3",
   "version": "3.12.3"
  }
 },
 "nbformat": 4,
 "nbformat_minor": 5
}
