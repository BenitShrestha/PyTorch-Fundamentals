{
 "cells": [
  {
   "cell_type": "markdown",
   "id": "b2c608af",
   "metadata": {},
   "source": [
    "## **PyTorch Workflow**\n",
    "### Explore an example PyTorch end-to-end workflow\n"
   ]
  },
  {
   "cell_type": "code",
   "execution_count": 1,
   "id": "c976351e",
   "metadata": {},
   "outputs": [
    {
     "data": {
      "text/plain": [
       "{1: 'data (prepare and load)',\n",
       " 2: 'build a model or use pretrained one',\n",
       " 3: 'fitting the model to data (training)',\n",
       " 4: 'making predictions and evaluating the model (inference)',\n",
       " 5: 'saving and loading the model',\n",
       " 6: 'putting it all together'}"
      ]
     },
     "execution_count": 1,
     "metadata": {},
     "output_type": "execute_result"
    }
   ],
   "source": [
    "things_to_cover = {\n",
    "    1: 'data (prepare and load)',\n",
    "    2: 'build a model or use pretrained one',\n",
    "    3: 'fitting the model to data (training)',\n",
    "    4: 'making predictions and evaluating the model (inference)',\n",
    "    5: 'saving and loading the model',\n",
    "    6: 'putting it all together'\n",
    "}\n",
    "\n",
    "things_to_cover"
   ]
  },
  {
   "cell_type": "code",
   "execution_count": 2,
   "id": "5f3d57b4",
   "metadata": {},
   "outputs": [
    {
     "data": {
      "text/plain": [
       "'2.4.1'"
      ]
     },
     "execution_count": 2,
     "metadata": {},
     "output_type": "execute_result"
    }
   ],
   "source": [
    "import torch\n",
    "from torch import nn # Neural Networks also called Graphs\n",
    "import matplotlib.pyplot as plt\n",
    "\n",
    "torch.__version__"
   ]
  },
  {
   "cell_type": "markdown",
   "id": "51835e20",
   "metadata": {},
   "source": [
    "## 1. Data (Preparing and Loading)\n",
    "\n",
    "- Excel Spreadsheet\n",
    "- Images, Videos\n",
    "- Audio, Text etc\n",
    "\n",
    "Change data in numerical representation and build a model to learn the patterns in the data."
   ]
  },
  {
   "cell_type": "markdown",
   "id": "28d8ecf6",
   "metadata": {},
   "source": [
    "### 1.1. Create data using Linear Regression: **Y = a + bX**\n",
    "- `Y` is dependent variable\n",
    "- `a` is intercept \n",
    "- `b` is slope\n",
    "- `X` is explanatory variable\n",
    "\n",
    "**Parameter** - Something a model learns"
   ]
  },
  {
   "cell_type": "code",
   "execution_count": 3,
   "id": "0d53fbf7",
   "metadata": {},
   "outputs": [
    {
     "data": {
      "text/plain": [
       "(tensor([[0.0000],\n",
       "         [0.0200],\n",
       "         [0.0400],\n",
       "         [0.0600],\n",
       "         [0.0800],\n",
       "         [0.1000],\n",
       "         [0.1200],\n",
       "         [0.1400],\n",
       "         [0.1600],\n",
       "         [0.1800]]),\n",
       " tensor([[0.3000],\n",
       "         [0.3140],\n",
       "         [0.3280],\n",
       "         [0.3420],\n",
       "         [0.3560],\n",
       "         [0.3700],\n",
       "         [0.3840],\n",
       "         [0.3980],\n",
       "         [0.4120],\n",
       "         [0.4260]]),\n",
       " 50,\n",
       " 50)"
      ]
     },
     "execution_count": 3,
     "metadata": {},
     "output_type": "execute_result"
    }
   ],
   "source": [
    "# Create Known Parameters\n",
    "weight = 0.7\n",
    "bias = 0.3\n",
    "\n",
    "# Create \n",
    "start = 0\n",
    "end = 1\n",
    "step = 0.02\n",
    "\n",
    "X = torch.arange(start, end, step).unsqueeze(dim=1) \n",
    "# unsqueeze(dim=1) - Each value will be in a separate square bracket \n",
    "y = weight * X + bias\n",
    "\n",
    "X[:10], y[:10], len(X), len(y)"
   ]
  },
  {
   "cell_type": "markdown",
   "id": "cad8dc81",
   "metadata": {},
   "source": [
    "### 1.2. Splitting data into **training** and **test** sets"
   ]
  },
  {
   "cell_type": "markdown",
   "id": "e6072376",
   "metadata": {},
   "source": [
    "- *Course Material* - **Training Set**, Learns patterns\n",
    "- *Practice Exam* - **Validation Set**, Tunes patterns based on errors\n",
    "- *Final Exam* - **Test Set**, Tries to **Generalize** i.e Perform well on unseen data"
   ]
  },
  {
   "cell_type": "code",
   "execution_count": 4,
   "id": "8a4782f1",
   "metadata": {},
   "outputs": [
    {
     "data": {
      "text/plain": [
       "40"
      ]
     },
     "execution_count": 4,
     "metadata": {},
     "output_type": "execute_result"
    }
   ],
   "source": [
    "# 80-20 Split\n",
    "train_split = int(0.8 * len(X))\n",
    "train_split"
   ]
  },
  {
   "cell_type": "code",
   "execution_count": 5,
   "id": "95835293",
   "metadata": {},
   "outputs": [
    {
     "data": {
      "text/plain": [
       "(40, 40, 10, 10)"
      ]
     },
     "execution_count": 5,
     "metadata": {},
     "output_type": "execute_result"
    }
   ],
   "source": [
    "X_train, y_train = X[:train_split], y[:train_split]\n",
    "X_test, y_test = X[train_split:], y[train_split:]\n",
    "\n",
    "# Can use Scikit Learn train test split\n",
    "len(X_train), len(y_train), len(X_test), len(y_test)"
   ]
  },
  {
   "cell_type": "markdown",
   "id": "b053ddd7",
   "metadata": {},
   "source": [
    "### **1.3. Visualize** our Data"
   ]
  },
  {
   "cell_type": "code",
   "execution_count": 6,
   "id": "6694a4ab",
   "metadata": {},
   "outputs": [],
   "source": [
    "def plot_predictions(\n",
    "    train_data=X_train,\n",
    "    train_labels=y_train,\n",
    "    test_data=X_test,\n",
    "    test_labels=y_test,\n",
    "    predictions=None):\n",
    "    \"\"\"\n",
    "    Plots training data, test data and compare predictions\n",
    "    \"\"\"\n",
    "\n",
    "    plt.figure(figsize=(10, 7))\n",
    "\n",
    "    # Plot training data in blue\n",
    "    plt.scatter(train_data, train_labels, c='b', s=4, label='Training Data')\n",
    "\n",
    "    # Plot test data in green\n",
    "    plt.scatter(test_data, test_labels, c='g', s=4, label='Testing Data')\n",
    "\n",
    "    # Are there any predictions?\n",
    "    if predictions is not None:\n",
    "    # Plot predictions\n",
    "        plt.scatter(test_data, predictions, c='r', s=4, label=\"Predictions\")\n",
    "\n",
    "    # Show Legends\n",
    "    plt.legend(prop={'size':14});\n"
   ]
  },
  {
   "cell_type": "code",
   "execution_count": 7,
   "id": "5f2449f4",
   "metadata": {},
   "outputs": [
    {
     "data": {
      "image/png": "[encoded data removed]",
      "text/plain": [
       "<Figure size 1000x700 with 1 Axes>"
      ]
     },
     "metadata": {},
     "output_type": "display_data"
    }
   ],
   "source": [
    "plot_predictions(); # New way to call functions, Ideal plot"
   ]
  },
  {
   "cell_type": "markdown",
   "id": "b6531dc0",
   "metadata": {},
   "source": [
    "### 2. Building a **Model** to fit the data above\n",
    "\n",
    "**What our model does:**\n",
    "- Start with random values (Weights and Bias)\n",
    "- Look at training data and adjust the random values to better represent (or get closer to) the ideal values (the weights & bias values we used to create the data) \n",
    "\n",
    "**How does it do so?**\n",
    "\n",
    "Through 2 main algorithms:\n",
    "1. Gradient Descent\n",
    "2. Backpropagation"
   ]
  },
  {
   "cell_type": "code",
   "execution_count": 8,
   "id": "6bfb00b5",
   "metadata": {},
   "outputs": [],
   "source": [
    "# First PyTorch Model\n",
    "\n",
    "# Create Linear Regression Model Class\n",
    "class LinearRegression(nn.Module): # Inhertits from nn.Module, almost everything in PyTorch inherits from that class\n",
    "    def __init__(self):\n",
    "        super().__init__()\n",
    "        self.weights = nn.Parameter(torch.randn(1, \n",
    "                                    requires_grad=True, # <- Parameter is updated by Gradient Descent\n",
    "                                    dtype=torch.float32))\n",
    "\n",
    "        self.bias = nn.Parameter(torch.randn(1,\n",
    "                                requires_grad=True,\n",
    "                                dtype=torch.float32))\n",
    "\n",
    "    # Forward Method to define the computation in the model\n",
    "    '''\n",
    "    `x: torch.Tensor` means `x` is expected to be of that type\n",
    "    `-> torch.Tensor` denotes the return type\n",
    "    '''\n",
    "    def forward(self, x: torch.Tensor) -> torch.Tensor: # `x` is input data\n",
    "        return self.weights * x + self.bias # Linear Regression Expression\n",
    "\n"
   ]
  },
  {
   "cell_type": "markdown",
   "id": "cba85ef7",
   "metadata": {},
   "source": [
    "### **Explaining the syntax of the code above**\n",
    "\n",
    "1. `torch.randn()` vs `torch.rand()`\n",
    "- Distribution is Normal/Gaussian `|` Distribution is Uniform\n",
    "- Range [-♾️, +♾️] - but values cluster around 0 `|` Range [0, 1]\n",
    "- Generates numbers centered around 0 with bell-shaped variability for initializing NN weights `|` Generates random numbers evenly spread in fixed range\n",
    "\n",
    "2. `torch.randn(1, requires_grad=True, dtype=torch.float32)`\n",
    "- `1` represents shape, Creates a tensor of shape `(1,)`\n",
    "\n",
    "3. `forward()` is the computation performed at every call. Every Model Class requires a `forward()` function"
   ]
  },
  {
   "cell_type": "markdown",
   "id": "12165a76",
   "metadata": {},
   "source": [
    "### **2.1. PyTorch Model Building Essentials**\n",
    "- **`torch.nn`** - Contains all the building blocks for computational graphs (a Neural Network)\n",
    "\n",
    "- **`torch.nn.Parameter`** - What parameters should our model try and learn, often a PyTorch layer from torch.nn will set these for us\n",
    "\n",
    "- **`torch.nn.Module`** - The base class for all neural network modules, if you subclass it, you should overwrite `forward()`\n",
    "\n",
    "- **`torch.optim`** - This is where the optimizers in PyTorch are, they will help with Gradient Descent\n",
    "\n",
    "- **`torch.utils.data.Dataset`**\n",
    "\n",
    "- **`torch.utils.data.DataLoader`**\n",
    "\n",
    "- **`torchvision.transforms`**\n",
    "\n",
    "- **`torchvision.models`**\n",
    "\n",
    "- **`torchmetrics`**\n",
    "\n",
    "- **`torch.utils.tensorboard`**\n",
    "\n",
    "**PyTorch Cheat Sheet from Official Documentation**"
   ]
  },
  {
   "cell_type": "markdown",
   "id": "4435e2b4",
   "metadata": {},
   "source": [
    "### Checking the content of the PyTorch Model\n",
    "\n",
    "To check the model parameters or what's inside the model, we use `.parameters()`"
   ]
  },
  {
   "cell_type": "code",
   "execution_count": 9,
   "id": "0585e943",
   "metadata": {},
   "outputs": [
    {
     "data": {
      "text/plain": [
       "tensor([0.8651])"
      ]
     },
     "execution_count": 9,
     "metadata": {},
     "output_type": "execute_result"
    }
   ],
   "source": [
    "torch.manual_seed(32)\n",
    "torch.randn(1)"
   ]
  },
  {
   "cell_type": "code",
   "execution_count": 10,
   "id": "80ac022e",
   "metadata": {},
   "outputs": [
    {
     "data": {
      "text/plain": [
       "[Parameter containing:\n",
       " tensor([0.3367], requires_grad=True),\n",
       " Parameter containing:\n",
       " tensor([0.1288], requires_grad=True)]"
      ]
     },
     "execution_count": 10,
     "metadata": {},
     "output_type": "execute_result"
    }
   ],
   "source": [
    "# Create a random seed\n",
    "torch.manual_seed(42)\n",
    "\n",
    "# Create instance of the model - Subclass of nn.Module\n",
    "model_zero = LinearRegression()\n",
    "\n",
    "# Check the parameters\n",
    "model_zero.parameters() # A generator object\n",
    "\n",
    "# Convert to a List\n",
    "list(model_zero.parameters())"
   ]
  },
  {
   "cell_type": "code",
   "execution_count": 11,
   "id": "9f5899bf",
   "metadata": {},
   "outputs": [
    {
     "data": {
      "text/plain": [
       "OrderedDict([('weights', tensor([0.3367])), ('bias', tensor([0.1288]))])"
      ]
     },
     "execution_count": 11,
     "metadata": {},
     "output_type": "execute_result"
    }
   ],
   "source": [
    "# List named parameters\n",
    "model_zero.state_dict() # Lists name and values in key-value pairs"
   ]
  },
  {
   "cell_type": "code",
   "execution_count": 12,
   "id": "eb7cd831",
   "metadata": {},
   "outputs": [
    {
     "name": "stdout",
     "output_type": "stream",
     "text": [
      "Fixed Values: \n",
      "Weights: 0.7\n",
      "Bias: 0.3\n"
     ]
    }
   ],
   "source": [
    "print(f'Fixed Values: \\nWeights: {weight}\\nBias: {bias}')"
   ]
  },
  {
   "cell_type": "code",
   "execution_count": 13,
   "id": "5bde977b",
   "metadata": {},
   "outputs": [
    {
     "name": "stdout",
     "output_type": "stream",
     "text": [
      "Initial Model Values: \n",
      "Weights: 0.33669036626815796\n",
      "Bias: 0.12880940735340118\n"
     ]
    }
   ],
   "source": [
    "print(f'Initial Model Values: \\nWeights: {list(model_zero.parameters())[0][0]}\\nBias: {list(model_zero.parameters())[1][0]}')"
   ]
  },
  {
   "cell_type": "markdown",
   "id": "66c3d6d0",
   "metadata": {},
   "source": [
    "🔼 **Goal is to update the model parameters to be similar in range to the original parameter values/fixed values**\n",
    "\n",
    "- We start with random values when the model is initialized, then through optimization and computations, the parameters are tweaked"
   ]
  },
  {
   "cell_type": "markdown",
   "id": "2f615ba1",
   "metadata": {},
   "source": [
    "### Making predicitions using `torch.inference_mode()`\n",
    "\n",
    "To check model's predictive power, let's see how well it predicts `y_test` based on `X_test`\n",
    "\n",
    "When we pass data through the Model, it's going to run it through the `forward()` method"
   ]
  },
  {
   "cell_type": "code",
   "execution_count": 14,
   "id": "29d766bd",
   "metadata": {},
   "outputs": [
    {
     "name": "stdout",
     "output_type": "stream",
     "text": [
      "Actual Values: tensor([[0.8600],\n",
      "        [0.8740],\n",
      "        [0.8880],\n",
      "        [0.9020],\n",
      "        [0.9160],\n",
      "        [0.9300],\n",
      "        [0.9440],\n",
      "        [0.9580],\n",
      "        [0.9720],\n",
      "        [0.9860]])\n",
      "Model Predictions (Context Manager): tensor([[0.3982],\n",
      "        [0.4049],\n",
      "        [0.4116],\n",
      "        [0.4184],\n",
      "        [0.4251],\n",
      "        [0.4318],\n",
      "        [0.4386],\n",
      "        [0.4453],\n",
      "        [0.4520],\n",
      "        [0.4588]])\n"
     ]
    }
   ],
   "source": [
    "cnt_mngr = True\n",
    "print(f'Actual Values: {y_test}')\n",
    "\n",
    "if cnt_mngr:\n",
    "    with torch.inference_mode(): \n",
    "    # ⬇️ Same thing as above, but `inference_mode()` is preferred\n",
    "    # with torch.no_grad(): \n",
    "        '''\n",
    "        Context Manager, disables Gradient Tracking \n",
    "        Doesn't keep track of a lot of numbers\n",
    "        Mostly useful for making faster predictions on larger datasets\n",
    "        '''        \n",
    "        y_pred = model_zero(X_test)\n",
    "\n",
    "    print(f'Model Predictions (Context Manager): {y_pred}')\n",
    "\n",
    "else:\n",
    "    y_pred = model_zero(X_test) # Shows `grad_fn`, applies Gradient Tracking\n",
    "    print(f'Model Predictions (No Context Manager): {y_pred}')\n",
    "\n"
   ]
  },
  {
   "cell_type": "code",
   "execution_count": 15,
   "id": "ea3c3057",
   "metadata": {},
   "outputs": [
    {
     "data": {
      "image/png": "[encoded data removed]",
      "text/plain": [
       "<Figure size 1000x700 with 1 Axes>"
      ]
     },
     "metadata": {},
     "output_type": "display_data"
    }
   ],
   "source": [
    "plot_predictions(predictions=y_pred) # Set `cnt_mngr` to True"
   ]
  },
  {
   "cell_type": "markdown",
   "id": "c300b4b0",
   "metadata": {},
   "source": [
    "### **3. Train Model**\n",
    "\n",
    "The whole idea of training is for a model to move from a some *unknown* parameters (may be random) to some *known* parameters \n",
    "\n",
    "From a poor representation of the data to a better representation\n",
    "\n",
    "One way to measure how poor or how wrong your model predicts is by using a **loss function / criterion / cost function**\n",
    "\n",
    "**Prerequisites for Training:**\n",
    "- **Loss Function**: Measure how wrong the model's predictions are from the ideal outputs, lower is better\n",
    "\n",
    "- **Optimizer**: Takes into account the loss and adjusts the model parameters (weights, bias)\n",
    "\n",
    "For PyTorch, we require:\n",
    "- Training Loop \n",
    "\n",
    "- Testing Loop\n"
   ]
  },
  {
   "cell_type": "code",
   "execution_count": 16,
   "id": "9b1b5cfe",
   "metadata": {},
   "outputs": [
    {
     "data": {
      "text/plain": [
       "OrderedDict([('weights', tensor([0.3367])), ('bias', tensor([0.1288]))])"
      ]
     },
     "execution_count": 16,
     "metadata": {},
     "output_type": "execute_result"
    }
   ],
   "source": [
    "model_zero.state_dict()\n",
    "# 2 Parameters only"
   ]
  },
  {
   "cell_type": "markdown",
   "id": "125f8c38",
   "metadata": {},
   "source": [
    "### **Loss Functions**\n",
    "\n",
    "`nn.L1Loss` - Mean Absolute Error (MAE)\n",
    "- Mean of absolute distance between predicted values and ideal values, refer to plot above"
   ]
  },
  {
   "cell_type": "markdown",
   "id": "e0fa924b",
   "metadata": {},
   "source": [
    "### **Optimizers**\n",
    "\n",
    "`torch.optim`\n",
    "\n",
    "**Algorithms**\n",
    "1. `Adam`\n",
    "2. `SGD` - Stochastic Gradient Descent (Randomly adjusts values)\n",
    "    * If loss function increases when going in one direction, it shifts to other direction to minimize the loss\n"
   ]
  },
  {
   "cell_type": "markdown",
   "id": "fe468455",
   "metadata": {},
   "source": [
    "**For Regression Problems**:\n",
    "- `nn.L1Loss()` & `torch.optim.SGD()`\n",
    "\n",
    "**For Classification Problems:**\n",
    "- `nn.BCELoss()` -> Binary Cross Entropy"
   ]
  },
  {
   "cell_type": "code",
   "execution_count": 17,
   "id": "5e46dd92",
   "metadata": {},
   "outputs": [
    {
     "data": {
      "text/plain": [
       "'\\n`lr` by how much the parameters are changed for every step of optimization\\nLarger `lr` means bigger changes per hit, same for smaller `lr`\\n'"
      ]
     },
     "execution_count": 17,
     "metadata": {},
     "output_type": "execute_result"
    }
   ],
   "source": [
    "# Setting a loss function\n",
    "loss_fn = nn.L1Loss()\n",
    "\n",
    "# Setting an optimizer\n",
    "optimizer = torch.optim.SGD(params=model_zero.parameters(),\n",
    "                            lr=0.01) \n",
    "''' \n",
    "lr - Learning Rate, Hyperparameter (Can be set by user) \n",
    "'''\n",
    "\n",
    "'''\n",
    "`lr` by how much the parameters are changed for every step of optimization\n",
    "Larger `lr` means bigger changes per hit, same for smaller `lr`\n",
    "'''"
   ]
  },
  {
   "cell_type": "code",
   "execution_count": 18,
   "id": "b847c790",
   "metadata": {},
   "outputs": [
    {
     "data": {
      "text/plain": [
       "(tensor(0.4945),\n",
       " OrderedDict([('weights', tensor([0.3367])), ('bias', tensor([0.1288]))]))"
      ]
     },
     "execution_count": 18,
     "metadata": {},
     "output_type": "execute_result"
    }
   ],
   "source": [
    "loss_fn(y_test, y_pred), model_zero.state_dict()"
   ]
  },
  {
   "cell_type": "markdown",
   "id": "deb28b4e",
   "metadata": {},
   "source": [
    "### **Building a training loop & testing loop in PyTorch**\n",
    "\n",
    "*Requirements in a traing loop:*\n",
    "\n",
    "0. Loop through the data\n",
    "\n",
    "1. Forward Pass (This involves data moving through our `forward()` function, through the NN. Also called **Forward Propagation**)\n",
    "\n",
    "2. Calculate the loss (Compare forward pass prediction to ground truth labels)\n",
    "\n",
    "3. Optimizer Zero Grad\n",
    "\n",
    "4. **Loss Backward** - Move Backwards through the network to calculate the gradients of each of the parameters of the model with respect to the loss (**Backpropagation**)\n",
    "\n",
    "5. Optimizer Step - Uses optimizer to adjust model parameter to try and decrease the loss (**Gradient Descent**)\n",
    "\n",
    "#### **Learning Rate Scheduling**\n",
    "- Smaller as we converge to a minimum point"
   ]
  },
  {
   "cell_type": "code",
   "execution_count": 19,
   "id": "aeff0871",
   "metadata": {},
   "outputs": [
    {
     "data": {
      "image/png": "[encoded data removed]",
      "text/plain": [
       "<Figure size 1000x700 with 1 Axes>"
      ]
     },
     "metadata": {},
     "output_type": "display_data"
    }
   ],
   "source": [
    "# Initial Plot\n",
    "plot_predictions(predictions=y_pred)"
   ]
  },
  {
   "cell_type": "code",
   "execution_count": 20,
   "id": "5e5b8956",
   "metadata": {},
   "outputs": [
    {
     "name": "stdout",
     "output_type": "stream",
     "text": [
      "Loss: 0.31288138031959534\n",
      "Epoch: 0 | Loss: 0.31288138031959534 | Test loss: 0.48106518387794495\n",
      "Loss: 0.3013603389263153\n",
      "Loss: 0.28983935713768005\n",
      "Loss: 0.2783183455467224\n",
      "Loss: 0.26679736375808716\n",
      "Loss: 0.2552763521671295\n",
      "Loss: 0.24375534057617188\n",
      "Loss: 0.23223432898521423\n",
      "Loss: 0.22071333229541779\n",
      "Loss: 0.20919232070446014\n",
      "Loss: 0.1976713240146637\n",
      "Epoch: 10 | Loss: 0.1976713240146637 | Test loss: 0.3463551998138428\n",
      "Loss: 0.18615034222602844\n",
      "Loss: 0.1746293306350708\n",
      "Loss: 0.16310831904411316\n",
      "Loss: 0.1515873372554779\n",
      "Loss: 0.14006635546684265\n",
      "Loss: 0.1285453587770462\n",
      "Loss: 0.11702437698841095\n",
      "Loss: 0.1060912236571312\n",
      "Loss: 0.09681284427642822\n",
      "Loss: 0.08908725529909134\n",
      "Epoch: 20 | Loss: 0.08908725529909134 | Test loss: 0.21729660034179688\n",
      "Loss: 0.08227583020925522\n",
      "Loss: 0.07638873159885406\n",
      "Loss: 0.07160007208585739\n",
      "Loss: 0.06747635453939438\n",
      "Loss: 0.06395438313484192\n",
      "Loss: 0.06097004935145378\n",
      "Loss: 0.05845819041132927\n",
      "Loss: 0.05635259300470352\n",
      "Loss: 0.0545857772231102\n",
      "Loss: 0.053148526698350906\n",
      "Epoch: 30 | Loss: 0.053148526698350906 | Test loss: 0.14464017748832703\n",
      "Loss: 0.05181945487856865\n",
      "Loss: 0.05069301277399063\n",
      "Loss: 0.0498228520154953\n",
      "Loss: 0.04895269125699997\n",
      "Loss: 0.04819351062178612\n",
      "Loss: 0.047531817108392715\n",
      "Loss: 0.04692792519927025\n",
      "Loss: 0.04642331600189209\n",
      "Loss: 0.04591871052980423\n",
      "Loss: 0.04543796554207802\n",
      "Epoch: 40 | Loss: 0.04543796554207802 | Test loss: 0.11360953003168106\n",
      "Loss: 0.04503796249628067\n",
      "Loss: 0.04463795945048332\n",
      "Loss: 0.04423796385526657\n",
      "Loss: 0.04383796453475952\n",
      "Loss: 0.04343796148896217\n",
      "Loss: 0.043074630200862885\n",
      "Loss: 0.04272563382983208\n",
      "Loss: 0.04237663000822067\n",
      "Loss: 0.04202762991189957\n",
      "Loss: 0.04167863354086876\n",
      "Epoch: 50 | Loss: 0.04167863354086876 | Test loss: 0.09919948130846024\n",
      "Loss: 0.04132963344454765\n",
      "Loss: 0.04098063334822655\n",
      "Loss: 0.04063162952661514\n",
      "Loss: 0.040282636880874634\n",
      "Loss: 0.039933640509843826\n",
      "Loss: 0.03958464413881302\n",
      "Loss: 0.03923564404249191\n",
      "Loss: 0.03888664394617081\n",
      "Loss: 0.0385376438498497\n",
      "Loss: 0.03818932920694351\n",
      "Epoch: 60 | Loss: 0.03818932920694351 | Test loss: 0.08886633068323135\n",
      "Loss: 0.03785243630409241\n",
      "Loss: 0.0375034399330616\n",
      "Loss: 0.037164121866226196\n",
      "Loss: 0.03681822493672371\n",
      "Loss: 0.03647511452436447\n",
      "Loss: 0.03613303601741791\n",
      "Loss: 0.03578609973192215\n",
      "Loss: 0.03544783592224121\n",
      "Loss: 0.035098835825920105\n",
      "Loss: 0.03476089984178543\n",
      "Epoch: 70 | Loss: 0.03476089984178543 | Test loss: 0.0805937647819519\n",
      "Loss: 0.03441363573074341\n",
      "Loss: 0.03407188132405281\n",
      "Loss: 0.03372843936085701\n",
      "Loss: 0.03338287025690079\n",
      "Loss: 0.033043231815099716\n",
      "Loss: 0.03269423171877861\n",
      "Loss: 0.032357655465602875\n",
      "Loss: 0.03200903534889221\n",
      "Loss: 0.03166864812374115\n",
      "Loss: 0.03132382780313492\n",
      "Epoch: 80 | Loss: 0.03132382780313492 | Test loss: 0.07232122868299484\n",
      "Loss: 0.030979642644524574\n",
      "Loss: 0.030638623982667923\n",
      "Loss: 0.0302906334400177\n",
      "Loss: 0.029953425750136375\n",
      "Loss: 0.02960442565381527\n",
      "Loss: 0.029265418648719788\n",
      "Loss: 0.028919223695993423\n",
      "Loss: 0.028576409444212914\n",
      "Loss: 0.028234025463461876\n",
      "Loss: 0.02788739837706089\n",
      "Epoch: 90 | Loss: 0.02788739837706089 | Test loss: 0.06473556160926819\n",
      "Loss: 0.02754882536828518\n",
      "Loss: 0.027199819684028625\n",
      "Loss: 0.026862185448408127\n",
      "Loss: 0.02651461586356163\n",
      "Loss: 0.026173178106546402\n",
      "Loss: 0.025829419493675232\n",
      "Loss: 0.02548416517674923\n",
      "Loss: 0.025144213810563087\n",
      "Loss: 0.02479521557688713\n",
      "Loss: 0.024458957836031914\n",
      "Epoch: 100 | Loss: 0.024458957836031914 | Test loss: 0.05646304413676262\n",
      "Loss: 0.024110013619065285\n",
      "Loss: 0.02376994863152504\n",
      "Loss: 0.02342480979859829\n",
      "Loss: 0.023080935701727867\n",
      "Loss: 0.022739607840776443\n",
      "Loss: 0.022391926497220993\n",
      "Loss: 0.022054409608244896\n",
      "Loss: 0.02170540764927864\n",
      "Loss: 0.021366719156503677\n",
      "Loss: 0.021020207554101944\n",
      "Epoch: 110 | Loss: 0.021020207554101944 | Test loss: 0.04819049686193466\n",
      "Loss: 0.020677709951996803\n",
      "Loss: 0.02033500373363495\n",
      "Loss: 0.01998869702219963\n",
      "Loss: 0.019649803638458252\n",
      "Loss: 0.019300809130072594\n",
      "Loss: 0.018963487818837166\n",
      "Loss: 0.01861560344696045\n",
      "Loss: 0.018274478614330292\n",
      "Loss: 0.017930403351783752\n",
      "Loss: 0.01758546568453312\n",
      "Epoch: 120 | Loss: 0.01758546568453312 | Test loss: 0.04060482233762741\n",
      "Loss: 0.017245199531316757\n",
      "Loss: 0.016896454617381096\n",
      "Loss: 0.01656000316143036\n",
      "Loss: 0.016210997477173805\n",
      "Loss: 0.01587124727666378\n",
      "Loss: 0.015525798313319683\n",
      "Loss: 0.015182236209511757\n",
      "Loss: 0.014840595424175262\n",
      "Loss: 0.01449323259294033\n",
      "Loss: 0.014155393466353416\n",
      "Epoch: 130 | Loss: 0.014155393466353416 | Test loss: 0.03233227878808975\n",
      "Loss: 0.013806397095322609\n",
      "Loss: 0.013468016870319843\n",
      "Loss: 0.013121193274855614\n",
      "Loss: 0.01277900766581297\n",
      "Loss: 0.012435992248356342\n",
      "Loss: 0.01208999752998352\n",
      "Loss: 0.011750795878469944\n",
      "Loss: 0.011401787400245667\n",
      "Loss: 0.011064787395298481\n",
      "Loss: 0.010716589167714119\n",
      "Epoch: 140 | Loss: 0.010716589167714119 | Test loss: 0.024059748277068138\n",
      "Loss: 0.010375778190791607\n",
      "Loss: 0.010031387209892273\n",
      "Loss: 0.009686763398349285\n",
      "Loss: 0.009346187114715576\n",
      "Loss: 0.008997755125164986\n",
      "Loss: 0.008660981431603432\n",
      "Loss: 0.008311985060572624\n",
      "Loss: 0.007972544990479946\n",
      "Loss: 0.007626785431057215\n",
      "Loss: 0.0072835334576666355\n",
      "Epoch: 150 | Loss: 0.0072835334576666355 | Test loss: 0.016474086791276932\n",
      "Loss: 0.006941580679267645\n",
      "Loss: 0.006594526115804911\n",
      "Loss: 0.006256377790123224\n",
      "Loss: 0.005907376762479544\n",
      "Loss: 0.005569315515458584\n",
      "Loss: 0.005222178064286709\n",
      "Loss: 0.004880306776612997\n",
      "Loss: 0.004536976106464863\n",
      "Loss: 0.00419129803776741\n",
      "Loss: 0.0038517764769494534\n",
      "Epoch: 160 | Loss: 0.0038517764769494534 | Test loss: 0.008201557211577892\n",
      "Loss: 0.0035027749836444855\n",
      "Loss: 0.0031660839449614286\n",
      "Loss: 0.002817571861669421\n",
      "Loss: 0.0024770735763013363\n",
      "Loss: 0.0021323717664927244\n",
      "Loss: 0.0017880648374557495\n",
      "Loss: 0.0014518328243866563\n",
      "Loss: 0.0011887758737429976\n",
      "Loss: 0.0025885067880153656\n",
      "Loss: 0.008932482451200485\n",
      "Epoch: 170 | Loss: 0.008932482451200485 | Test loss: 0.005023092031478882\n",
      "Loss: 0.0025885067880153656\n",
      "Loss: 0.008932482451200485\n",
      "Loss: 0.0025885067880153656\n",
      "Loss: 0.008932482451200485\n",
      "Loss: 0.0025885067880153656\n",
      "Loss: 0.008932482451200485\n",
      "Loss: 0.0025885067880153656\n",
      "Loss: 0.008932482451200485\n",
      "Loss: 0.0025885067880153656\n",
      "Loss: 0.008932482451200485\n",
      "Epoch: 180 | Loss: 0.008932482451200485 | Test loss: 0.005023092031478882\n",
      "Loss: 0.0025885067880153656\n",
      "Loss: 0.008932482451200485\n",
      "Loss: 0.0025885067880153656\n",
      "Loss: 0.008932482451200485\n",
      "Loss: 0.0025885067880153656\n",
      "Loss: 0.008932482451200485\n",
      "Loss: 0.0025885067880153656\n",
      "Loss: 0.008932482451200485\n",
      "Loss: 0.0025885067880153656\n",
      "Loss: 0.008932482451200485\n",
      "Epoch: 190 | Loss: 0.008932482451200485 | Test loss: 0.005023092031478882\n",
      "Loss: 0.0025885067880153656\n",
      "Loss: 0.008932482451200485\n",
      "Loss: 0.0025885067880153656\n",
      "Loss: 0.008932482451200485\n",
      "Loss: 0.0025885067880153656\n",
      "Loss: 0.008932482451200485\n",
      "Loss: 0.0025885067880153656\n",
      "Loss: 0.008932482451200485\n",
      "Loss: 0.0025885067880153656\n",
      "Loss: 0.008932482451200485\n",
      "Epoch: 200 | Loss: 0.008932482451200485 | Test loss: 0.005023092031478882\n"
     ]
    }
   ],
   "source": [
    "# An epoch is 1 loop through the entire data\n",
    "torch.manual_seed(42)\n",
    "\n",
    "epochs = 201\n",
    "\n",
    "# Track different values\n",
    "epoch_count = []\n",
    "loss_values = []\n",
    "test_loss_values = []\n",
    "\n",
    "# Training\n",
    "# 0. Loop through the data\n",
    "for epoch in range(epochs):\n",
    "    # Set the model to training model\n",
    "\n",
    "    model_zero.train() \n",
    "    # Train mode in PyTorch sets all params that require grads to require grads\n",
    "\n",
    "    # 1. Forward Pass\n",
    "    y_pred = model_zero(X_train)\n",
    "\n",
    "    # 2. Calculate the loss\n",
    "    loss = loss_fn(y_pred, y_train)\n",
    "    print(f\"Loss: {loss}\")\n",
    "\n",
    "    # 3. Optimize zero grad\n",
    "    optimizer.zero_grad()\n",
    "\n",
    "    '''\n",
    "    `requires_grad=True`\n",
    "    Gradients are derivatives, steepness of slope and opposite direction of \n",
    "    gradient is choosen for gradient descent, done by `torch.autograd` mechanism\n",
    "    '''\n",
    "\n",
    "    # 4. Perform backpropagation on the loss with respect to params of the model\n",
    "    loss.backward()\n",
    "\n",
    "    # 5. Step the Optimizer (Perform Gradient Descent)\n",
    "    optimizer.step() \n",
    "    '''\n",
    "    By default, how the optimizer changes will accumulate through the loop \n",
    "    So we have to zero above for next iteration, done for efficiency\n",
    "    '''\n",
    "    \n",
    "    # Testing Mode\n",
    "    model_zero.eval() # Turns off setting needed to test the model settings not needed for evaluation/testing\n",
    "\n",
    "    with torch.inference_mode(): # Turns off grad tracking, faster performance\n",
    "\n",
    "        # 1. Do the forward pass\n",
    "        test_pred = model_zero(X_test)\n",
    "\n",
    "        # 2. Calculate the loss\n",
    "        test_loss = loss_fn(test_pred, y_test)\n",
    "\n",
    "    if (epoch % 10 == 0):\n",
    "        epoch_count.append(epoch)\n",
    "        loss_values.append(loss)\n",
    "        test_loss_values.append(test_loss)\n",
    "        \n",
    "        print(f'Epoch: {epoch} | Loss: {loss} | Test loss: {test_loss}')\n",
    "\n",
    "\n",
    "    # Print model state dict\n",
    "    # print(\"Parameter Status: \", model_zero.state_dict())"
   ]
  },
  {
   "cell_type": "markdown",
   "id": "11127739",
   "metadata": {},
   "source": [
    "### Checking what happens at each step per epoch"
   ]
  },
  {
   "cell_type": "code",
   "execution_count": 21,
   "id": "e6ab1b2f",
   "metadata": {},
   "outputs": [
    {
     "data": {
      "text/plain": [
       "OrderedDict([('weights', tensor([0.6951])), ('bias', tensor([0.2993]))])"
      ]
     },
     "execution_count": 21,
     "metadata": {},
     "output_type": "execute_result"
    }
   ],
   "source": [
    "# Check Parameters after some epochs\n",
    "model_zero.state_dict()"
   ]
  },
  {
   "cell_type": "code",
   "execution_count": 22,
   "id": "3b44bd76",
   "metadata": {},
   "outputs": [
    {
     "data": {
      "image/png": "[encoded data removed]",
      "text/plain": [
       "<Figure size 1000x700 with 1 Axes>"
      ]
     },
     "metadata": {},
     "output_type": "display_data"
    }
   ],
   "source": [
    "# Current Plot\n",
    "with torch.inference_mode():\n",
    "    y_pred_new = model_zero(X_test)\n",
    "plot_predictions(predictions=y_pred_new)"
   ]
  },
  {
   "cell_type": "code",
   "execution_count": 23,
   "id": "935cba68",
   "metadata": {},
   "outputs": [],
   "source": [
    "# epoch_count, loss_values, test_loss_values"
   ]
  },
  {
   "cell_type": "code",
   "execution_count": 24,
   "id": "f4ec4311",
   "metadata": {},
   "outputs": [
    {
     "data": {
      "text/plain": [
       "<matplotlib.legend.Legend at 0x2390d003ad0>"
      ]
     },
     "execution_count": 24,
     "metadata": {},
     "output_type": "execute_result"
    },
    {
     "data": {
      "image/png": "[encoded data removed]",
      "text/plain": [
       "<Figure size 640x480 with 1 Axes>"
      ]
     },
     "metadata": {},
     "output_type": "display_data"
    }
   ],
   "source": [
    "# Matplotlib works with Numpy hence it works with CPU\n",
    "'''\n",
    "We are storing the values into a list\n",
    "So, we first convert into a Tensor then into a NumPy Array\n",
    "`.cpu()` can be used to shift Tensor from GPU to CPU\n",
    "'''\n",
    "\n",
    "plt.plot(epoch_count, torch.tensor(loss_values).cpu().numpy(), label=\"Train Loss\")\n",
    "plt.plot(epoch_count, torch.tensor(test_loss_values).numpy(), label=\"Test Loss\")\n",
    "plt.title(\"Training and Test Loss Curves\")\n",
    "plt.ylabel('Loss')\n",
    "plt.xlabel('Epochs')\n",
    "plt.legend()"
   ]
  },
  {
   "cell_type": "markdown",
   "id": "f59520a2",
   "metadata": {},
   "source": [
    "### Saving the model in PyTorch\n",
    "\n",
    "3 Main Methods to Save and Load Models in PyTorch\n",
    "\n",
    "- `torch.save()`: Allows to save a PyTorch object in Python's Pickle format\n",
    "\n",
    "- `torch.load()`: Allows to load a saved PyTorch object\n",
    "\n",
    "- `torch.nn.Module.load_state_dict()`: This allows to load a model's saved state dictionary (Parameter Status) (Recommended)"
   ]
  },
  {
   "cell_type": "code",
   "execution_count": 25,
   "id": "75ba902d",
   "metadata": {},
   "outputs": [
    {
     "name": "stdout",
     "output_type": "stream",
     "text": [
      "Saving model to Models\\01_pytorch_workflow_model_zero.pth\n"
     ]
    }
   ],
   "source": [
    "from pathlib import Path\n",
    "# 1. Create Model Directory\n",
    "MODEL_PATH = Path('Models') # Directory Name\n",
    "MODEL_PATH.mkdir(parents=True, exist_ok=True) \n",
    "# Create any missing parent directories, Example: Path(a/b/c)\n",
    "\n",
    "# 2. Create model save path\n",
    "MODEL_NAME = '01_pytorch_workflow_model_zero.pth' # .pt or .pth\n",
    "MODEL_SAVE_PATH = MODEL_PATH / MODEL_NAME\n",
    "\n",
    "print(f'Saving model to {MODEL_SAVE_PATH}')\n",
    "torch.save(obj=model_zero.state_dict(), \n",
    "           f=MODEL_SAVE_PATH)\n"
   ]
  },
  {
   "cell_type": "code",
   "execution_count": 26,
   "id": "a266e726",
   "metadata": {},
   "outputs": [
    {
     "name": "stdout",
     "output_type": "stream",
     "text": [
      "Existing Model: OrderedDict({'weights': tensor([0.6951]), 'bias': tensor([0.2993])})\n",
      "Loaded Model: OrderedDict({'weights': tensor([0.6951]), 'bias': tensor([0.2993])})\n"
     ]
    },
    {
     "name": "stderr",
     "output_type": "stream",
     "text": [
      "C:\\Users\\prash\\AppData\\Local\\Temp\\ipykernel_28968\\1695659923.py:5: FutureWarning: You are using `torch.load` with `weights_only=False` (the current default value), which uses the default pickle module implicitly. It is possible to construct malicious pickle data which will execute arbitrary code during unpickling (See https://github.com/pytorch/pytorch/blob/main/SECURITY.md#untrusted-models for more details). In a future release, the default value for `weights_only` will be flipped to `True`. This limits the functions that could be executed during unpickling. Arbitrary objects will no longer be allowed to be loaded via this mode unless they are explicitly allowlisted by the user via `torch.serialization.add_safe_globals`. We recommend you start setting `weights_only=True` for any use case where you don't have full control of the loaded file. Please open an issue on GitHub for any issues related to this experimental feature.\n",
      "  model_zero_ld.load_state_dict(torch.load(f=MODEL_SAVE_PATH))\n"
     ]
    }
   ],
   "source": [
    "# Loading the Model - Create new instance of model class\n",
    "model_zero_ld = LinearRegression()\n",
    "\n",
    "# Load the saved `state_dict()`\n",
    "model_zero_ld.load_state_dict(torch.load(f=MODEL_SAVE_PATH))\n",
    "\n",
    "# ALL KEY MATCHED SUCCESSFULLY\n",
    "\n",
    "print(f'Existing Model: {model_zero.state_dict()}')\n",
    "print(f'Loaded Model: {model_zero_ld.state_dict()}') # Both same"
   ]
  },
  {
   "cell_type": "code",
   "execution_count": 27,
   "id": "32a280f7",
   "metadata": {},
   "outputs": [
    {
     "data": {
      "text/plain": [
       "tensor([[0.8554],\n",
       "        [0.8693],\n",
       "        [0.8832],\n",
       "        [0.8971],\n",
       "        [0.9110],\n",
       "        [0.9249],\n",
       "        [0.9388],\n",
       "        [0.9527],\n",
       "        [0.9666],\n",
       "        [0.9805]])"
      ]
     },
     "execution_count": 27,
     "metadata": {},
     "output_type": "execute_result"
    }
   ],
   "source": [
    "# Make predictions using loaded model\n",
    "model_zero_ld.eval()\n",
    "\n",
    "with torch.inference_mode():\n",
    "    loaded_pred = model_zero_ld(X_test)\n",
    "\n",
    "loaded_pred"
   ]
  },
  {
   "cell_type": "code",
   "execution_count": 28,
   "id": "96a13234",
   "metadata": {},
   "outputs": [
    {
     "data": {
      "text/plain": [
       "tensor([[0.8554],\n",
       "        [0.8693],\n",
       "        [0.8832],\n",
       "        [0.8971],\n",
       "        [0.9110],\n",
       "        [0.9249],\n",
       "        [0.9388],\n",
       "        [0.9527],\n",
       "        [0.9666],\n",
       "        [0.9805]])"
      ]
     },
     "execution_count": 28,
     "metadata": {},
     "output_type": "execute_result"
    }
   ],
   "source": [
    "# Predictions for original model\n",
    "model_zero.eval()\n",
    "\n",
    "with torch.inference_mode():\n",
    "    y_pred = model_zero(X_test)\n",
    "\n",
    "y_pred"
   ]
  },
  {
   "cell_type": "code",
   "execution_count": 29,
   "id": "f77b6d83",
   "metadata": {},
   "outputs": [
    {
     "data": {
      "text/plain": [
       "tensor([[True],\n",
       "        [True],\n",
       "        [True],\n",
       "        [True],\n",
       "        [True],\n",
       "        [True],\n",
       "        [True],\n",
       "        [True],\n",
       "        [True],\n",
       "        [True]])"
      ]
     },
     "execution_count": 29,
     "metadata": {},
     "output_type": "execute_result"
    }
   ],
   "source": [
    "# Comparing loaded model preds with original model preds\n",
    "y_pred == loaded_pred"
   ]
  },
  {
   "cell_type": "markdown",
   "id": "e3527b3e",
   "metadata": {},
   "source": [
    "## 👆 **Putting it all together**\n",
    "\n",
    "Piece together everything in 1 place"
   ]
  },
  {
   "cell_type": "markdown",
   "id": "aca7bae7",
   "metadata": {},
   "source": [
    "### Data"
   ]
  },
  {
   "cell_type": "markdown",
   "id": "526bc2a7",
   "metadata": {},
   "source": [
    "**Importing Dependencies**\n"
   ]
  },
  {
   "cell_type": "code",
   "execution_count": 30,
   "id": "30bbfd99",
   "metadata": {},
   "outputs": [
    {
     "data": {
      "text/plain": [
       "'2.4.1'"
      ]
     },
     "execution_count": 30,
     "metadata": {},
     "output_type": "execute_result"
    }
   ],
   "source": [
    "import torch\n",
    "from torch import nn\n",
    "import matplotlib.pyplot as plt\n",
    "\n",
    "torch.__version__"
   ]
  },
  {
   "cell_type": "markdown",
   "id": "c0019d5f",
   "metadata": {},
   "source": [
    "**Device-agnostic code**"
   ]
  },
  {
   "cell_type": "code",
   "execution_count": 31,
   "id": "65e0dc5b",
   "metadata": {},
   "outputs": [
    {
     "name": "stdout",
     "output_type": "stream",
     "text": [
      "Device in use: cuda\n"
     ]
    }
   ],
   "source": [
    "device = 'cuda' if torch.cuda.is_available() else 'cpu'\n",
    "print(f'Device in use: {device}')"
   ]
  },
  {
   "cell_type": "markdown",
   "id": "a3e21510",
   "metadata": {},
   "source": [
    "Creating data using Linear Regression: **y = weight * X + bias**"
   ]
  },
  {
   "cell_type": "code",
   "execution_count": 32,
   "id": "f28dde47",
   "metadata": {},
   "outputs": [
    {
     "data": {
      "text/plain": [
       "(torch.Size([50, 1]), torch.Size([50, 1]))"
      ]
     },
     "execution_count": 32,
     "metadata": {},
     "output_type": "execute_result"
    }
   ],
   "source": [
    "weight = 0.6\n",
    "bias = 0.2\n",
    "\n",
    "# Create range of values\n",
    "start = 0\n",
    "end = 1\n",
    "step = 0.020\n",
    "\n",
    "# Create X and y features\n",
    "X = torch.arange(start, end, step).unsqueeze(dim=1) # Adds a dim to reduce errors\n",
    "y = weight * X + bias\n",
    "\n",
    "X.shape, y.shape"
   ]
  },
  {
   "cell_type": "code",
   "execution_count": 33,
   "id": "27b23147",
   "metadata": {},
   "outputs": [
    {
     "data": {
      "text/plain": [
       "(tensor([[0.0000],\n",
       "         [0.0200],\n",
       "         [0.0400],\n",
       "         [0.0600],\n",
       "         [0.0800],\n",
       "         [0.1000],\n",
       "         [0.1200],\n",
       "         [0.1400],\n",
       "         [0.1600],\n",
       "         [0.1800]]),\n",
       " tensor([[0.2000],\n",
       "         [0.2120],\n",
       "         [0.2240],\n",
       "         [0.2360],\n",
       "         [0.2480],\n",
       "         [0.2600],\n",
       "         [0.2720],\n",
       "         [0.2840],\n",
       "         [0.2960],\n",
       "         [0.3080]]))"
      ]
     },
     "execution_count": 33,
     "metadata": {},
     "output_type": "execute_result"
    }
   ],
   "source": [
    "# Checking the data\n",
    "X[:10], y[:10]"
   ]
  },
  {
   "cell_type": "code",
   "execution_count": 34,
   "id": "52f40296",
   "metadata": {},
   "outputs": [
    {
     "data": {
      "text/plain": [
       "(35, 35, 15, 15)"
      ]
     },
     "execution_count": 34,
     "metadata": {},
     "output_type": "execute_result"
    }
   ],
   "source": [
    "# Split the data - Train and Test Split\n",
    "train_split = int(0.7 * len(X))\n",
    "X_train, y_train = X[:train_split], y[:train_split]\n",
    "X_test, y_test = X[train_split:], y[train_split:]\n",
    "\n",
    "len(X_train), len(y_train), len(X_test), len(y_test)\n"
   ]
  },
  {
   "cell_type": "code",
   "execution_count": 35,
   "id": "f28b347d",
   "metadata": {},
   "outputs": [],
   "source": [
    "# Plot the data\n",
    "def plot_predictions_new(train_data=X_train,\n",
    "                         train_labels=y_train,\n",
    "                         test_data=X_test,\n",
    "                         test_labels=y_test,\n",
    "                         predictions=None):\n",
    "    plt.figure(figsize=(10, 7))\n",
    "\n",
    "    # Plot the training data\n",
    "    plt.scatter(train_data, train_labels, c='g', label='Training Data')\n",
    "\n",
    "    # Plot the testing data\n",
    "    plt.scatter(test_data, test_labels, c='b', label='Testing Data')\n",
    "\n",
    "    # In case of Predictions\n",
    "    if predictions is not None:\n",
    "        plt.scatter(test_data, predictions, c='r', label='Predictions')\n",
    "\n",
    "    plt.legend(prop={'size':12});"
   ]
  },
  {
   "cell_type": "code",
   "execution_count": 36,
   "id": "7bd2e6a1",
   "metadata": {},
   "outputs": [
    {
     "data": {
      "image/png": "[encoded data removed]",
      "text/plain": [
       "<Figure size 1000x700 with 1 Axes>"
      ]
     },
     "metadata": {},
     "output_type": "display_data"
    }
   ],
   "source": [
    "# Plotting initial data\n",
    "plot_predictions_new();"
   ]
  },
  {
   "cell_type": "markdown",
   "id": "45346aba",
   "metadata": {},
   "source": [
    "Building a **Linear Regression Model Class**\n",
    "\n",
    "`nn.Linear()` implements **Linear Regression** for us"
   ]
  },
  {
   "cell_type": "code",
   "execution_count": 37,
   "id": "589c54ec",
   "metadata": {},
   "outputs": [
    {
     "data": {
      "text/plain": [
       "(LinearRegressionModel(\n",
       "   (linear_layer): Linear(in_features=1, out_features=1, bias=True)\n",
       " ),\n",
       " OrderedDict([('linear_layer.weight', tensor([[0.7645]])),\n",
       "              ('linear_layer.bias', tensor([0.8300]))]))"
      ]
     },
     "execution_count": 37,
     "metadata": {},
     "output_type": "execute_result"
    }
   ],
   "source": [
    "class LinearRegressionModel(nn.Module):\n",
    "    def __init__(self):\n",
    "        super().__init__()\n",
    "        # Use nn.Linear() for creating Model Parameters - Layer Initialization\n",
    "        # Also called Linear layer, Probing layer, Dense layer etc\n",
    "        self.linear_layer = nn.Linear(in_features=1,\n",
    "                                      out_features=1) \n",
    "        # One in-feature to one out-feature\n",
    "\n",
    "    def forward(self, x: torch.Tensor) -> torch.Tensor:\n",
    "        return self.linear_layer(x) # Pass the input through a linear layer\n",
    "    \n",
    "# Set the manual seed\n",
    "torch.manual_seed(42)\n",
    "\n",
    "model_one = LinearRegressionModel()\n",
    "model_one, model_one.state_dict()\n",
    "    "
   ]
  },
  {
   "cell_type": "code",
   "execution_count": 38,
   "id": "5ed3dd73",
   "metadata": {},
   "outputs": [
    {
     "data": {
      "text/plain": [
       "device(type='cpu')"
      ]
     },
     "execution_count": 38,
     "metadata": {},
     "output_type": "execute_result"
    }
   ],
   "source": [
    "# Check current model device\n",
    "next(model_one.parameters()).device # CPU"
   ]
  },
  {
   "cell_type": "code",
   "execution_count": 39,
   "id": "504e8690",
   "metadata": {},
   "outputs": [
    {
     "data": {
      "text/plain": [
       "device(type='cuda', index=0)"
      ]
     },
     "execution_count": 39,
     "metadata": {},
     "output_type": "execute_result"
    }
   ],
   "source": [
    "# Shifting model to GPU\n",
    "model_one.to(device)\n",
    "next(model_one.parameters()).device # GPU"
   ]
  },
  {
   "cell_type": "markdown",
   "id": "8371470d",
   "metadata": {},
   "source": [
    "**Training Code**\n",
    "\n",
    "- Loss Function\n",
    "- Optimizer \n",
    "- Training Loop\n",
    "- Testing Loop"
   ]
  },
  {
   "cell_type": "code",
   "execution_count": 40,
   "id": "7b88a1f0",
   "metadata": {},
   "outputs": [],
   "source": [
    "# Setup a loss function \n",
    "loss_fn_new = nn.L1Loss() # MAE\n",
    "\n",
    "# Setup an optimizer\n",
    "optimizer_new = torch.optim.SGD(params=model_one.parameters(),\n",
    "                                lr=0.01)"
   ]
  },
  {
   "cell_type": "code",
   "execution_count": 41,
   "id": "908e09eb",
   "metadata": {},
   "outputs": [
    {
     "name": "stdout",
     "output_type": "stream",
     "text": [
      "Epoch: 0 | Train Loss: 0.6859509944915771 | Test Loss: 0.7553642392158508\n",
      "Epoch: 10 | Train Loss: 0.5743909478187561 | Test Loss: 0.6268041133880615\n",
      "Epoch: 20 | Train Loss: 0.4628310203552246 | Test Loss: 0.4982439875602722\n",
      "Epoch: 30 | Train Loss: 0.35127100348472595 | Test Loss: 0.3696838617324829\n",
      "Epoch: 40 | Train Loss: 0.2397110015153885 | Test Loss: 0.24112369120121002\n",
      "Epoch: 50 | Train Loss: 0.12815099954605103 | Test Loss: 0.11256355047225952\n",
      "Epoch: 60 | Train Loss: 0.016590973362326622 | Test Loss: 0.015996627509593964\n",
      "Epoch: 70 | Train Loss: 0.005357471760362387 | Test Loss: 0.014066236093640327\n",
      "Epoch: 80 | Train Loss: 0.0026289012748748064 | Test Loss: 0.006772629916667938\n",
      "Epoch: 90 | Train Loss: 0.0055193244479596615 | Test Loss: 0.010576991364359856\n",
      "Epoch: 100 | Train Loss: 0.0055193244479596615 | Test Loss: 0.010576991364359856\n",
      "Epoch: 110 | Train Loss: 0.0055193244479596615 | Test Loss: 0.010576991364359856\n",
      "Epoch: 120 | Train Loss: 0.0055193244479596615 | Test Loss: 0.010576991364359856\n",
      "Epoch: 130 | Train Loss: 0.0055193244479596615 | Test Loss: 0.010576991364359856\n",
      "Epoch: 140 | Train Loss: 0.0055193244479596615 | Test Loss: 0.010576991364359856\n",
      "Epoch: 150 | Train Loss: 0.0055193244479596615 | Test Loss: 0.010576991364359856\n",
      "Epoch: 160 | Train Loss: 0.0055193244479596615 | Test Loss: 0.010576991364359856\n",
      "Epoch: 170 | Train Loss: 0.0055193244479596615 | Test Loss: 0.010576991364359856\n",
      "Epoch: 180 | Train Loss: 0.0055193244479596615 | Test Loss: 0.010576991364359856\n",
      "Epoch: 190 | Train Loss: 0.0055193244479596615 | Test Loss: 0.010576991364359856\n",
      "Epoch: 200 | Train Loss: 0.0055193244479596615 | Test Loss: 0.010576991364359856\n"
     ]
    }
   ],
   "source": [
    "# Construct a training loop\n",
    "torch.manual_seed(42)\n",
    "\n",
    "# Device agnostic code on the data\n",
    "X_train = X_train.to(device)\n",
    "y_train = y_train.to(device)\n",
    "X_test = X_test.to(device)\n",
    "y_test = y_test.to(device)\n",
    "\n",
    "epochs = 201\n",
    "epoch_count = []\n",
    "train_loss_vals = []\n",
    "test_loss_vals = []\n",
    "\n",
    "for epoch in range(epochs):\n",
    "\n",
    "    model_one.train()\n",
    "\n",
    "    # Forward Pass\n",
    "    y_pred = model_one(X_train)\n",
    "\n",
    "    # Loss Calculation\n",
    "    train_loss = loss_fn_new(y_pred, y_train)\n",
    "\n",
    "    # Optimizer Zero Grad\n",
    "    optimizer_new.zero_grad()\n",
    "\n",
    "    # Backward Pass\n",
    "    train_loss.backward()\n",
    "\n",
    "    # Step the optimizer, which way to optimize the params\n",
    "    optimizer_new.step()\n",
    "\n",
    "    # Testing\n",
    "    model_one.eval() # Turn off settings like Drop Out, Norm layers\n",
    "\n",
    "    with torch.inference_mode():\n",
    "        test_pred = model_one(X_test)\n",
    "    \n",
    "        test_loss = loss_fn_new(test_pred, y_test)\n",
    "\n",
    "    # Print out what's happening\n",
    "\n",
    "    if epoch % 10 == 0:\n",
    "\n",
    "        epoch_count.append(epoch)\n",
    "        train_loss_vals.append(train_loss)\n",
    "        test_loss_vals.append(test_loss)\n",
    "\n",
    "        print(f'Epoch: {epoch} | Train Loss: {train_loss} | Test Loss: {test_loss}')"
   ]
  },
  {
   "cell_type": "code",
   "execution_count": 42,
   "id": "1efa4012",
   "metadata": {},
   "outputs": [
    {
     "data": {
      "text/plain": [
       "(OrderedDict([('linear_layer.weight', tensor([[0.5901]], device='cuda:0')),\n",
       "              ('linear_layer.bias', tensor([0.1977], device='cuda:0'))]),\n",
       " 0.6,\n",
       " 0.2)"
      ]
     },
     "execution_count": 42,
     "metadata": {},
     "output_type": "execute_result"
    }
   ],
   "source": [
    "model_one.state_dict(), weight, bias"
   ]
  },
  {
   "cell_type": "code",
   "execution_count": 43,
   "id": "20b43fce",
   "metadata": {},
   "outputs": [
    {
     "name": "stdout",
     "output_type": "stream",
     "text": [
      "tensor([[0.6108],\n",
      "        [0.6226],\n",
      "        [0.6344],\n",
      "        [0.6462],\n",
      "        [0.6580],\n",
      "        [0.6698],\n",
      "        [0.6816],\n",
      "        [0.6934],\n",
      "        [0.7052],\n",
      "        [0.7170],\n",
      "        [0.7288],\n",
      "        [0.7406],\n",
      "        [0.7524],\n",
      "        [0.7642],\n",
      "        [0.7760]], device='cuda:0')\n",
      "tensor([[0.6200],\n",
      "        [0.6320],\n",
      "        [0.6440],\n",
      "        [0.6560],\n",
      "        [0.6680],\n",
      "        [0.6800],\n",
      "        [0.6920],\n",
      "        [0.7040],\n",
      "        [0.7160],\n",
      "        [0.7280],\n",
      "        [0.7400],\n",
      "        [0.7520],\n",
      "        [0.7640],\n",
      "        [0.7760],\n",
      "        [0.7880]], device='cuda:0')\n"
     ]
    }
   ],
   "source": [
    "# Evaluating \n",
    "model_one.eval()\n",
    "with torch.inference_mode():\n",
    "    y_pred = model_one(X_test)\n",
    "    print(y_pred)\n",
    "    print(y_test)"
   ]
  },
  {
   "cell_type": "code",
   "execution_count": 44,
   "id": "be6b789c",
   "metadata": {},
   "outputs": [
    {
     "data": {
      "image/png": "[encoded data removed]",
      "text/plain": [
       "<Figure size 1000x700 with 1 Axes>"
      ]
     },
     "metadata": {},
     "output_type": "display_data"
    }
   ],
   "source": [
    "# Plotting Predictions\n",
    "plot_predictions_new(predictions=y_pred.cpu()) \n",
    "# Shift to CPU since matplotlib works on CPU"
   ]
  },
  {
   "cell_type": "code",
   "execution_count": 45,
   "id": "d43461cd",
   "metadata": {},
   "outputs": [
    {
     "data": {
      "text/plain": [
       "<matplotlib.legend.Legend at 0x2393df35e80>"
      ]
     },
     "execution_count": 45,
     "metadata": {},
     "output_type": "execute_result"
    },
    {
     "data": {
      "image/png": "[encoded data removed]",
      "text/plain": [
       "<Figure size 640x480 with 1 Axes>"
      ]
     },
     "metadata": {},
     "output_type": "display_data"
    }
   ],
   "source": [
    "# Plotting Loss Curve\n",
    "plt.plot(epoch_count, torch.tensor(train_loss_vals).numpy(), label='Training Loss')\n",
    "\n",
    "plt.plot(epoch_count, torch.tensor(test_loss_vals).numpy(), label='Testing Loss')\n",
    "\n",
    "plt.legend()"
   ]
  },
  {
   "cell_type": "code",
   "execution_count": 46,
   "id": "4d5be36f",
   "metadata": {},
   "outputs": [
    {
     "name": "stdout",
     "output_type": "stream",
     "text": [
      "01_pytorch_workflow_model_one.pth successfully saved to Models\\01_pytorch_workflow_model_one.pth\n"
     ]
    }
   ],
   "source": [
    "# Saving the new Model\n",
    "from pathlib import Path\n",
    "modelpath = Path('Models')\n",
    "modelpath.mkdir(parents=True, exist_ok=True)\n",
    "\n",
    "modelname = '01_pytorch_workflow_model_one.pth'\n",
    "\n",
    "modelsavepath = modelpath / modelname\n",
    "\n",
    "torch.save(obj=model_one.state_dict(),\n",
    "           f=modelsavepath)\n",
    "\n",
    "print(f'{modelname} successfully saved to {modelsavepath}')"
   ]
  },
  {
   "cell_type": "code",
   "execution_count": 47,
   "id": "5ea42ead",
   "metadata": {},
   "outputs": [
    {
     "name": "stderr",
     "output_type": "stream",
     "text": [
      "C:\\Users\\prash\\AppData\\Local\\Temp\\ipykernel_28968\\4038236444.py:7: FutureWarning: You are using `torch.load` with `weights_only=False` (the current default value), which uses the default pickle module implicitly. It is possible to construct malicious pickle data which will execute arbitrary code during unpickling (See https://github.com/pytorch/pytorch/blob/main/SECURITY.md#untrusted-models for more details). In a future release, the default value for `weights_only` will be flipped to `True`. This limits the functions that could be executed during unpickling. Arbitrary objects will no longer be allowed to be loaded via this mode unless they are explicitly allowlisted by the user via `torch.serialization.add_safe_globals`. We recommend you start setting `weights_only=True` for any use case where you don't have full control of the loaded file. Please open an issue on GitHub for any issues related to this experimental feature.\n",
      "  model_one_ld.load_state_dict(torch.load(f=modelsavepath))\n"
     ]
    },
    {
     "data": {
      "text/plain": [
       "device(type='cuda', index=0)"
      ]
     },
     "execution_count": 47,
     "metadata": {},
     "output_type": "execute_result"
    }
   ],
   "source": [
    "# Loading the new Model\n",
    "\n",
    "# Create new model sub-class\n",
    "model_one_ld = LinearRegressionModel()\n",
    "\n",
    "# Load the model state dict\n",
    "model_one_ld.load_state_dict(torch.load(f=modelsavepath))\n",
    "\n",
    "# Put the loaded model to device\n",
    "model_one_ld.to(device)\n",
    "\n",
    "next(model_one_ld.parameters()).device"
   ]
  },
  {
   "cell_type": "code",
   "execution_count": 48,
   "id": "55823387",
   "metadata": {},
   "outputs": [
    {
     "data": {
      "text/plain": [
       "(OrderedDict([('linear_layer.weight', tensor([[0.5901]], device='cuda:0')),\n",
       "              ('linear_layer.bias', tensor([0.1977], device='cuda:0'))]),\n",
       " OrderedDict([('linear_layer.weight', tensor([[0.5901]], device='cuda:0')),\n",
       "              ('linear_layer.bias', tensor([0.1977], device='cuda:0'))]))"
      ]
     },
     "execution_count": 48,
     "metadata": {},
     "output_type": "execute_result"
    }
   ],
   "source": [
    "model_one.state_dict(), model_one_ld.state_dict() # Same"
   ]
  },
  {
   "cell_type": "code",
   "execution_count": 50,
   "id": "b8312d17",
   "metadata": {},
   "outputs": [
    {
     "data": {
      "text/plain": [
       "tensor([[True],\n",
       "        [True],\n",
       "        [True],\n",
       "        [True],\n",
       "        [True],\n",
       "        [True],\n",
       "        [True],\n",
       "        [True],\n",
       "        [True],\n",
       "        [True],\n",
       "        [True],\n",
       "        [True],\n",
       "        [True],\n",
       "        [True],\n",
       "        [True]], device='cuda:0')"
      ]
     },
     "execution_count": 50,
     "metadata": {},
     "output_type": "execute_result"
    }
   ],
   "source": [
    "# Evaluate the loaded model\n",
    "model_one_ld.eval()\n",
    "\n",
    "with torch.inference_mode():\n",
    "    y_pred_ld = model_one_ld(X_test)\n",
    "\n",
    "y_pred_ld == y_pred # Same thing, Same device"
   ]
  }
 ],
 "metadata": {
  "kernelspec": {
   "display_name": "base",
   "language": "python",
   "name": "python3"
  },
  "language_info": {
   "codemirror_mode": {
    "name": "ipython",
    "version": 3
   },
   "file_extension": ".py",
   "mimetype": "text/x-python",
   "name": "python",
   "nbconvert_exporter": "python",
   "pygments_lexer": "ipython3",
   "version": "3.12.3"
  }
 },
 "nbformat": 4,
 "nbformat_minor": 5
}
